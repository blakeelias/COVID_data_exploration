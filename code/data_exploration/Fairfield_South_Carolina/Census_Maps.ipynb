{
 "cells": [
  {
   "cell_type": "code",
   "execution_count": 2,
   "metadata": {},
   "outputs": [],
   "source": [
    "import os\n",
    "from pathlib import Path\n",
    "import json\n",
    "import linecache\n",
    "\n",
    "import pandas as pd\n",
    "import geopandas as gpd \n",
    "import matplotlib.pyplot as plt\n",
    "import folium \n",
    "from shapely.ops import nearest_points\n",
    "from shapely.geometry import LineString"
   ]
  },
  {
   "cell_type": "code",
   "execution_count": 3,
   "metadata": {},
   "outputs": [],
   "source": [
    "DATA_PATH = Path('/data/safegraph/safegraph_open_census_data')\n",
    "PREPROCESSED_DATA_PATH = Path('../../../data/preprocessed/safegraph/safegraph_open_census_data')"
   ]
  },
  {
   "cell_type": "code",
   "execution_count": 4,
   "metadata": {},
   "outputs": [
    {
     "data": {
      "text/html": [
       "<div>\n",
       "<style scoped>\n",
       "    .dataframe tbody tr th:only-of-type {\n",
       "        vertical-align: middle;\n",
       "    }\n",
       "\n",
       "    .dataframe tbody tr th {\n",
       "        vertical-align: top;\n",
       "    }\n",
       "\n",
       "    .dataframe thead th {\n",
       "        text-align: right;\n",
       "    }\n",
       "</style>\n",
       "<table border=\"1\" class=\"dataframe\">\n",
       "  <thead>\n",
       "    <tr style=\"text-align: right;\">\n",
       "      <th></th>\n",
       "      <th>table_id</th>\n",
       "      <th>field_full_name</th>\n",
       "      <th>field_level_1</th>\n",
       "      <th>field_level_2</th>\n",
       "      <th>field_level_3</th>\n",
       "      <th>field_level_4</th>\n",
       "      <th>field_level_5</th>\n",
       "      <th>field_level_6</th>\n",
       "      <th>field_level_7</th>\n",
       "      <th>field_level_8</th>\n",
       "    </tr>\n",
       "  </thead>\n",
       "  <tbody>\n",
       "    <tr>\n",
       "      <th>4</th>\n",
       "      <td>B01001e1</td>\n",
       "      <td>SEX BY AGE: Total: Total population -- (Estimate)</td>\n",
       "      <td>Sex By Age</td>\n",
       "      <td>Total</td>\n",
       "      <td>Total Population -- (Estimate)</td>\n",
       "      <td>NaN</td>\n",
       "      <td>NaN</td>\n",
       "      <td>NaN</td>\n",
       "      <td>NaN</td>\n",
       "      <td>NaN</td>\n",
       "    </tr>\n",
       "    <tr>\n",
       "      <th>3094</th>\n",
       "      <td>B19013e1</td>\n",
       "      <td>MEDIAN HOUSEHOLD INCOME IN THE PAST 12 MONTHS ...</td>\n",
       "      <td>Median Household Income In The Past 12 Months ...</td>\n",
       "      <td>Total</td>\n",
       "      <td>Households -- (Estimate)</td>\n",
       "      <td>NaN</td>\n",
       "      <td>NaN</td>\n",
       "      <td>NaN</td>\n",
       "      <td>NaN</td>\n",
       "      <td>NaN</td>\n",
       "    </tr>\n",
       "  </tbody>\n",
       "</table>\n",
       "</div>"
      ],
      "text/plain": [
       "      table_id                                    field_full_name  \\\n",
       "4     B01001e1  SEX BY AGE: Total: Total population -- (Estimate)   \n",
       "3094  B19013e1  MEDIAN HOUSEHOLD INCOME IN THE PAST 12 MONTHS ...   \n",
       "\n",
       "                                          field_level_1 field_level_2  \\\n",
       "4                                            Sex By Age         Total   \n",
       "3094  Median Household Income In The Past 12 Months ...         Total   \n",
       "\n",
       "                        field_level_3 field_level_4 field_level_5  \\\n",
       "4      Total Population -- (Estimate)           NaN           NaN   \n",
       "3094         Households -- (Estimate)           NaN           NaN   \n",
       "\n",
       "     field_level_6 field_level_7 field_level_8  \n",
       "4              NaN           NaN           NaN  \n",
       "3094           NaN           NaN           NaN  "
      ]
     },
     "execution_count": 4,
     "metadata": {},
     "output_type": "execute_result"
    }
   ],
   "source": [
    "# See: https://www.safegraph.com/blog/beginners-guide-to-census\n",
    "    \n",
    "table_ids = [\n",
    "    'B01001e1',   # Total Population\n",
    "    'B19013e1',   # Median Household Income\n",
    "]\n",
    "\n",
    "cbg_field_desc = pd.read_csv(DATA_PATH / 'metadata/cbg_field_descriptions.csv')\n",
    "cbg_field_desc[cbg_field_desc.table_id.isin(table_ids)]"
   ]
  },
  {
   "cell_type": "code",
   "execution_count": 6,
   "metadata": {},
   "outputs": [
    {
     "name": "stdout",
     "output_type": "stream",
     "text": [
      "^C\n",
      "^C\n",
      "^C\n"
     ]
    }
   ],
   "source": [
    "# Only needs to be run once\n",
    "county_fips_code = '45039'  # Fairfield County, South Carolina\n",
    "\n",
    "!mkdir -p {PREPROCESSED_DATA_PATH}\n",
    "census_data_file_names = !ls {DATA_PATH}/data/ | grep [0-9] #  | cut -f 1 -d .  # eliminate .csv suffix\n",
    "county_directory = PREPROCESSED_DATA_PATH / \"data/county\" / county_fips_code\n",
    "!mkdir -p {county_directory}\n",
    "for file_name in census_data_file_names:\n",
    "    !touch {county_directory}/{file_name}\n",
    "    !head -n 1 \"{DATA_PATH}/data/{file_name}\" > {county_directory}/{file_name}\n",
    "    !cat \"{DATA_PATH}/data/{file_name}\" | grep ^{county_fips_code}.*$ >> {county_directory}/{file_name}"
   ]
  },
  {
   "cell_type": "code",
   "execution_count": 7,
   "metadata": {},
   "outputs": [
    {
     "data": {
      "text/html": [
       "<div>\n",
       "<style scoped>\n",
       "    .dataframe tbody tr th:only-of-type {\n",
       "        vertical-align: middle;\n",
       "    }\n",
       "\n",
       "    .dataframe tbody tr th {\n",
       "        vertical-align: top;\n",
       "    }\n",
       "\n",
       "    .dataframe thead th {\n",
       "        text-align: right;\n",
       "    }\n",
       "</style>\n",
       "<table border=\"1\" class=\"dataframe\">\n",
       "  <thead>\n",
       "    <tr style=\"text-align: right;\">\n",
       "      <th></th>\n",
       "      <th>census_block_group</th>\n",
       "      <th>B01001e1</th>\n",
       "      <th>B19013e1</th>\n",
       "    </tr>\n",
       "  </thead>\n",
       "  <tbody>\n",
       "    <tr>\n",
       "      <th>0</th>\n",
       "      <td>450399601001</td>\n",
       "      <td>1101</td>\n",
       "      <td>29250.0</td>\n",
       "    </tr>\n",
       "    <tr>\n",
       "      <th>1</th>\n",
       "      <td>450399601002</td>\n",
       "      <td>931</td>\n",
       "      <td>39931.0</td>\n",
       "    </tr>\n",
       "    <tr>\n",
       "      <th>2</th>\n",
       "      <td>450399602001</td>\n",
       "      <td>1015</td>\n",
       "      <td>46898.0</td>\n",
       "    </tr>\n",
       "    <tr>\n",
       "      <th>3</th>\n",
       "      <td>450399602002</td>\n",
       "      <td>1260</td>\n",
       "      <td>30481.0</td>\n",
       "    </tr>\n",
       "    <tr>\n",
       "      <th>4</th>\n",
       "      <td>450399602003</td>\n",
       "      <td>1467</td>\n",
       "      <td>48125.0</td>\n",
       "    </tr>\n",
       "  </tbody>\n",
       "</table>\n",
       "</div>"
      ],
      "text/plain": [
       "  census_block_group  B01001e1  B19013e1\n",
       "0       450399601001      1101   29250.0\n",
       "1       450399601002       931   39931.0\n",
       "2       450399602001      1015   46898.0\n",
       "3       450399602002      1260   30481.0\n",
       "4       450399602003      1467   48125.0"
      ]
     },
     "execution_count": 7,
     "metadata": {},
     "output_type": "execute_result"
    }
   ],
   "source": [
    "cbg_b19 = pd.read_csv(county_directory / 'cbg_b19.csv', dtype={'census_block_group': str})\n",
    "cbg_b01 = pd.read_csv(county_directory / 'cbg_b01.csv', dtype={'census_block_group': str})\n",
    "cbg_data = pd.merge(cbg_b01, cbg_b19, on=['census_block_group'])\n",
    "cbg_data = cbg_data[['census_block_group'] + table_ids]\n",
    "cbg_data.dropna().head()"
   ]
  },
  {
   "cell_type": "code",
   "execution_count": 8,
   "metadata": {},
   "outputs": [
    {
     "data": {
      "text/html": [
       "<div>\n",
       "<style scoped>\n",
       "    .dataframe tbody tr th:only-of-type {\n",
       "        vertical-align: middle;\n",
       "    }\n",
       "\n",
       "    .dataframe tbody tr th {\n",
       "        vertical-align: top;\n",
       "    }\n",
       "\n",
       "    .dataframe thead th {\n",
       "        text-align: right;\n",
       "    }\n",
       "</style>\n",
       "<table border=\"1\" class=\"dataframe\">\n",
       "  <thead>\n",
       "    <tr style=\"text-align: right;\">\n",
       "      <th></th>\n",
       "      <th>census_block_group</th>\n",
       "      <th>B01001e1</th>\n",
       "      <th>B19013e1</th>\n",
       "    </tr>\n",
       "  </thead>\n",
       "  <tbody>\n",
       "    <tr>\n",
       "      <th>0</th>\n",
       "      <td>450399601001</td>\n",
       "      <td>1101</td>\n",
       "      <td>29250.0</td>\n",
       "    </tr>\n",
       "    <tr>\n",
       "      <th>1</th>\n",
       "      <td>450399601002</td>\n",
       "      <td>931</td>\n",
       "      <td>39931.0</td>\n",
       "    </tr>\n",
       "    <tr>\n",
       "      <th>2</th>\n",
       "      <td>450399602001</td>\n",
       "      <td>1015</td>\n",
       "      <td>46898.0</td>\n",
       "    </tr>\n",
       "    <tr>\n",
       "      <th>3</th>\n",
       "      <td>450399602002</td>\n",
       "      <td>1260</td>\n",
       "      <td>30481.0</td>\n",
       "    </tr>\n",
       "    <tr>\n",
       "      <th>4</th>\n",
       "      <td>450399602003</td>\n",
       "      <td>1467</td>\n",
       "      <td>48125.0</td>\n",
       "    </tr>\n",
       "  </tbody>\n",
       "</table>\n",
       "</div>"
      ],
      "text/plain": [
       "  census_block_group  B01001e1  B19013e1\n",
       "0       450399601001      1101   29250.0\n",
       "1       450399601002       931   39931.0\n",
       "2       450399602001      1015   46898.0\n",
       "3       450399602002      1260   30481.0\n",
       "4       450399602003      1467   48125.0"
      ]
     },
     "execution_count": 8,
     "metadata": {},
     "output_type": "execute_result"
    }
   ],
   "source": [
    "cbg_data[['census_block_group'] + table_ids].head()"
   ]
  },
  {
   "cell_type": "code",
   "execution_count": 9,
   "metadata": {},
   "outputs": [
    {
     "data": {
      "text/html": [
       "<div>\n",
       "<style scoped>\n",
       "    .dataframe tbody tr th:only-of-type {\n",
       "        vertical-align: middle;\n",
       "    }\n",
       "\n",
       "    .dataframe tbody tr th {\n",
       "        vertical-align: top;\n",
       "    }\n",
       "\n",
       "    .dataframe thead th {\n",
       "        text-align: right;\n",
       "    }\n",
       "</style>\n",
       "<table border=\"1\" class=\"dataframe\">\n",
       "  <thead>\n",
       "    <tr style=\"text-align: right;\">\n",
       "      <th></th>\n",
       "      <th>census_block_group</th>\n",
       "      <th>B01001e1</th>\n",
       "      <th>B19013e1</th>\n",
       "    </tr>\n",
       "  </thead>\n",
       "  <tbody>\n",
       "    <tr>\n",
       "      <th>0</th>\n",
       "      <td>450399601001</td>\n",
       "      <td>1101</td>\n",
       "      <td>29250.0</td>\n",
       "    </tr>\n",
       "    <tr>\n",
       "      <th>1</th>\n",
       "      <td>450399601002</td>\n",
       "      <td>931</td>\n",
       "      <td>39931.0</td>\n",
       "    </tr>\n",
       "    <tr>\n",
       "      <th>2</th>\n",
       "      <td>450399602001</td>\n",
       "      <td>1015</td>\n",
       "      <td>46898.0</td>\n",
       "    </tr>\n",
       "    <tr>\n",
       "      <th>3</th>\n",
       "      <td>450399602002</td>\n",
       "      <td>1260</td>\n",
       "      <td>30481.0</td>\n",
       "    </tr>\n",
       "    <tr>\n",
       "      <th>4</th>\n",
       "      <td>450399602003</td>\n",
       "      <td>1467</td>\n",
       "      <td>48125.0</td>\n",
       "    </tr>\n",
       "    <tr>\n",
       "      <th>5</th>\n",
       "      <td>450399603001</td>\n",
       "      <td>1046</td>\n",
       "      <td>68902.0</td>\n",
       "    </tr>\n",
       "    <tr>\n",
       "      <th>6</th>\n",
       "      <td>450399603002</td>\n",
       "      <td>890</td>\n",
       "      <td>NaN</td>\n",
       "    </tr>\n",
       "    <tr>\n",
       "      <th>7</th>\n",
       "      <td>450399603003</td>\n",
       "      <td>1482</td>\n",
       "      <td>30625.0</td>\n",
       "    </tr>\n",
       "    <tr>\n",
       "      <th>8</th>\n",
       "      <td>450399603004</td>\n",
       "      <td>2257</td>\n",
       "      <td>31346.0</td>\n",
       "    </tr>\n",
       "    <tr>\n",
       "      <th>9</th>\n",
       "      <td>450399604001</td>\n",
       "      <td>962</td>\n",
       "      <td>26250.0</td>\n",
       "    </tr>\n",
       "    <tr>\n",
       "      <th>10</th>\n",
       "      <td>450399604002</td>\n",
       "      <td>822</td>\n",
       "      <td>NaN</td>\n",
       "    </tr>\n",
       "    <tr>\n",
       "      <th>11</th>\n",
       "      <td>450399604003</td>\n",
       "      <td>660</td>\n",
       "      <td>70050.0</td>\n",
       "    </tr>\n",
       "    <tr>\n",
       "      <th>12</th>\n",
       "      <td>450399604004</td>\n",
       "      <td>815</td>\n",
       "      <td>21024.0</td>\n",
       "    </tr>\n",
       "    <tr>\n",
       "      <th>13</th>\n",
       "      <td>450399604005</td>\n",
       "      <td>2115</td>\n",
       "      <td>20601.0</td>\n",
       "    </tr>\n",
       "    <tr>\n",
       "      <th>14</th>\n",
       "      <td>450399605001</td>\n",
       "      <td>2015</td>\n",
       "      <td>57375.0</td>\n",
       "    </tr>\n",
       "    <tr>\n",
       "      <th>15</th>\n",
       "      <td>450399605002</td>\n",
       "      <td>1236</td>\n",
       "      <td>48722.0</td>\n",
       "    </tr>\n",
       "    <tr>\n",
       "      <th>16</th>\n",
       "      <td>450399605003</td>\n",
       "      <td>1596</td>\n",
       "      <td>33125.0</td>\n",
       "    </tr>\n",
       "    <tr>\n",
       "      <th>17</th>\n",
       "      <td>450399605004</td>\n",
       "      <td>1355</td>\n",
       "      <td>31306.0</td>\n",
       "    </tr>\n",
       "  </tbody>\n",
       "</table>\n",
       "</div>"
      ],
      "text/plain": [
       "   census_block_group  B01001e1  B19013e1\n",
       "0        450399601001      1101   29250.0\n",
       "1        450399601002       931   39931.0\n",
       "2        450399602001      1015   46898.0\n",
       "3        450399602002      1260   30481.0\n",
       "4        450399602003      1467   48125.0\n",
       "5        450399603001      1046   68902.0\n",
       "6        450399603002       890       NaN\n",
       "7        450399603003      1482   30625.0\n",
       "8        450399603004      2257   31346.0\n",
       "9        450399604001       962   26250.0\n",
       "10       450399604002       822       NaN\n",
       "11       450399604003       660   70050.0\n",
       "12       450399604004       815   21024.0\n",
       "13       450399604005      2115   20601.0\n",
       "14       450399605001      2015   57375.0\n",
       "15       450399605002      1236   48722.0\n",
       "16       450399605003      1596   33125.0\n",
       "17       450399605004      1355   31306.0"
      ]
     },
     "execution_count": 9,
     "metadata": {},
     "output_type": "execute_result"
    }
   ],
   "source": [
    "cbg_data"
   ]
  },
  {
   "cell_type": "code",
   "execution_count": 10,
   "metadata": {},
   "outputs": [
    {
     "data": {
      "text/plain": [
       "23025"
      ]
     },
     "execution_count": 10,
     "metadata": {},
     "output_type": "execute_result"
    }
   ],
   "source": [
    "sum(cbg_data['B01001e1'])"
   ]
  },
  {
   "cell_type": "code",
   "execution_count": 11,
   "metadata": {},
   "outputs": [],
   "source": [
    "# Census Block Groups"
   ]
  },
  {
   "cell_type": "code",
   "execution_count": 12,
   "metadata": {},
   "outputs": [],
   "source": [
    "def geojson_for_county(state_abbreviation=\"SC\",\n",
    "                       county_name=\"Fairfield County\",\n",
    "                       geojson_path=DATA_PATH / \"geometry/cbg.geojson\"):\n",
    "    header = !head -n 5 {geojson_path}\n",
    "    footer = !tail -n 2 {geojson_path}\n",
    "    \n",
    "    # lines to search file for county of interest.\n",
    "    # must be found by inspection using \"tail | head\" method below, and checking whether \n",
    "    # the state of interest is included.\n",
    "    # If not included, search up or down via binary search (file is sorted by state)\n",
    "    # TODO: write the binary search explicitly here, if we need to generalize to other states/counties\n",
    "    line_start_search = 170000\n",
    "    line_end_search = 180000\n",
    "    num_lines = line_end_search - line_start_search\n",
    "    \n",
    "    # stream = os.popen(f\"\"\"< {geojson_path} tail -n +{line_start_search} | head -n {num_lines} | grep '\"State\": \"{state_abbreviation}\", \"County\": \"{county_name}\"'  \"\"\")\n",
    "    #stream = os.popen(f\"\"\"cat {geojson_path} | tail -n +{line_start_search} | head -n {num_lines} | grep '\"State\": \"{state_abbreviation}\", \"County\": \"{county_name}\"'  \"\"\")\n",
    "    #county_cbgs = stream.readlines()\n",
    "    \n",
    "    county_cbgs = [linecache.getline(str(geojson_path), line_number).strip() for line_number in range(line_start_search, line_end_search)]\n",
    "    county_cbgs = [line for line in county_cbgs if f'\"State\": \"{state_abbreviation}\", \"County\": \"{county_name}\"' in line]\n",
    "    \n",
    "    print(len(county_cbgs))\n",
    "    \n",
    "    # remove final character from last entry in list:\n",
    "    # a trailing \",\" that will mess up the JSON parsing\n",
    "    if county_cbgs[-1][-1] == ',':\n",
    "        county_cbgs[-1] = county_cbgs[-1][:-1]\n",
    "    \n",
    "    return json.loads('\\n'.join(header + county_cbgs + footer))\n",
    "    "
   ]
  },
  {
   "cell_type": "code",
   "execution_count": 13,
   "metadata": {},
   "outputs": [
    {
     "name": "stdout",
     "output_type": "stream",
     "text": [
      "10000\n"
     ]
    }
   ],
   "source": [
    "geojson = geojson_for_county()"
   ]
  },
  {
   "cell_type": "code",
   "execution_count": 15,
   "metadata": {},
   "outputs": [
    {
     "data": {
      "text/plain": [
       "10000"
      ]
     },
     "execution_count": 15,
     "metadata": {},
     "output_type": "execute_result"
    }
   ],
   "source": [
    "len([f['properties']['CensusBlockGroup'] for f in geojson['features']])"
   ]
  },
  {
   "cell_type": "code",
   "execution_count": 182,
   "metadata": {},
   "outputs": [
    {
     "data": {
      "text/plain": [
       "['010810416001',\n",
       " '010810416002',\n",
       " '010810417004',\n",
       " '010730111074',\n",
       " '010730111084',\n",
       " '010730051013',\n",
       " '010730051011',\n",
       " '010730051031',\n",
       " '010730049022',\n",
       " '010730110014']"
      ]
     },
     "execution_count": 182,
     "metadata": {},
     "output_type": "execute_result"
    }
   ],
   "source": [
    "[f['properties']['CensusBlockGroup'] for f in cbgs_json['features']]"
   ]
  },
  {
   "cell_type": "code",
   "execution_count": 176,
   "metadata": {},
   "outputs": [
    {
     "data": {
      "text/plain": [
       "PosixPath('/data/safegraph/safegraph_open_census_data/geometry/cbg.geojson')"
      ]
     },
     "execution_count": 176,
     "metadata": {},
     "output_type": "execute_result"
    }
   ],
   "source": [
    "geojson_path = DATA_PATH / \"geometry/cbg.geojson\"\n",
    "geojson_path"
   ]
  },
  {
   "cell_type": "code",
   "execution_count": 186,
   "metadata": {},
   "outputs": [],
   "source": [
    "x = 100000\n",
    "n = 10000\n",
    "county_cbgs = ! < {geojson_path} tail -n +\"{x}\" | head -n \"{n}\""
   ]
  },
  {
   "cell_type": "code",
   "execution_count": 187,
   "metadata": {},
   "outputs": [
    {
     "data": {
      "text/plain": [
       "10000"
      ]
     },
     "execution_count": 187,
     "metadata": {},
     "output_type": "execute_result"
    }
   ],
   "source": [
    "len(county_cbgs)"
   ]
  },
  {
   "cell_type": "code",
   "execution_count": 195,
   "metadata": {},
   "outputs": [],
   "source": [
    "fn = \"Census_Maps*\"\n",
    "out = !ls {fn}"
   ]
  },
  {
   "cell_type": "code",
   "execution_count": 196,
   "metadata": {},
   "outputs": [
    {
     "data": {
      "text/plain": [
       "['Census_Maps.ipynb']"
      ]
     },
     "execution_count": 196,
     "metadata": {},
     "output_type": "execute_result"
    }
   ],
   "source": [
    "out"
   ]
  },
  {
   "cell_type": "code",
   "execution_count": 197,
   "metadata": {},
   "outputs": [
    {
     "data": {
      "text/plain": [
       "['Census_Maps.ipynb']"
      ]
     },
     "execution_count": 197,
     "metadata": {},
     "output_type": "execute_result"
    }
   ],
   "source": [
    "def f():\n",
    "    fn = \"Census_Maps*\"\n",
    "    out = !ls {fn}\n",
    "    return out\n",
    "f()"
   ]
  },
  {
   "cell_type": "code",
   "execution_count": null,
   "metadata": {},
   "outputs": [],
   "source": []
  }
 ],
 "metadata": {
  "kernelspec": {
   "display_name": "Python 3",
   "language": "python",
   "name": "python3"
  },
  "language_info": {
   "codemirror_mode": {
    "name": "ipython",
    "version": 3
   },
   "file_extension": ".py",
   "mimetype": "text/x-python",
   "name": "python",
   "nbconvert_exporter": "python",
   "pygments_lexer": "ipython3",
   "version": "3.8.2"
  }
 },
 "nbformat": 4,
 "nbformat_minor": 4
}
