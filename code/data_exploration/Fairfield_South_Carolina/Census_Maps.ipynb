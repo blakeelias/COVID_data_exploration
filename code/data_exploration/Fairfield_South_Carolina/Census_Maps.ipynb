{
 "cells": [
  {
   "cell_type": "code",
   "execution_count": 2,
   "metadata": {},
   "outputs": [],
   "source": [
    "import pandas as pd\n",
    "import geopandas as gpd \n",
    "import matplotlib.pyplot as plt\n",
    "import folium \n",
    "from shapely.ops import nearest_points\n",
    "from shapely.geometry import LineString\n",
    "from pathlib import Path"
   ]
  },
  {
   "cell_type": "code",
   "execution_count": 3,
   "metadata": {},
   "outputs": [],
   "source": [
    "DATA_PATH = Path('/data/safegraph/safegraph_open_census_data')"
   ]
  },
  {
   "cell_type": "code",
   "execution_count": 6,
   "metadata": {},
   "outputs": [
    {
     "data": {
      "text/html": [
       "<div>\n",
       "<style scoped>\n",
       "    .dataframe tbody tr th:only-of-type {\n",
       "        vertical-align: middle;\n",
       "    }\n",
       "\n",
       "    .dataframe tbody tr th {\n",
       "        vertical-align: top;\n",
       "    }\n",
       "\n",
       "    .dataframe thead th {\n",
       "        text-align: right;\n",
       "    }\n",
       "</style>\n",
       "<table border=\"1\" class=\"dataframe\">\n",
       "  <thead>\n",
       "    <tr style=\"text-align: right;\">\n",
       "      <th></th>\n",
       "      <th>table_id</th>\n",
       "      <th>field_full_name</th>\n",
       "      <th>field_level_1</th>\n",
       "      <th>field_level_2</th>\n",
       "      <th>field_level_3</th>\n",
       "      <th>field_level_4</th>\n",
       "      <th>field_level_5</th>\n",
       "      <th>field_level_6</th>\n",
       "      <th>field_level_7</th>\n",
       "      <th>field_level_8</th>\n",
       "    </tr>\n",
       "  </thead>\n",
       "  <tbody>\n",
       "    <tr>\n",
       "      <th>4</th>\n",
       "      <td>B01001e1</td>\n",
       "      <td>SEX BY AGE: Total: Total population -- (Estimate)</td>\n",
       "      <td>Sex By Age</td>\n",
       "      <td>Total</td>\n",
       "      <td>Total Population -- (Estimate)</td>\n",
       "      <td>NaN</td>\n",
       "      <td>NaN</td>\n",
       "      <td>NaN</td>\n",
       "      <td>NaN</td>\n",
       "      <td>NaN</td>\n",
       "    </tr>\n",
       "    <tr>\n",
       "      <th>3094</th>\n",
       "      <td>B19013e1</td>\n",
       "      <td>MEDIAN HOUSEHOLD INCOME IN THE PAST 12 MONTHS ...</td>\n",
       "      <td>Median Household Income In The Past 12 Months ...</td>\n",
       "      <td>Total</td>\n",
       "      <td>Households -- (Estimate)</td>\n",
       "      <td>NaN</td>\n",
       "      <td>NaN</td>\n",
       "      <td>NaN</td>\n",
       "      <td>NaN</td>\n",
       "      <td>NaN</td>\n",
       "    </tr>\n",
       "  </tbody>\n",
       "</table>\n",
       "</div>"
      ],
      "text/plain": [
       "      table_id                                    field_full_name  \\\n",
       "4     B01001e1  SEX BY AGE: Total: Total population -- (Estimate)   \n",
       "3094  B19013e1  MEDIAN HOUSEHOLD INCOME IN THE PAST 12 MONTHS ...   \n",
       "\n",
       "                                          field_level_1 field_level_2  \\\n",
       "4                                            Sex By Age         Total   \n",
       "3094  Median Household Income In The Past 12 Months ...         Total   \n",
       "\n",
       "                        field_level_3 field_level_4 field_level_5  \\\n",
       "4      Total Population -- (Estimate)           NaN           NaN   \n",
       "3094         Households -- (Estimate)           NaN           NaN   \n",
       "\n",
       "     field_level_6 field_level_7 field_level_8  \n",
       "4              NaN           NaN           NaN  \n",
       "3094           NaN           NaN           NaN  "
      ]
     },
     "execution_count": 6,
     "metadata": {},
     "output_type": "execute_result"
    }
   ],
   "source": [
    "# See: https://www.safegraph.com/blog/beginners-guide-to-census\n",
    "    \n",
    "table_ids = [\n",
    "    'B01001e1',   # Total Population\n",
    "    'B19013e1',   # Median Household Income\n",
    "]\n",
    "\n",
    "cbg_field_desc = pd.read_csv(DATA_PATH / 'metadata/cbg_field_descriptions.csv')\n",
    "cbg_field_desc[cbg_field_desc.table_id.isin(table_ids)]"
   ]
  },
  {
   "cell_type": "code",
   "execution_count": 7,
   "metadata": {},
   "outputs": [
    {
     "ename": "NameError",
     "evalue": "name 'cbg_b01' is not defined",
     "output_type": "error",
     "traceback": [
      "\u001b[0;31m---------------------------------------------------------------------------\u001b[0m",
      "\u001b[0;31mNameError\u001b[0m                                 Traceback (most recent call last)",
      "\u001b[0;32m<ipython-input-7-a314344575ef>\u001b[0m in \u001b[0;36m<module>\u001b[0;34m\u001b[0m\n\u001b[0;32m----> 1\u001b[0;31m \u001b[0mcbg_data\u001b[0m \u001b[0;34m=\u001b[0m \u001b[0mpd\u001b[0m\u001b[0;34m.\u001b[0m\u001b[0mmerge\u001b[0m\u001b[0;34m(\u001b[0m\u001b[0mcbg_b01\u001b[0m\u001b[0;34m,\u001b[0m \u001b[0mcbg_b19\u001b[0m\u001b[0;34m,\u001b[0m \u001b[0mon\u001b[0m\u001b[0;34m=\u001b[0m\u001b[0;34m[\u001b[0m\u001b[0;34m'census_block_group'\u001b[0m\u001b[0;34m]\u001b[0m\u001b[0;34m)\u001b[0m\u001b[0;34m\u001b[0m\u001b[0;34m\u001b[0m\u001b[0m\n\u001b[0m",
      "\u001b[0;31mNameError\u001b[0m: name 'cbg_b01' is not defined"
     ]
    }
   ],
   "source": [
    "cbg_b19 = pd.read_csv(DATA_PATH / 'cbg_b19.csv', drive=drive, dtype={'census_block_group': str})\n",
    "cbg_b01 = pd_read_csv_drive(get_drive_id('cbg_b01.csv'), drive=drive, dtype={'census_block_group': str})\n",
    "cbg_data = pd.merge(cbg_b01, cbg_b19, on=['census_block_group'])\n",
    "cbg_data = cbg_data[['census_block_group'] + table_ids]\n",
    "cbg_data.dropna().head()"
   ]
  },
  {
   "cell_type": "code",
   "execution_count": 5,
   "metadata": {},
   "outputs": [
    {
     "ename": "NameError",
     "evalue": "name 'cbg_data' is not defined",
     "output_type": "error",
     "traceback": [
      "\u001b[0;31m---------------------------------------------------------------------------\u001b[0m",
      "\u001b[0;31mNameError\u001b[0m                                 Traceback (most recent call last)",
      "\u001b[0;32m<ipython-input-5-4a7d959807a5>\u001b[0m in \u001b[0;36m<module>\u001b[0;34m\u001b[0m\n\u001b[0;32m----> 1\u001b[0;31m \u001b[0mcbg_data\u001b[0m\u001b[0;34m[\u001b[0m\u001b[0;34m[\u001b[0m\u001b[0;34m'census_block_group'\u001b[0m\u001b[0;34m]\u001b[0m \u001b[0;34m+\u001b[0m \u001b[0mtable_ids\u001b[0m\u001b[0;34m]\u001b[0m\u001b[0;34m.\u001b[0m\u001b[0mhead\u001b[0m\u001b[0;34m(\u001b[0m\u001b[0;34m)\u001b[0m\u001b[0;34m\u001b[0m\u001b[0;34m\u001b[0m\u001b[0m\n\u001b[0m",
      "\u001b[0;31mNameError\u001b[0m: name 'cbg_data' is not defined"
     ]
    }
   ],
   "source": [
    "cbg_data[['census_block_group'] + table_ids].head()"
   ]
  }
 ],
 "metadata": {
  "kernelspec": {
   "display_name": "Python 3",
   "language": "python",
   "name": "python3"
  },
  "language_info": {
   "codemirror_mode": {
    "name": "ipython",
    "version": 3
   },
   "file_extension": ".py",
   "mimetype": "text/x-python",
   "name": "python",
   "nbconvert_exporter": "python",
   "pygments_lexer": "ipython3",
   "version": "3.8.2"
  }
 },
 "nbformat": 4,
 "nbformat_minor": 4
}
