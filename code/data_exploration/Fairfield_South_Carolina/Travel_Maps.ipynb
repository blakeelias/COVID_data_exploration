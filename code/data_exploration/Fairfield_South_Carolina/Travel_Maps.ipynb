{
 "cells": [
  {
   "cell_type": "code",
   "execution_count": 50,
   "metadata": {},
   "outputs": [],
   "source": [
    "from pathlib import Path\n",
    "import numpy as np\n",
    "import pandas as pd\n",
    "import matplotlib.pyplot as plt\n",
    "import json"
   ]
  },
  {
   "cell_type": "code",
   "execution_count": 3,
   "metadata": {},
   "outputs": [],
   "source": [
    "import geopandas as gpd \n",
    "import folium\n",
    "from geopy.geocoders import Nominatim\n",
    "import folium.plugins\n",
    "import branca\n",
    "import branca.colormap as cm\n",
    "from folium.plugins import MarkerCluster"
   ]
  },
  {
   "cell_type": "code",
   "execution_count": 11,
   "metadata": {},
   "outputs": [],
   "source": [
    "DATA_PATH = Path('../../../data/preprocessed/safegraph/social-distancing/FIPS/450/2020')"
   ]
  },
  {
   "cell_type": "code",
   "execution_count": 61,
   "metadata": {},
   "outputs": [],
   "source": [
    "county_fips = '45039'\n",
    "state_fips = '45'"
   ]
  },
  {
   "cell_type": "code",
   "execution_count": 128,
   "metadata": {},
   "outputs": [],
   "source": [
    "month = '06'\n",
    "day = '02'\n",
    "\n",
    "df = pd.read_csv(DATA_PATH / f'{month}/{day}/2020-{month}-{day}-social-distancing.csv')"
   ]
  },
  {
   "cell_type": "code",
   "execution_count": 129,
   "metadata": {},
   "outputs": [],
   "source": [
    "df['county_fips'] = df['origin_census_block_group'].apply(lambda x: str(x)[:5])\n",
    "df['state_fips'] = df['origin_census_block_group'].apply(lambda x: str(x)[:2])"
   ]
  },
  {
   "cell_type": "code",
   "execution_count": 130,
   "metadata": {},
   "outputs": [
    {
     "data": {
      "text/html": [
       "<div>\n",
       "<style scoped>\n",
       "    .dataframe tbody tr th:only-of-type {\n",
       "        vertical-align: middle;\n",
       "    }\n",
       "\n",
       "    .dataframe tbody tr th {\n",
       "        vertical-align: top;\n",
       "    }\n",
       "\n",
       "    .dataframe thead th {\n",
       "        text-align: right;\n",
       "    }\n",
       "</style>\n",
       "<table border=\"1\" class=\"dataframe\">\n",
       "  <thead>\n",
       "    <tr style=\"text-align: right;\">\n",
       "      <th></th>\n",
       "      <th>origin_census_block_group</th>\n",
       "      <th>date_range_start</th>\n",
       "      <th>date_range_end</th>\n",
       "      <th>device_count</th>\n",
       "      <th>distance_traveled_from_home</th>\n",
       "      <th>bucketed_distance_traveled</th>\n",
       "      <th>median_dwell_at_bucketed_distance_traveled</th>\n",
       "      <th>completely_home_device_count</th>\n",
       "      <th>median_home_dwell_time</th>\n",
       "      <th>bucketed_home_dwell_time</th>\n",
       "      <th>...</th>\n",
       "      <th>median_non_home_dwell_time</th>\n",
       "      <th>candidate_device_count</th>\n",
       "      <th>bucketed_away_from_home_time</th>\n",
       "      <th>median_percentage_time_home</th>\n",
       "      <th>bucketed_percentage_time_home</th>\n",
       "      <th>mean_home_dwell_time</th>\n",
       "      <th>mean_non_home_dwell_time</th>\n",
       "      <th>mean_distance_traveled_from_home</th>\n",
       "      <th>county_fips</th>\n",
       "      <th>state_fips</th>\n",
       "    </tr>\n",
       "  </thead>\n",
       "  <tbody>\n",
       "    <tr>\n",
       "      <th>0</th>\n",
       "      <td>450410007002</td>\n",
       "      <td>2020-06-02T00:00:00-04:00</td>\n",
       "      <td>2020-06-03T00:00:00-04:00</td>\n",
       "      <td>66</td>\n",
       "      <td>1176</td>\n",
       "      <td>{\"16001-50000\":4,\"0\":21,\"&gt;50000\":5,\"2001-8000\"...</td>\n",
       "      <td>{\"16001-50000\":25,\"&gt;50000\":159,\"&lt;1000\":18,\"200...</td>\n",
       "      <td>20</td>\n",
       "      <td>584</td>\n",
       "      <td>{\"721-1080\":12,\"361-720\":10,\"61-360\":4,\"&lt;60\":2...</td>\n",
       "      <td>...</td>\n",
       "      <td>44</td>\n",
       "      <td>154</td>\n",
       "      <td>{\"21-45\":1,\"541-600\":1,\"46-60\":1,\"721-840\":1,\"...</td>\n",
       "      <td>93</td>\n",
       "      <td>{\"0-25\":13,\"76-100\":40,\"51-75\":4,\"26-50\":1}</td>\n",
       "      <td>602</td>\n",
       "      <td>276</td>\n",
       "      <td>2934</td>\n",
       "      <td>45041</td>\n",
       "      <td>45</td>\n",
       "    </tr>\n",
       "    <tr>\n",
       "      <th>1</th>\n",
       "      <td>450450028053</td>\n",
       "      <td>2020-06-02T00:00:00-04:00</td>\n",
       "      <td>2020-06-03T00:00:00-04:00</td>\n",
       "      <td>136</td>\n",
       "      <td>2046</td>\n",
       "      <td>{\"16001-50000\":9,\"0\":32,\"&gt;50000\":8,\"2001-8000\"...</td>\n",
       "      <td>{\"16001-50000\":41,\"&gt;50000\":171,\"&lt;1000\":45,\"200...</td>\n",
       "      <td>34</td>\n",
       "      <td>754</td>\n",
       "      <td>{\"721-1080\":25,\"361-720\":14,\"61-360\":12,\"&lt;60\":...</td>\n",
       "      <td>...</td>\n",
       "      <td>218</td>\n",
       "      <td>281</td>\n",
       "      <td>{\"21-45\":8,\"481-540\":1,\"541-600\":2,\"46-60\":3,\"...</td>\n",
       "      <td>71</td>\n",
       "      <td>{\"0-25\":41,\"76-100\":65,\"51-75\":22,\"26-50\":8}</td>\n",
       "      <td>693</td>\n",
       "      <td>339</td>\n",
       "      <td>4543</td>\n",
       "      <td>45045</td>\n",
       "      <td>45</td>\n",
       "    </tr>\n",
       "    <tr>\n",
       "      <th>2</th>\n",
       "      <td>450630210092</td>\n",
       "      <td>2020-06-02T00:00:00-04:00</td>\n",
       "      <td>2020-06-03T00:00:00-04:00</td>\n",
       "      <td>825</td>\n",
       "      <td>4156</td>\n",
       "      <td>{\"16001-50000\":176,\"0\":208,\"&gt;50000\":60,\"2001-8...</td>\n",
       "      <td>{\"16001-50000\":45,\"&gt;50000\":53,\"&lt;1000\":162,\"200...</td>\n",
       "      <td>207</td>\n",
       "      <td>847</td>\n",
       "      <td>{\"721-1080\":198,\"361-720\":115,\"61-360\":58,\"&lt;60...</td>\n",
       "      <td>...</td>\n",
       "      <td>138</td>\n",
       "      <td>1410</td>\n",
       "      <td>{\"21-45\":45,\"481-540\":46,\"541-600\":27,\"46-60\":...</td>\n",
       "      <td>83</td>\n",
       "      <td>{\"0-25\":146,\"76-100\":459,\"51-75\":176,\"26-50\":44}</td>\n",
       "      <td>801</td>\n",
       "      <td>286</td>\n",
       "      <td>11843</td>\n",
       "      <td>45063</td>\n",
       "      <td>45</td>\n",
       "    </tr>\n",
       "    <tr>\n",
       "      <th>3</th>\n",
       "      <td>450830231012</td>\n",
       "      <td>2020-06-02T00:00:00-04:00</td>\n",
       "      <td>2020-06-03T00:00:00-04:00</td>\n",
       "      <td>115</td>\n",
       "      <td>4058</td>\n",
       "      <td>{\"16001-50000\":20,\"0\":30,\"&gt;50000\":7,\"2001-8000...</td>\n",
       "      <td>{\"16001-50000\":69,\"&gt;50000\":283,\"&lt;1000\":91,\"200...</td>\n",
       "      <td>28</td>\n",
       "      <td>779</td>\n",
       "      <td>{\"721-1080\":29,\"361-720\":13,\"61-360\":9,\"&lt;60\":3...</td>\n",
       "      <td>...</td>\n",
       "      <td>104</td>\n",
       "      <td>261</td>\n",
       "      <td>{\"21-45\":4,\"481-540\":3,\"541-600\":1,\"46-60\":3,\"...</td>\n",
       "      <td>74</td>\n",
       "      <td>{\"0-25\":29,\"76-100\":56,\"51-75\":25,\"26-50\":5}</td>\n",
       "      <td>664</td>\n",
       "      <td>265</td>\n",
       "      <td>4574</td>\n",
       "      <td>45083</td>\n",
       "      <td>45</td>\n",
       "    </tr>\n",
       "    <tr>\n",
       "      <th>4</th>\n",
       "      <td>450190049012</td>\n",
       "      <td>2020-06-02T00:00:00-04:00</td>\n",
       "      <td>2020-06-03T00:00:00-04:00</td>\n",
       "      <td>63</td>\n",
       "      <td>625</td>\n",
       "      <td>{\"16001-50000\":3,\"0\":15,\"&gt;50000\":10,\"2001-8000...</td>\n",
       "      <td>{\"16001-50000\":246,\"&gt;50000\":167,\"&lt;1000\":81,\"20...</td>\n",
       "      <td>18</td>\n",
       "      <td>767</td>\n",
       "      <td>{\"721-1080\":14,\"361-720\":3,\"61-360\":3,\"&lt;60\":23...</td>\n",
       "      <td>...</td>\n",
       "      <td>84</td>\n",
       "      <td>121</td>\n",
       "      <td>{\"21-45\":1,\"481-540\":1,\"46-60\":2,\"721-840\":1,\"...</td>\n",
       "      <td>73</td>\n",
       "      <td>{\"0-25\":20,\"76-100\":29,\"51-75\":8,\"26-50\":2}</td>\n",
       "      <td>654</td>\n",
       "      <td>350</td>\n",
       "      <td>4185</td>\n",
       "      <td>45019</td>\n",
       "      <td>45</td>\n",
       "    </tr>\n",
       "  </tbody>\n",
       "</table>\n",
       "<p>5 rows × 25 columns</p>\n",
       "</div>"
      ],
      "text/plain": [
       "   origin_census_block_group           date_range_start  \\\n",
       "0               450410007002  2020-06-02T00:00:00-04:00   \n",
       "1               450450028053  2020-06-02T00:00:00-04:00   \n",
       "2               450630210092  2020-06-02T00:00:00-04:00   \n",
       "3               450830231012  2020-06-02T00:00:00-04:00   \n",
       "4               450190049012  2020-06-02T00:00:00-04:00   \n",
       "\n",
       "              date_range_end  device_count  distance_traveled_from_home  \\\n",
       "0  2020-06-03T00:00:00-04:00            66                         1176   \n",
       "1  2020-06-03T00:00:00-04:00           136                         2046   \n",
       "2  2020-06-03T00:00:00-04:00           825                         4156   \n",
       "3  2020-06-03T00:00:00-04:00           115                         4058   \n",
       "4  2020-06-03T00:00:00-04:00            63                          625   \n",
       "\n",
       "                          bucketed_distance_traveled  \\\n",
       "0  {\"16001-50000\":4,\"0\":21,\">50000\":5,\"2001-8000\"...   \n",
       "1  {\"16001-50000\":9,\"0\":32,\">50000\":8,\"2001-8000\"...   \n",
       "2  {\"16001-50000\":176,\"0\":208,\">50000\":60,\"2001-8...   \n",
       "3  {\"16001-50000\":20,\"0\":30,\">50000\":7,\"2001-8000...   \n",
       "4  {\"16001-50000\":3,\"0\":15,\">50000\":10,\"2001-8000...   \n",
       "\n",
       "          median_dwell_at_bucketed_distance_traveled  \\\n",
       "0  {\"16001-50000\":25,\">50000\":159,\"<1000\":18,\"200...   \n",
       "1  {\"16001-50000\":41,\">50000\":171,\"<1000\":45,\"200...   \n",
       "2  {\"16001-50000\":45,\">50000\":53,\"<1000\":162,\"200...   \n",
       "3  {\"16001-50000\":69,\">50000\":283,\"<1000\":91,\"200...   \n",
       "4  {\"16001-50000\":246,\">50000\":167,\"<1000\":81,\"20...   \n",
       "\n",
       "   completely_home_device_count  median_home_dwell_time  \\\n",
       "0                            20                     584   \n",
       "1                            34                     754   \n",
       "2                           207                     847   \n",
       "3                            28                     779   \n",
       "4                            18                     767   \n",
       "\n",
       "                            bucketed_home_dwell_time  ...  \\\n",
       "0  {\"721-1080\":12,\"361-720\":10,\"61-360\":4,\"<60\":2...  ...   \n",
       "1  {\"721-1080\":25,\"361-720\":14,\"61-360\":12,\"<60\":...  ...   \n",
       "2  {\"721-1080\":198,\"361-720\":115,\"61-360\":58,\"<60...  ...   \n",
       "3  {\"721-1080\":29,\"361-720\":13,\"61-360\":9,\"<60\":3...  ...   \n",
       "4  {\"721-1080\":14,\"361-720\":3,\"61-360\":3,\"<60\":23...  ...   \n",
       "\n",
       "  median_non_home_dwell_time  candidate_device_count  \\\n",
       "0                         44                     154   \n",
       "1                        218                     281   \n",
       "2                        138                    1410   \n",
       "3                        104                     261   \n",
       "4                         84                     121   \n",
       "\n",
       "                        bucketed_away_from_home_time  \\\n",
       "0  {\"21-45\":1,\"541-600\":1,\"46-60\":1,\"721-840\":1,\"...   \n",
       "1  {\"21-45\":8,\"481-540\":1,\"541-600\":2,\"46-60\":3,\"...   \n",
       "2  {\"21-45\":45,\"481-540\":46,\"541-600\":27,\"46-60\":...   \n",
       "3  {\"21-45\":4,\"481-540\":3,\"541-600\":1,\"46-60\":3,\"...   \n",
       "4  {\"21-45\":1,\"481-540\":1,\"46-60\":2,\"721-840\":1,\"...   \n",
       "\n",
       "  median_percentage_time_home  \\\n",
       "0                          93   \n",
       "1                          71   \n",
       "2                          83   \n",
       "3                          74   \n",
       "4                          73   \n",
       "\n",
       "                      bucketed_percentage_time_home  mean_home_dwell_time  \\\n",
       "0       {\"0-25\":13,\"76-100\":40,\"51-75\":4,\"26-50\":1}                   602   \n",
       "1      {\"0-25\":41,\"76-100\":65,\"51-75\":22,\"26-50\":8}                   693   \n",
       "2  {\"0-25\":146,\"76-100\":459,\"51-75\":176,\"26-50\":44}                   801   \n",
       "3      {\"0-25\":29,\"76-100\":56,\"51-75\":25,\"26-50\":5}                   664   \n",
       "4       {\"0-25\":20,\"76-100\":29,\"51-75\":8,\"26-50\":2}                   654   \n",
       "\n",
       "   mean_non_home_dwell_time mean_distance_traveled_from_home  county_fips  \\\n",
       "0                       276                             2934        45041   \n",
       "1                       339                             4543        45045   \n",
       "2                       286                            11843        45063   \n",
       "3                       265                             4574        45083   \n",
       "4                       350                             4185        45019   \n",
       "\n",
       "  state_fips  \n",
       "0         45  \n",
       "1         45  \n",
       "2         45  \n",
       "3         45  \n",
       "4         45  \n",
       "\n",
       "[5 rows x 25 columns]"
      ]
     },
     "execution_count": 130,
     "metadata": {},
     "output_type": "execute_result"
    }
   ],
   "source": [
    "df.head()"
   ]
  },
  {
   "cell_type": "code",
   "execution_count": 131,
   "metadata": {},
   "outputs": [],
   "source": [
    "df2 = df[df['county_fips'] == county_fips]\n",
    "df3 = df[df['state_fips'] == state_fips]"
   ]
  },
  {
   "cell_type": "code",
   "execution_count": null,
   "metadata": {},
   "outputs": [],
   "source": []
  },
  {
   "cell_type": "code",
   "execution_count": null,
   "metadata": {},
   "outputs": [],
   "source": []
  },
  {
   "cell_type": "code",
   "execution_count": 132,
   "metadata": {},
   "outputs": [],
   "source": [
    "def transition_matrix(df):\n",
    "\n",
    "    census_block_group_ids = df['origin_census_block_group'].unique()\n",
    "    cbg_idx = {cbg_id: idx for idx, cbg_id in enumerate(census_block_group_ids)}\n",
    "\n",
    "    num_block_groups = len(census_block_group_ids)\n",
    "\n",
    "    travel_amounts = np.zeros((num_block_groups, num_block_groups))\n",
    "\n",
    "    for i in range(len(df)):\n",
    "        row = df.iloc[i]\n",
    "\n",
    "        origin_id = row['origin_census_block_group']\n",
    "        if origin_id in cbg_idx:\n",
    "            origin_idx = cbg_idx[origin_id]\n",
    "        else:\n",
    "            continue\n",
    "        #if i < 1:\n",
    "        #    print(f'origin_id: {origin_id}')\n",
    "\n",
    "        dests = json.loads(row['destination_cbgs'])\n",
    "        #if i < 1:\n",
    "        #    print(dests)\n",
    "        for dest_id, num_devices in dests.items():\n",
    "            dest_id = int(dest_id)\n",
    "            if dest_id in cbg_idx:\n",
    "                #if i < 10:\n",
    "                #    print(f'{origin_id} traveled to {dest_id}: {num_devices} devices')    \n",
    "                dest_idx = cbg_idx[dest_id]\n",
    "                travel_amounts[dest_idx][origin_idx] += num_devices\n",
    "\n",
    "    return travel_amounts"
   ]
  },
  {
   "cell_type": "markdown",
   "metadata": {},
   "source": [
    "## Travel Within the State"
   ]
  },
  {
   "cell_type": "code",
   "execution_count": 133,
   "metadata": {},
   "outputs": [
    {
     "data": {
      "text/plain": [
       "array([[ 53.,   0.,   0., ...,   0.,   0.,   0.],\n",
       "       [  0., 105.,   0., ...,   1.,   0.,   0.],\n",
       "       [  0.,   0., 731., ...,   0.,  19.,   0.],\n",
       "       ...,\n",
       "       [  0.,   0.,   0., ..., 105.,   0.,   0.],\n",
       "       [  0.,   1.,  93., ...,   0., 269.,   0.],\n",
       "       [  0.,   0.,   0., ...,   0.,   0.,  45.]])"
      ]
     },
     "execution_count": 133,
     "metadata": {},
     "output_type": "execute_result"
    }
   ],
   "source": [
    "travel_amounts = transition_matrix(df3)\n",
    "travel_amounts"
   ]
  },
  {
   "cell_type": "code",
   "execution_count": 134,
   "metadata": {},
   "outputs": [
    {
     "data": {
      "text/plain": [
       "211365"
      ]
     },
     "execution_count": 134,
     "metadata": {},
     "output_type": "execute_result"
    }
   ],
   "source": [
    "# Number of entries filled:\n",
    "len(travel_amounts.nonzero()[0])"
   ]
  },
  {
   "cell_type": "code",
   "execution_count": 135,
   "metadata": {},
   "outputs": [
    {
     "data": {
      "text/plain": [
       "3042"
      ]
     },
     "execution_count": 135,
     "metadata": {},
     "output_type": "execute_result"
    }
   ],
   "source": [
    "# Number of block groups:\n",
    "num_block_groups = travel_amounts.shape[0]\n",
    "num_block_groups"
   ]
  },
  {
   "cell_type": "code",
   "execution_count": 136,
   "metadata": {},
   "outputs": [
    {
     "data": {
      "text/plain": [
       "0.02284097584507234"
      ]
     },
     "execution_count": 136,
     "metadata": {},
     "output_type": "execute_result"
    }
   ],
   "source": [
    "# Portion of the matrix that's filled:\n",
    "len(travel_amounts.nonzero()[0]) / (num_block_groups * num_block_groups)"
   ]
  },
  {
   "cell_type": "markdown",
   "metadata": {},
   "source": [
    "## Travel Within the County"
   ]
  },
  {
   "cell_type": "code",
   "execution_count": 137,
   "metadata": {},
   "outputs": [
    {
     "data": {
      "text/plain": [
       "array([[ 75.,   7.,   1.,   0.,   2.,   1.,   3.,   4.,   0.,   3.,   0.,\n",
       "          0.,   3.,   0.,   4.,   0.,   5.,   3.],\n",
       "       [  1.,  80.,   1.,   0.,   0.,   0.,   0.,   2.,   0.,   1.,   0.,\n",
       "          4.,   3.,   0.,  10.,   0.,   4.,   1.],\n",
       "       [  5.,   3.,  60.,   0.,   1.,   0.,   0.,   5.,   0.,   2.,   0.,\n",
       "          3.,   2.,   2.,   2.,   0.,   2.,   3.],\n",
       "       [  2.,   0.,   1.,  75.,   5.,   0.,   0.,   0.,   0.,   2.,   5.,\n",
       "          1.,   0.,   0.,   0.,   0.,   1.,   1.],\n",
       "       [  1.,   0.,   0.,   2.,  68.,   0.,   1.,   0.,   0.,   1.,   2.,\n",
       "          1.,   0.,   0.,   2.,   0.,   1.,   0.],\n",
       "       [  1.,   3.,   0.,   1.,   0.,  23.,   0.,   0.,   0.,   1.,   1.,\n",
       "          2.,   1.,   0.,   2.,   4.,   0.,   1.],\n",
       "       [  3.,   0.,   2.,   0.,   0.,   1.,  45.,   1.,   4.,   1.,   1.,\n",
       "          0.,   2.,   2.,   1.,   0.,   0.,   0.],\n",
       "       [  3.,   2.,   5.,   0.,   0.,   0.,   1.,  45.,   0.,   3.,   0.,\n",
       "          2.,   5.,   1.,   4.,   0.,   5.,   1.],\n",
       "       [  0.,   0.,   1.,   0.,   0.,   0.,   3.,   0.,  29.,   0.,   0.,\n",
       "          0.,   0.,   0.,   0.,   0.,   0.,   1.],\n",
       "       [  6.,   2.,   1.,   3.,   3.,   0.,   2.,   2.,   0., 105.,   3.,\n",
       "          2.,   1.,   1.,   3.,   1.,   5.,   3.],\n",
       "       [  1.,   0.,   2.,   2.,   1.,   0.,   1.,   0.,   0.,   1.,  51.,\n",
       "          0.,   2.,   0.,   0.,   0.,   0.,   1.],\n",
       "       [  2.,   2.,   2.,   1.,   0.,   0.,   0.,   2.,   0.,   2.,   0.,\n",
       "         37.,   4.,   0.,   1.,   1.,   3.,   1.],\n",
       "       [  5.,   8.,   3.,   0.,   0.,   0.,   4.,  10.,   2.,   5.,   2.,\n",
       "          4.,  64.,   2.,  10.,   0.,   7.,   3.],\n",
       "       [  1.,   0.,   1.,   0.,   0.,   0.,   2.,   0.,   1.,   1.,   0.,\n",
       "          0.,   1.,  44.,   2.,   0.,   0.,   1.],\n",
       "       [  1.,   2.,   2.,   0.,   0.,   0.,   0.,   1.,   0.,   1.,   0.,\n",
       "          1.,   0.,   1.,  63.,   0.,   1.,   1.],\n",
       "       [  0.,   1.,   0.,   1.,   1.,   3.,   1.,   1.,   0.,   1.,   0.,\n",
       "          0.,   1.,   0.,   1.,  51.,   1.,   0.],\n",
       "       [ 25.,  14.,  10.,   1.,   1.,   4.,   3.,  12.,   4.,   5.,   0.,\n",
       "          4.,  12.,   4.,  21.,   0.,  60.,   4.],\n",
       "       [ 14.,  10.,   8.,   0.,   0.,   0.,   4.,   5.,   2.,   2.,   1.,\n",
       "          7.,   6.,   4.,  11.,   0.,  13.,  59.]])"
      ]
     },
     "execution_count": 137,
     "metadata": {},
     "output_type": "execute_result"
    }
   ],
   "source": [
    "travel_amounts = transition_matrix(df2)\n",
    "travel_amounts"
   ]
  },
  {
   "cell_type": "code",
   "execution_count": 138,
   "metadata": {},
   "outputs": [
    {
     "data": {
      "text/plain": [
       "201"
      ]
     },
     "execution_count": 138,
     "metadata": {},
     "output_type": "execute_result"
    }
   ],
   "source": [
    "# Number of entries filled:\n",
    "len(travel_amounts.nonzero()[0])"
   ]
  },
  {
   "cell_type": "code",
   "execution_count": 139,
   "metadata": {},
   "outputs": [
    {
     "data": {
      "text/plain": [
       "18"
      ]
     },
     "execution_count": 139,
     "metadata": {},
     "output_type": "execute_result"
    }
   ],
   "source": [
    "# Number of block groups:\n",
    "num_block_groups = travel_amounts.shape[0]\n",
    "num_block_groups"
   ]
  },
  {
   "cell_type": "code",
   "execution_count": 140,
   "metadata": {},
   "outputs": [
    {
     "data": {
      "text/plain": [
       "0.6203703703703703"
      ]
     },
     "execution_count": 140,
     "metadata": {},
     "output_type": "execute_result"
    }
   ],
   "source": [
    "# Portion of the matrix that's filled:\n",
    "len(travel_amounts.nonzero()[0]) / (num_block_groups * num_block_groups)"
   ]
  },
  {
   "cell_type": "code",
   "execution_count": 141,
   "metadata": {},
   "outputs": [],
   "source": [
    "eigenvalues, eigenvectors = np.linalg.eig(travel_amounts)"
   ]
  },
  {
   "cell_type": "code",
   "execution_count": 142,
   "metadata": {},
   "outputs": [
    {
     "data": {
      "text/plain": [
       "array([112.3553429 +0.j        ,  93.95015892+0.j        ,\n",
       "        22.7023659 +0.j        ,  76.56050878+0.j        ,\n",
       "        74.31196212+0.j        ,  28.27232842+0.j        ,\n",
       "        66.76162863+0.48561725j,  66.76162863-0.48561725j,\n",
       "        36.00901683+0.j        ,  60.45693782+1.26960614j,\n",
       "        60.45693782-1.26960614j,  40.83896984+0.j        ,\n",
       "        42.60756229+0.j        ,  46.50382053+0.j        ,\n",
       "        52.14231728+1.97042413j,  52.14231728-1.97042413j,\n",
       "        49.92407045+0.j        ,  51.24212554+0.j        ])"
      ]
     },
     "execution_count": 142,
     "metadata": {},
     "output_type": "execute_result"
    }
   ],
   "source": [
    "eigenvalues"
   ]
  },
  {
   "cell_type": "code",
   "execution_count": 143,
   "metadata": {},
   "outputs": [],
   "source": [
    "largest_cbg_idx = eigenvectors[0].argmax()"
   ]
  },
  {
   "cell_type": "code",
   "execution_count": 144,
   "metadata": {},
   "outputs": [
    {
     "data": {
      "text/plain": [
       "450399605002"
      ]
     },
     "execution_count": 144,
     "metadata": {},
     "output_type": "execute_result"
    }
   ],
   "source": [
    "df2['origin_census_block_group'].unique()[largest_cbg_idx]"
   ]
  },
  {
   "cell_type": "code",
   "execution_count": 145,
   "metadata": {},
   "outputs": [
    {
     "data": {
      "text/plain": [
       "18"
      ]
     },
     "execution_count": 145,
     "metadata": {},
     "output_type": "execute_result"
    }
   ],
   "source": [
    "len(df2['origin_census_block_group'].unique())"
   ]
  },
  {
   "cell_type": "code",
   "execution_count": null,
   "metadata": {},
   "outputs": [],
   "source": []
  }
 ],
 "metadata": {
  "kernelspec": {
   "display_name": "Python 3",
   "language": "python",
   "name": "python3"
  },
  "language_info": {
   "codemirror_mode": {
    "name": "ipython",
    "version": 3
   },
   "file_extension": ".py",
   "mimetype": "text/x-python",
   "name": "python",
   "nbconvert_exporter": "python",
   "pygments_lexer": "ipython3",
   "version": "3.8.2"
  }
 },
 "nbformat": 4,
 "nbformat_minor": 4
}
