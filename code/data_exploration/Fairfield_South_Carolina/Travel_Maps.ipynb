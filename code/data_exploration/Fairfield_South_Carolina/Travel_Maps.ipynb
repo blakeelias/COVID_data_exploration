{
 "cells": [
  {
   "cell_type": "code",
   "execution_count": 50,
   "metadata": {},
   "outputs": [],
   "source": [
    "from pathlib import Path\n",
    "import numpy as np\n",
    "import pandas as pd\n",
    "import matplotlib.pyplot as plt\n",
    "import json"
   ]
  },
  {
   "cell_type": "code",
   "execution_count": 3,
   "metadata": {},
   "outputs": [],
   "source": [
    "import geopandas as gpd \n",
    "import folium\n",
    "from geopy.geocoders import Nominatim\n",
    "import folium.plugins\n",
    "import branca\n",
    "import branca.colormap as cm\n",
    "from folium.plugins import MarkerCluster"
   ]
  },
  {
   "cell_type": "code",
   "execution_count": 11,
   "metadata": {},
   "outputs": [],
   "source": [
    "DATA_PATH = Path('../../../data/preprocessed/safegraph/social-distancing/FIPS/450/2020')"
   ]
  },
  {
   "cell_type": "code",
   "execution_count": 61,
   "metadata": {},
   "outputs": [],
   "source": [
    "county_fips = '45039'\n",
    "state_fips = '45'"
   ]
  },
  {
   "cell_type": "code",
   "execution_count": 13,
   "metadata": {},
   "outputs": [],
   "source": [
    "month = '06'\n",
    "day = '01'\n",
    "\n",
    "df = pd.read_csv(DATA_PATH / f'{month}/{day}/2020-{month}-{day}-social-distancing.csv')"
   ]
  },
  {
   "cell_type": "code",
   "execution_count": 59,
   "metadata": {},
   "outputs": [],
   "source": [
    "df['county_fips'] = df['origin_census_block_group'].apply(lambda x: str(x)[:5])\n",
    "df['state_fips'] = df['origin_census_block_group'].apply(lambda x: str(x)[:2])"
   ]
  },
  {
   "cell_type": "code",
   "execution_count": 60,
   "metadata": {},
   "outputs": [
    {
     "data": {
      "text/html": [
       "<div>\n",
       "<style scoped>\n",
       "    .dataframe tbody tr th:only-of-type {\n",
       "        vertical-align: middle;\n",
       "    }\n",
       "\n",
       "    .dataframe tbody tr th {\n",
       "        vertical-align: top;\n",
       "    }\n",
       "\n",
       "    .dataframe thead th {\n",
       "        text-align: right;\n",
       "    }\n",
       "</style>\n",
       "<table border=\"1\" class=\"dataframe\">\n",
       "  <thead>\n",
       "    <tr style=\"text-align: right;\">\n",
       "      <th></th>\n",
       "      <th>origin_census_block_group</th>\n",
       "      <th>date_range_start</th>\n",
       "      <th>date_range_end</th>\n",
       "      <th>device_count</th>\n",
       "      <th>distance_traveled_from_home</th>\n",
       "      <th>bucketed_distance_traveled</th>\n",
       "      <th>median_dwell_at_bucketed_distance_traveled</th>\n",
       "      <th>completely_home_device_count</th>\n",
       "      <th>median_home_dwell_time</th>\n",
       "      <th>bucketed_home_dwell_time</th>\n",
       "      <th>...</th>\n",
       "      <th>median_non_home_dwell_time</th>\n",
       "      <th>candidate_device_count</th>\n",
       "      <th>bucketed_away_from_home_time</th>\n",
       "      <th>median_percentage_time_home</th>\n",
       "      <th>bucketed_percentage_time_home</th>\n",
       "      <th>mean_home_dwell_time</th>\n",
       "      <th>mean_non_home_dwell_time</th>\n",
       "      <th>mean_distance_traveled_from_home</th>\n",
       "      <th>county_fips</th>\n",
       "      <th>state_fips</th>\n",
       "    </tr>\n",
       "  </thead>\n",
       "  <tbody>\n",
       "    <tr>\n",
       "      <th>0</th>\n",
       "      <td>450410007002</td>\n",
       "      <td>2020-06-01T00:00:00-04:00</td>\n",
       "      <td>2020-06-02T00:00:00-04:00</td>\n",
       "      <td>65</td>\n",
       "      <td>1160</td>\n",
       "      <td>{\"16001-50000\":2,\"0\":26,\"&gt;50000\":7,\"2001-8000\"...</td>\n",
       "      <td>{\"16001-50000\":33,\"&gt;50000\":187,\"&lt;1000\":35,\"200...</td>\n",
       "      <td>26</td>\n",
       "      <td>598</td>\n",
       "      <td>{\"721-1080\":2,\"361-720\":12,\"61-360\":10,\"&lt;60\":1...</td>\n",
       "      <td>...</td>\n",
       "      <td>16</td>\n",
       "      <td>152</td>\n",
       "      <td>{\"21-45\":4,\"541-600\":1,\"46-60\":1,\"721-840\":3,\"...</td>\n",
       "      <td>95</td>\n",
       "      <td>{\"0-25\":16,\"76-100\":40,\"51-75\":5,\"26-50\":4}</td>\n",
       "      <td>629</td>\n",
       "      <td>226</td>\n",
       "      <td>2134</td>\n",
       "      <td>45041</td>\n",
       "      <td>45</td>\n",
       "    </tr>\n",
       "    <tr>\n",
       "      <th>1</th>\n",
       "      <td>450450028053</td>\n",
       "      <td>2020-06-01T00:00:00-04:00</td>\n",
       "      <td>2020-06-02T00:00:00-04:00</td>\n",
       "      <td>141</td>\n",
       "      <td>3402</td>\n",
       "      <td>{\"16001-50000\":5,\"0\":26,\"&gt;50000\":17,\"2001-8000...</td>\n",
       "      <td>{\"16001-50000\":102,\"&gt;50000\":83,\"&lt;1000\":71,\"200...</td>\n",
       "      <td>25</td>\n",
       "      <td>579</td>\n",
       "      <td>{\"721-1080\":26,\"361-720\":17,\"61-360\":12,\"&lt;60\":...</td>\n",
       "      <td>...</td>\n",
       "      <td>209</td>\n",
       "      <td>282</td>\n",
       "      <td>{\"21-45\":10,\"481-540\":2,\"541-600\":6,\"46-60\":4,...</td>\n",
       "      <td>67</td>\n",
       "      <td>{\"0-25\":50,\"76-100\":57,\"51-75\":19,\"26-50\":6}</td>\n",
       "      <td>601</td>\n",
       "      <td>350</td>\n",
       "      <td>20900</td>\n",
       "      <td>45045</td>\n",
       "      <td>45</td>\n",
       "    </tr>\n",
       "    <tr>\n",
       "      <th>2</th>\n",
       "      <td>450630210092</td>\n",
       "      <td>2020-06-01T00:00:00-04:00</td>\n",
       "      <td>2020-06-02T00:00:00-04:00</td>\n",
       "      <td>821</td>\n",
       "      <td>4695</td>\n",
       "      <td>{\"16001-50000\":187,\"0\":192,\"&gt;50000\":53,\"2001-8...</td>\n",
       "      <td>{\"16001-50000\":49,\"&gt;50000\":47,\"&lt;1000\":103,\"200...</td>\n",
       "      <td>192</td>\n",
       "      <td>862</td>\n",
       "      <td>{\"721-1080\":201,\"361-720\":117,\"61-360\":70,\"&lt;60...</td>\n",
       "      <td>...</td>\n",
       "      <td>117</td>\n",
       "      <td>1408</td>\n",
       "      <td>{\"21-45\":52,\"481-540\":41,\"541-600\":33,\"46-60\":...</td>\n",
       "      <td>86</td>\n",
       "      <td>{\"0-25\":131,\"76-100\":476,\"51-75\":165,\"26-50\":45}</td>\n",
       "      <td>803</td>\n",
       "      <td>267</td>\n",
       "      <td>8407</td>\n",
       "      <td>45063</td>\n",
       "      <td>45</td>\n",
       "    </tr>\n",
       "    <tr>\n",
       "      <th>3</th>\n",
       "      <td>450830231012</td>\n",
       "      <td>2020-06-01T00:00:00-04:00</td>\n",
       "      <td>2020-06-02T00:00:00-04:00</td>\n",
       "      <td>118</td>\n",
       "      <td>3077</td>\n",
       "      <td>{\"16001-50000\":17,\"0\":29,\"&gt;50000\":5,\"2001-8000...</td>\n",
       "      <td>{\"16001-50000\":47,\"&gt;50000\":99,\"&lt;1000\":158,\"200...</td>\n",
       "      <td>28</td>\n",
       "      <td>622</td>\n",
       "      <td>{\"721-1080\":25,\"361-720\":9,\"61-360\":12,\"&lt;60\":3...</td>\n",
       "      <td>...</td>\n",
       "      <td>133</td>\n",
       "      <td>261</td>\n",
       "      <td>{\"21-45\":5,\"481-540\":12,\"541-600\":2,\"46-60\":7,...</td>\n",
       "      <td>70</td>\n",
       "      <td>{\"0-25\":36,\"76-100\":53,\"51-75\":21,\"26-50\":3}</td>\n",
       "      <td>620</td>\n",
       "      <td>301</td>\n",
       "      <td>4906</td>\n",
       "      <td>45083</td>\n",
       "      <td>45</td>\n",
       "    </tr>\n",
       "    <tr>\n",
       "      <th>4</th>\n",
       "      <td>450190049012</td>\n",
       "      <td>2020-06-01T00:00:00-04:00</td>\n",
       "      <td>2020-06-02T00:00:00-04:00</td>\n",
       "      <td>63</td>\n",
       "      <td>802</td>\n",
       "      <td>{\"16001-50000\":3,\"0\":16,\"&gt;50000\":10,\"2001-8000...</td>\n",
       "      <td>{\"16001-50000\":310,\"&gt;50000\":70,\"&lt;1000\":145,\"20...</td>\n",
       "      <td>18</td>\n",
       "      <td>553</td>\n",
       "      <td>{\"721-1080\":11,\"361-720\":7,\"61-360\":6,\"&lt;60\":21...</td>\n",
       "      <td>...</td>\n",
       "      <td>125</td>\n",
       "      <td>121</td>\n",
       "      <td>{\"21-45\":3,\"481-540\":2,\"541-600\":1,\"46-60\":2,\"...</td>\n",
       "      <td>78</td>\n",
       "      <td>{\"0-25\":18,\"76-100\":32,\"51-75\":6,\"26-50\":1}</td>\n",
       "      <td>619</td>\n",
       "      <td>371</td>\n",
       "      <td>2573</td>\n",
       "      <td>45019</td>\n",
       "      <td>45</td>\n",
       "    </tr>\n",
       "  </tbody>\n",
       "</table>\n",
       "<p>5 rows × 25 columns</p>\n",
       "</div>"
      ],
      "text/plain": [
       "   origin_census_block_group           date_range_start  \\\n",
       "0               450410007002  2020-06-01T00:00:00-04:00   \n",
       "1               450450028053  2020-06-01T00:00:00-04:00   \n",
       "2               450630210092  2020-06-01T00:00:00-04:00   \n",
       "3               450830231012  2020-06-01T00:00:00-04:00   \n",
       "4               450190049012  2020-06-01T00:00:00-04:00   \n",
       "\n",
       "              date_range_end  device_count  distance_traveled_from_home  \\\n",
       "0  2020-06-02T00:00:00-04:00            65                         1160   \n",
       "1  2020-06-02T00:00:00-04:00           141                         3402   \n",
       "2  2020-06-02T00:00:00-04:00           821                         4695   \n",
       "3  2020-06-02T00:00:00-04:00           118                         3077   \n",
       "4  2020-06-02T00:00:00-04:00            63                          802   \n",
       "\n",
       "                          bucketed_distance_traveled  \\\n",
       "0  {\"16001-50000\":2,\"0\":26,\">50000\":7,\"2001-8000\"...   \n",
       "1  {\"16001-50000\":5,\"0\":26,\">50000\":17,\"2001-8000...   \n",
       "2  {\"16001-50000\":187,\"0\":192,\">50000\":53,\"2001-8...   \n",
       "3  {\"16001-50000\":17,\"0\":29,\">50000\":5,\"2001-8000...   \n",
       "4  {\"16001-50000\":3,\"0\":16,\">50000\":10,\"2001-8000...   \n",
       "\n",
       "          median_dwell_at_bucketed_distance_traveled  \\\n",
       "0  {\"16001-50000\":33,\">50000\":187,\"<1000\":35,\"200...   \n",
       "1  {\"16001-50000\":102,\">50000\":83,\"<1000\":71,\"200...   \n",
       "2  {\"16001-50000\":49,\">50000\":47,\"<1000\":103,\"200...   \n",
       "3  {\"16001-50000\":47,\">50000\":99,\"<1000\":158,\"200...   \n",
       "4  {\"16001-50000\":310,\">50000\":70,\"<1000\":145,\"20...   \n",
       "\n",
       "   completely_home_device_count  median_home_dwell_time  \\\n",
       "0                            26                     598   \n",
       "1                            25                     579   \n",
       "2                           192                     862   \n",
       "3                            28                     622   \n",
       "4                            18                     553   \n",
       "\n",
       "                            bucketed_home_dwell_time  ...  \\\n",
       "0  {\"721-1080\":2,\"361-720\":12,\"61-360\":10,\"<60\":1...  ...   \n",
       "1  {\"721-1080\":26,\"361-720\":17,\"61-360\":12,\"<60\":...  ...   \n",
       "2  {\"721-1080\":201,\"361-720\":117,\"61-360\":70,\"<60...  ...   \n",
       "3  {\"721-1080\":25,\"361-720\":9,\"61-360\":12,\"<60\":3...  ...   \n",
       "4  {\"721-1080\":11,\"361-720\":7,\"61-360\":6,\"<60\":21...  ...   \n",
       "\n",
       "  median_non_home_dwell_time  candidate_device_count  \\\n",
       "0                         16                     152   \n",
       "1                        209                     282   \n",
       "2                        117                    1408   \n",
       "3                        133                     261   \n",
       "4                        125                     121   \n",
       "\n",
       "                        bucketed_away_from_home_time  \\\n",
       "0  {\"21-45\":4,\"541-600\":1,\"46-60\":1,\"721-840\":3,\"...   \n",
       "1  {\"21-45\":10,\"481-540\":2,\"541-600\":6,\"46-60\":4,...   \n",
       "2  {\"21-45\":52,\"481-540\":41,\"541-600\":33,\"46-60\":...   \n",
       "3  {\"21-45\":5,\"481-540\":12,\"541-600\":2,\"46-60\":7,...   \n",
       "4  {\"21-45\":3,\"481-540\":2,\"541-600\":1,\"46-60\":2,\"...   \n",
       "\n",
       "  median_percentage_time_home  \\\n",
       "0                          95   \n",
       "1                          67   \n",
       "2                          86   \n",
       "3                          70   \n",
       "4                          78   \n",
       "\n",
       "                      bucketed_percentage_time_home  mean_home_dwell_time  \\\n",
       "0       {\"0-25\":16,\"76-100\":40,\"51-75\":5,\"26-50\":4}                   629   \n",
       "1      {\"0-25\":50,\"76-100\":57,\"51-75\":19,\"26-50\":6}                   601   \n",
       "2  {\"0-25\":131,\"76-100\":476,\"51-75\":165,\"26-50\":45}                   803   \n",
       "3      {\"0-25\":36,\"76-100\":53,\"51-75\":21,\"26-50\":3}                   620   \n",
       "4       {\"0-25\":18,\"76-100\":32,\"51-75\":6,\"26-50\":1}                   619   \n",
       "\n",
       "   mean_non_home_dwell_time mean_distance_traveled_from_home  county_fips  \\\n",
       "0                       226                             2134        45041   \n",
       "1                       350                            20900        45045   \n",
       "2                       267                             8407        45063   \n",
       "3                       301                             4906        45083   \n",
       "4                       371                             2573        45019   \n",
       "\n",
       "  state_fips  \n",
       "0         45  \n",
       "1         45  \n",
       "2         45  \n",
       "3         45  \n",
       "4         45  \n",
       "\n",
       "[5 rows x 25 columns]"
      ]
     },
     "execution_count": 60,
     "metadata": {},
     "output_type": "execute_result"
    }
   ],
   "source": [
    "df.head()"
   ]
  },
  {
   "cell_type": "code",
   "execution_count": 62,
   "metadata": {},
   "outputs": [],
   "source": [
    "df2 = df[df['county_fips'] == county_fips]\n",
    "df3 = df[df['state_fips'] == state_fips]"
   ]
  },
  {
   "cell_type": "code",
   "execution_count": 84,
   "metadata": {},
   "outputs": [],
   "source": []
  },
  {
   "cell_type": "code",
   "execution_count": 85,
   "metadata": {},
   "outputs": [
    {
     "data": {
      "text/plain": [
       "3044"
      ]
     },
     "execution_count": 85,
     "metadata": {},
     "output_type": "execute_result"
    }
   ],
   "source": []
  },
  {
   "cell_type": "code",
   "execution_count": 103,
   "metadata": {},
   "outputs": [],
   "source": [
    "def transition_matrix(df):\n",
    "\n",
    "    census_block_group_ids = df['origin_census_block_group'].unique()\n",
    "    cbg_idx = {cbg_id: idx for idx, cbg_id in enumerate(census_block_group_ids)}\n",
    "\n",
    "    num_block_groups = len(census_block_group_ids)\n",
    "\n",
    "    travel_amounts = np.zeros((num_block_groups, num_block_groups))\n",
    "\n",
    "    for i in range(len(df)):\n",
    "        row = df.iloc[i]\n",
    "\n",
    "        origin_id = row['origin_census_block_group']\n",
    "        if origin_id in cbg_idx:\n",
    "            origin_idx = cbg_idx[origin_id]\n",
    "        else:\n",
    "            continue\n",
    "        #if i < 1:\n",
    "        #    print(f'origin_id: {origin_id}')\n",
    "\n",
    "        dests = json.loads(row['destination_cbgs'])\n",
    "        #if i < 1:\n",
    "        #    print(dests)\n",
    "        for dest_id, num_devices in dests.items():\n",
    "            dest_id = int(dest_id)\n",
    "            if dest_id in cbg_idx:\n",
    "                #if i < 10:\n",
    "                #    print(f'{origin_id} traveled to {dest_id}: {num_devices} devices')    \n",
    "                dest_idx = cbg_idx[dest_id]\n",
    "                travel_amounts[dest_idx][origin_idx] += num_devices\n",
    "\n",
    "    return travel_amounts"
   ]
  },
  {
   "cell_type": "markdown",
   "metadata": {},
   "source": [
    "## Travel Within the State"
   ]
  },
  {
   "cell_type": "code",
   "execution_count": 104,
   "metadata": {},
   "outputs": [
    {
     "data": {
      "text/plain": [
       "array([[ 52.,   0.,   0., ...,   0.,   0.,   0.],\n",
       "       [  0., 107.,   0., ...,   0.,   1.,   0.],\n",
       "       [  0.,   0., 743., ...,   0.,   0.,   0.],\n",
       "       ...,\n",
       "       [  0.,   0.,   0., ...,  39.,   0.,   0.],\n",
       "       [  0.,   0.,   0., ...,   0., 138.,   0.],\n",
       "       [  0.,   0.,   2., ...,   0.,   0., 110.]])"
      ]
     },
     "execution_count": 104,
     "metadata": {},
     "output_type": "execute_result"
    }
   ],
   "source": [
    "travel_amounts = transition_matrix(df3)\n",
    "travel_amounts"
   ]
  },
  {
   "cell_type": "code",
   "execution_count": 105,
   "metadata": {},
   "outputs": [
    {
     "data": {
      "text/plain": [
       "210350"
      ]
     },
     "execution_count": 105,
     "metadata": {},
     "output_type": "execute_result"
    }
   ],
   "source": [
    "# Number of entries filled:\n",
    "len(travel_amounts.nonzero()[0])"
   ]
  },
  {
   "cell_type": "code",
   "execution_count": 106,
   "metadata": {},
   "outputs": [
    {
     "data": {
      "text/plain": [
       "3044"
      ]
     },
     "execution_count": 106,
     "metadata": {},
     "output_type": "execute_result"
    }
   ],
   "source": [
    "# Number of block groups:\n",
    "num_block_groups = travel_amounts.shape[0]\n",
    "num_block_groups"
   ]
  },
  {
   "cell_type": "code",
   "execution_count": 107,
   "metadata": {},
   "outputs": [
    {
     "data": {
      "text/plain": [
       "0.02270143027104871"
      ]
     },
     "execution_count": 107,
     "metadata": {},
     "output_type": "execute_result"
    }
   ],
   "source": [
    "# Portion of the matrix that's filled:\n",
    "len(travel_amounts.nonzero()[0]) / (num_block_groups * num_block_groups)"
   ]
  },
  {
   "cell_type": "markdown",
   "metadata": {},
   "source": [
    "## Travel Within the County"
   ]
  },
  {
   "cell_type": "code",
   "execution_count": 108,
   "metadata": {},
   "outputs": [
    {
     "data": {
      "text/plain": [
       "array([[ 78.,   9.,   3.,   1.,   0.,   3.,   0.,   7.,   0.,   0.,   2.,\n",
       "          1.,   1.,   4.,   7.,   1.,   4.,   2.],\n",
       "       [  3.,  86.,   0.,   0.,   0.,   1.,   0.,   0.,   1.,   0.,   2.,\n",
       "          2.,   0.,   3.,   3.,   0.,   0.,   2.],\n",
       "       [ 13.,   1.,  59.,   0.,   0.,   1.,   0.,   5.,   1.,   0.,   4.,\n",
       "          0.,   1.,   3.,   5.,   0.,   4.,   3.],\n",
       "       [  0.,   0.,   1.,  39.,   0.,   0.,   0.,   0.,   1.,   1.,   0.,\n",
       "          0.,   3.,   0.,   1.,   0.,   0.,   0.],\n",
       "       [  0.,   0.,   1.,   1.,  69.,   1.,   1.,   0.,   0.,   1.,   0.,\n",
       "          1.,   0.,   0.,   1.,   1.,   0.,   0.],\n",
       "       [  3.,   2.,   1.,   0.,   0.,  25.,   0.,   1.,   0.,   2.,   1.,\n",
       "          3.,   0.,   2.,   3.,   3.,   1.,   0.],\n",
       "       [  1.,   0.,   0.,   0.,   2.,   0.,  97.,   0.,   0.,   4.,   0.,\n",
       "          2.,   0.,   1.,   0.,   0.,   0.,   1.],\n",
       "       [  4.,   1.,   6.,   0.,   0.,   0.,   0.,  50.,   0.,   0.,   4.,\n",
       "          3.,   1.,   2.,   0.,   2.,   3.,   3.],\n",
       "       [  0.,   0.,   2.,   5.,   0.,   1.,   0.,   1.,  31.,   0.,   0.,\n",
       "          0.,   0.,   0.,   0.,   0.,   0.,   0.],\n",
       "       [  1.,   0.,   2.,   0.,   1.,   0.,   3.,   0.,   0.,  44.,   1.,\n",
       "          1.,   0.,   2.,   0.,   0.,   0.,   1.],\n",
       "       [  2.,   1.,   1.,   0.,   0.,   0.,   0.,   3.,   0.,   0.,  33.,\n",
       "          1.,   0.,   1.,   5.,   0.,   4.,   1.],\n",
       "       [  2.,   1.,   0.,   2.,   3.,   0.,   9.,   4.,   0.,   5.,   1.,\n",
       "        113.,   1.,   1.,   2.,   0.,   6.,   4.],\n",
       "       [  1.,   0.,   1.,   3.,   0.,   0.,   0.,   0.,   2.,   0.,   0.,\n",
       "          0.,  37.,   1.,   2.,   0.,   0.,   0.],\n",
       "       [ 15.,  10.,   8.,   3.,   2.,   2.,   2.,  16.,   3.,   1.,   5.,\n",
       "          4.,   3.,  71.,  10.,   3.,  14.,   6.],\n",
       "       [  2.,   1.,   1.,   0.,   0.,   0.,   1.,   1.,   1.,   0.,   0.,\n",
       "          0.,   2.,   2.,  69.,   0.,   2.,   0.],\n",
       "       [  2.,   1.,   0.,   0.,   1.,   0.,   0.,   0.,   0.,   0.,   0.,\n",
       "          1.,   0.,   3.,   0.,  51.,   0.,   1.],\n",
       "       [ 30.,   9.,  17.,   2.,   2.,   3.,   0.,  13.,   4.,   0.,   9.,\n",
       "          6.,   5.,  10.,  19.,   1.,  69.,   5.],\n",
       "       [ 12.,  13.,  12.,   3.,   1.,   1.,   1.,   4.,   3.,   0.,   4.,\n",
       "          4.,   4.,   6.,   8.,   1.,   9.,  59.]])"
      ]
     },
     "execution_count": 108,
     "metadata": {},
     "output_type": "execute_result"
    }
   ],
   "source": [
    "travel_amounts = transition_matrix(df2)\n",
    "travel_amounts"
   ]
  },
  {
   "cell_type": "code",
   "execution_count": 109,
   "metadata": {},
   "outputs": [
    {
     "data": {
      "text/plain": [
       "193"
      ]
     },
     "execution_count": 109,
     "metadata": {},
     "output_type": "execute_result"
    }
   ],
   "source": [
    "# Number of entries filled:\n",
    "len(travel_amounts.nonzero()[0])"
   ]
  },
  {
   "cell_type": "code",
   "execution_count": 110,
   "metadata": {},
   "outputs": [
    {
     "data": {
      "text/plain": [
       "18"
      ]
     },
     "execution_count": 110,
     "metadata": {},
     "output_type": "execute_result"
    }
   ],
   "source": [
    "# Number of block groups:\n",
    "num_block_groups = travel_amounts.shape[0]\n",
    "num_block_groups"
   ]
  },
  {
   "cell_type": "code",
   "execution_count": 111,
   "metadata": {},
   "outputs": [
    {
     "data": {
      "text/plain": [
       "0.595679012345679"
      ]
     },
     "execution_count": 111,
     "metadata": {},
     "output_type": "execute_result"
    }
   ],
   "source": [
    "# Portion of the matrix that's filled:\n",
    "len(travel_amounts.nonzero()[0]) / (num_block_groups * num_block_groups)"
   ]
  },
  {
   "cell_type": "code",
   "execution_count": 113,
   "metadata": {},
   "outputs": [],
   "source": [
    "eigenvalues, eigenvectors = np.linalg.eig(travel_amounts)"
   ]
  },
  {
   "cell_type": "code",
   "execution_count": 114,
   "metadata": {},
   "outputs": [
    {
     "data": {
      "text/plain": [
       "array([120.26258828+0.j        , 103.83280023+0.j        ,\n",
       "        96.31980653+0.j        ,  83.13093267+0.j        ,\n",
       "        24.83652457+0.j        ,  69.10655686+0.j        ,\n",
       "        67.04927709+0.j        ,  65.56275969+0.j        ,\n",
       "        61.62979762+0.j        ,  30.9300983 +0.j        ,\n",
       "        31.90058593+0.j        ,  34.13145462+0.j        ,\n",
       "        54.60478538+0.j        ,  53.13661963+0.j        ,\n",
       "        49.08183571+1.31774617j,  49.08183571-1.31774617j,\n",
       "        42.08696429+0.j        ,  43.31477688+0.j        ])"
      ]
     },
     "execution_count": 114,
     "metadata": {},
     "output_type": "execute_result"
    }
   ],
   "source": [
    "eigenvalues"
   ]
  },
  {
   "cell_type": "code",
   "execution_count": 122,
   "metadata": {},
   "outputs": [],
   "source": [
    "largest_cbg_idx = eigenvectors[0].argmax()"
   ]
  },
  {
   "cell_type": "code",
   "execution_count": 123,
   "metadata": {},
   "outputs": [
    {
     "data": {
      "text/plain": [
       "450450028053"
      ]
     },
     "execution_count": 123,
     "metadata": {},
     "output_type": "execute_result"
    }
   ],
   "source": [
    "df['origin_census_block_group'].unique()[largest_cbg_idx]"
   ]
  },
  {
   "cell_type": "code",
   "execution_count": null,
   "metadata": {},
   "outputs": [],
   "source": []
  }
 ],
 "metadata": {
  "kernelspec": {
   "display_name": "Python 3",
   "language": "python",
   "name": "python3"
  },
  "language_info": {
   "codemirror_mode": {
    "name": "ipython",
    "version": 3
   },
   "file_extension": ".py",
   "mimetype": "text/x-python",
   "name": "python",
   "nbconvert_exporter": "python",
   "pygments_lexer": "ipython3",
   "version": "3.8.2"
  }
 },
 "nbformat": 4,
 "nbformat_minor": 4
}
