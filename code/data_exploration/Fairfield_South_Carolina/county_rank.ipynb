{
 "cells": [
  {
   "cell_type": "code",
   "execution_count": 1,
   "metadata": {},
   "outputs": [],
   "source": [
    "import os\n",
    "from pathlib import Path\n",
    "import json\n",
    "import linecache\n",
    "\n",
    "import pandas as pd\n",
    "import geopandas as gpd \n",
    "import matplotlib.pyplot as plt\n",
    "from matplotlib.dates import datestr2num\n",
    "import folium"
   ]
  },
  {
   "cell_type": "code",
   "execution_count": 2,
   "metadata": {},
   "outputs": [],
   "source": [
    "DATA_PATH = Path('/data/safegraph/social-distancing/')\n",
    "mobility_data_path = DATA_PATH / '2020/06/01/2020-06-01-social-distancing.csv'"
   ]
  },
  {
   "cell_type": "code",
   "execution_count": 3,
   "metadata": {},
   "outputs": [],
   "source": [
    "time_series_case_counts_url = 'https://raw.githubusercontent.com/CSSEGISandData/COVID-19/master/csse_covid_19_data/csse_covid_19_time_series/time_series_covid19_confirmed_US.csv'"
   ]
  },
  {
   "cell_type": "code",
   "execution_count": 4,
   "metadata": {},
   "outputs": [],
   "source": [
    "# https://github.com/obuchel/classification/blob/master/prepare_classification_counties_final.py\n",
    "# See:  https://obuchel.github.io/classification/output/classification/classification_ids_counties2.json\n",
    "# https://obuchel.github.io/classification/output/classification/classification_ids_counties2.json\n",
    "# https://obuchel.github.io/classification/classification_map.html"
   ]
  },
  {
   "cell_type": "code",
   "execution_count": 5,
   "metadata": {},
   "outputs": [],
   "source": [
    "case_counts_time_series = pd.read_csv(time_series_case_counts_url)"
   ]
  },
  {
   "cell_type": "code",
   "execution_count": 6,
   "metadata": {},
   "outputs": [],
   "source": [
    "south_carolina_case_counts_time_series = case_counts_time_series[case_counts_time_series['Province_State'] == 'South Carolina']"
   ]
  },
  {
   "cell_type": "code",
   "execution_count": 7,
   "metadata": {},
   "outputs": [
    {
     "data": {
      "text/html": [
       "<div>\n",
       "<style scoped>\n",
       "    .dataframe tbody tr th:only-of-type {\n",
       "        vertical-align: middle;\n",
       "    }\n",
       "\n",
       "    .dataframe tbody tr th {\n",
       "        vertical-align: top;\n",
       "    }\n",
       "\n",
       "    .dataframe thead th {\n",
       "        text-align: right;\n",
       "    }\n",
       "</style>\n",
       "<table border=\"1\" class=\"dataframe\">\n",
       "  <thead>\n",
       "    <tr style=\"text-align: right;\">\n",
       "      <th></th>\n",
       "      <th>UID</th>\n",
       "      <th>iso2</th>\n",
       "      <th>iso3</th>\n",
       "      <th>code3</th>\n",
       "      <th>Admin2</th>\n",
       "      <th>Province_State</th>\n",
       "      <th>Country_Region</th>\n",
       "      <th>Lat</th>\n",
       "      <th>Long_</th>\n",
       "      <th>Combined_Key</th>\n",
       "      <th>...</th>\n",
       "      <th>6/25/20</th>\n",
       "      <th>6/26/20</th>\n",
       "      <th>6/27/20</th>\n",
       "      <th>6/28/20</th>\n",
       "      <th>6/29/20</th>\n",
       "      <th>6/30/20</th>\n",
       "      <th>7/1/20</th>\n",
       "      <th>7/2/20</th>\n",
       "      <th>7/3/20</th>\n",
       "      <th>7/4/20</th>\n",
       "    </tr>\n",
       "    <tr>\n",
       "      <th>FIPS</th>\n",
       "      <th></th>\n",
       "      <th></th>\n",
       "      <th></th>\n",
       "      <th></th>\n",
       "      <th></th>\n",
       "      <th></th>\n",
       "      <th></th>\n",
       "      <th></th>\n",
       "      <th></th>\n",
       "      <th></th>\n",
       "      <th></th>\n",
       "      <th></th>\n",
       "      <th></th>\n",
       "      <th></th>\n",
       "      <th></th>\n",
       "      <th></th>\n",
       "      <th></th>\n",
       "      <th></th>\n",
       "      <th></th>\n",
       "      <th></th>\n",
       "      <th></th>\n",
       "    </tr>\n",
       "  </thead>\n",
       "  <tbody>\n",
       "    <tr>\n",
       "      <th>45001</th>\n",
       "      <td>84045001</td>\n",
       "      <td>US</td>\n",
       "      <td>USA</td>\n",
       "      <td>840</td>\n",
       "      <td>Abbeville</td>\n",
       "      <td>South Carolina</td>\n",
       "      <td>US</td>\n",
       "      <td>34.223334</td>\n",
       "      <td>-82.461707</td>\n",
       "      <td>Abbeville, South Carolina, US</td>\n",
       "      <td>...</td>\n",
       "      <td>99</td>\n",
       "      <td>100</td>\n",
       "      <td>103</td>\n",
       "      <td>103</td>\n",
       "      <td>106</td>\n",
       "      <td>113</td>\n",
       "      <td>113</td>\n",
       "      <td>119</td>\n",
       "      <td>118</td>\n",
       "      <td>119</td>\n",
       "    </tr>\n",
       "    <tr>\n",
       "      <th>45003</th>\n",
       "      <td>84045003</td>\n",
       "      <td>US</td>\n",
       "      <td>USA</td>\n",
       "      <td>840</td>\n",
       "      <td>Aiken</td>\n",
       "      <td>South Carolina</td>\n",
       "      <td>US</td>\n",
       "      <td>33.543380</td>\n",
       "      <td>-81.636454</td>\n",
       "      <td>Aiken, South Carolina, US</td>\n",
       "      <td>...</td>\n",
       "      <td>314</td>\n",
       "      <td>325</td>\n",
       "      <td>335</td>\n",
       "      <td>345</td>\n",
       "      <td>358</td>\n",
       "      <td>387</td>\n",
       "      <td>406</td>\n",
       "      <td>434</td>\n",
       "      <td>451</td>\n",
       "      <td>488</td>\n",
       "    </tr>\n",
       "    <tr>\n",
       "      <th>45005</th>\n",
       "      <td>84045005</td>\n",
       "      <td>US</td>\n",
       "      <td>USA</td>\n",
       "      <td>840</td>\n",
       "      <td>Allendale</td>\n",
       "      <td>South Carolina</td>\n",
       "      <td>US</td>\n",
       "      <td>32.988374</td>\n",
       "      <td>-81.353211</td>\n",
       "      <td>Allendale, South Carolina, US</td>\n",
       "      <td>...</td>\n",
       "      <td>47</td>\n",
       "      <td>47</td>\n",
       "      <td>48</td>\n",
       "      <td>48</td>\n",
       "      <td>48</td>\n",
       "      <td>48</td>\n",
       "      <td>50</td>\n",
       "      <td>58</td>\n",
       "      <td>58</td>\n",
       "      <td>58</td>\n",
       "    </tr>\n",
       "    <tr>\n",
       "      <th>45007</th>\n",
       "      <td>84045007</td>\n",
       "      <td>US</td>\n",
       "      <td>USA</td>\n",
       "      <td>840</td>\n",
       "      <td>Anderson</td>\n",
       "      <td>South Carolina</td>\n",
       "      <td>US</td>\n",
       "      <td>34.518281</td>\n",
       "      <td>-82.639595</td>\n",
       "      <td>Anderson, South Carolina, US</td>\n",
       "      <td>...</td>\n",
       "      <td>508</td>\n",
       "      <td>525</td>\n",
       "      <td>552</td>\n",
       "      <td>563</td>\n",
       "      <td>578</td>\n",
       "      <td>608</td>\n",
       "      <td>635</td>\n",
       "      <td>676</td>\n",
       "      <td>742</td>\n",
       "      <td>761</td>\n",
       "    </tr>\n",
       "    <tr>\n",
       "      <th>45009</th>\n",
       "      <td>84045009</td>\n",
       "      <td>US</td>\n",
       "      <td>USA</td>\n",
       "      <td>840</td>\n",
       "      <td>Bamberg</td>\n",
       "      <td>South Carolina</td>\n",
       "      <td>US</td>\n",
       "      <td>33.219276</td>\n",
       "      <td>-81.056600</td>\n",
       "      <td>Bamberg, South Carolina, US</td>\n",
       "      <td>...</td>\n",
       "      <td>79</td>\n",
       "      <td>83</td>\n",
       "      <td>84</td>\n",
       "      <td>91</td>\n",
       "      <td>103</td>\n",
       "      <td>113</td>\n",
       "      <td>117</td>\n",
       "      <td>130</td>\n",
       "      <td>140</td>\n",
       "      <td>144</td>\n",
       "    </tr>\n",
       "  </tbody>\n",
       "</table>\n",
       "<p>5 rows × 175 columns</p>\n",
       "</div>"
      ],
      "text/plain": [
       "            UID iso2 iso3  code3     Admin2  Province_State Country_Region  \\\n",
       "FIPS                                                                         \n",
       "45001  84045001   US  USA    840  Abbeville  South Carolina             US   \n",
       "45003  84045003   US  USA    840      Aiken  South Carolina             US   \n",
       "45005  84045005   US  USA    840  Allendale  South Carolina             US   \n",
       "45007  84045007   US  USA    840   Anderson  South Carolina             US   \n",
       "45009  84045009   US  USA    840    Bamberg  South Carolina             US   \n",
       "\n",
       "             Lat      Long_                   Combined_Key  ...  6/25/20  \\\n",
       "FIPS                                                        ...            \n",
       "45001  34.223334 -82.461707  Abbeville, South Carolina, US  ...       99   \n",
       "45003  33.543380 -81.636454      Aiken, South Carolina, US  ...      314   \n",
       "45005  32.988374 -81.353211  Allendale, South Carolina, US  ...       47   \n",
       "45007  34.518281 -82.639595   Anderson, South Carolina, US  ...      508   \n",
       "45009  33.219276 -81.056600    Bamberg, South Carolina, US  ...       79   \n",
       "\n",
       "       6/26/20  6/27/20  6/28/20  6/29/20  6/30/20  7/1/20  7/2/20  7/3/20  \\\n",
       "FIPS                                                                         \n",
       "45001      100      103      103      106      113     113     119     118   \n",
       "45003      325      335      345      358      387     406     434     451   \n",
       "45005       47       48       48       48       48      50      58      58   \n",
       "45007      525      552      563      578      608     635     676     742   \n",
       "45009       83       84       91      103      113     117     130     140   \n",
       "\n",
       "       7/4/20  \n",
       "FIPS           \n",
       "45001     119  \n",
       "45003     488  \n",
       "45005      58  \n",
       "45007     761  \n",
       "45009     144  \n",
       "\n",
       "[5 rows x 175 columns]"
      ]
     },
     "execution_count": 7,
     "metadata": {},
     "output_type": "execute_result"
    }
   ],
   "source": [
    "south_carolina_case_counts_time_series = south_carolina_case_counts_time_series.astype({'FIPS': int}).set_index('FIPS')\n",
    "south_carolina_case_counts_time_series.head()"
   ]
  },
  {
   "cell_type": "code",
   "execution_count": 8,
   "metadata": {},
   "outputs": [],
   "source": [
    "# south_carolina_case_counts_time_series.loc[45001:45003]"
   ]
  },
  {
   "cell_type": "code",
   "execution_count": 9,
   "metadata": {},
   "outputs": [],
   "source": [
    "date_columns = [column_name for column_name in south_carolina_case_counts_time_series.columns if '/' in column_name]"
   ]
  },
  {
   "cell_type": "code",
   "execution_count": 10,
   "metadata": {},
   "outputs": [],
   "source": [
    "matplotlib_dates = [datestr2num(date) for date in date_columns]\n",
    "matplotlib_dates = [pd.to_datetime(date) for date in date_columns]\n",
    "# matplotlib_dates"
   ]
  },
  {
   "cell_type": "code",
   "execution_count": 11,
   "metadata": {},
   "outputs": [
    {
     "data": {
      "text/html": [
       "<div>\n",
       "<style scoped>\n",
       "    .dataframe tbody tr th:only-of-type {\n",
       "        vertical-align: middle;\n",
       "    }\n",
       "\n",
       "    .dataframe tbody tr th {\n",
       "        vertical-align: top;\n",
       "    }\n",
       "\n",
       "    .dataframe thead th {\n",
       "        text-align: right;\n",
       "    }\n",
       "</style>\n",
       "<table border=\"1\" class=\"dataframe\">\n",
       "  <thead>\n",
       "    <tr style=\"text-align: right;\">\n",
       "      <th>FIPS</th>\n",
       "      <th>45001</th>\n",
       "      <th>45003</th>\n",
       "      <th>45005</th>\n",
       "      <th>45007</th>\n",
       "      <th>45009</th>\n",
       "      <th>45011</th>\n",
       "      <th>45013</th>\n",
       "      <th>45015</th>\n",
       "      <th>45017</th>\n",
       "      <th>45019</th>\n",
       "      <th>...</th>\n",
       "      <th>45077</th>\n",
       "      <th>45079</th>\n",
       "      <th>45081</th>\n",
       "      <th>45083</th>\n",
       "      <th>45085</th>\n",
       "      <th>45087</th>\n",
       "      <th>45089</th>\n",
       "      <th>45091</th>\n",
       "      <th>80045</th>\n",
       "      <th>90045</th>\n",
       "    </tr>\n",
       "  </thead>\n",
       "  <tbody>\n",
       "    <tr>\n",
       "      <th>UID</th>\n",
       "      <td>84045001</td>\n",
       "      <td>84045003</td>\n",
       "      <td>84045005</td>\n",
       "      <td>84045007</td>\n",
       "      <td>84045009</td>\n",
       "      <td>84045011</td>\n",
       "      <td>84045013</td>\n",
       "      <td>84045015</td>\n",
       "      <td>84045017</td>\n",
       "      <td>84045019</td>\n",
       "      <td>...</td>\n",
       "      <td>84045077</td>\n",
       "      <td>84045079</td>\n",
       "      <td>84045081</td>\n",
       "      <td>84045083</td>\n",
       "      <td>84045085</td>\n",
       "      <td>84045087</td>\n",
       "      <td>84045089</td>\n",
       "      <td>84045091</td>\n",
       "      <td>84080045</td>\n",
       "      <td>84090045</td>\n",
       "    </tr>\n",
       "    <tr>\n",
       "      <th>iso2</th>\n",
       "      <td>US</td>\n",
       "      <td>US</td>\n",
       "      <td>US</td>\n",
       "      <td>US</td>\n",
       "      <td>US</td>\n",
       "      <td>US</td>\n",
       "      <td>US</td>\n",
       "      <td>US</td>\n",
       "      <td>US</td>\n",
       "      <td>US</td>\n",
       "      <td>...</td>\n",
       "      <td>US</td>\n",
       "      <td>US</td>\n",
       "      <td>US</td>\n",
       "      <td>US</td>\n",
       "      <td>US</td>\n",
       "      <td>US</td>\n",
       "      <td>US</td>\n",
       "      <td>US</td>\n",
       "      <td>US</td>\n",
       "      <td>US</td>\n",
       "    </tr>\n",
       "    <tr>\n",
       "      <th>iso3</th>\n",
       "      <td>USA</td>\n",
       "      <td>USA</td>\n",
       "      <td>USA</td>\n",
       "      <td>USA</td>\n",
       "      <td>USA</td>\n",
       "      <td>USA</td>\n",
       "      <td>USA</td>\n",
       "      <td>USA</td>\n",
       "      <td>USA</td>\n",
       "      <td>USA</td>\n",
       "      <td>...</td>\n",
       "      <td>USA</td>\n",
       "      <td>USA</td>\n",
       "      <td>USA</td>\n",
       "      <td>USA</td>\n",
       "      <td>USA</td>\n",
       "      <td>USA</td>\n",
       "      <td>USA</td>\n",
       "      <td>USA</td>\n",
       "      <td>USA</td>\n",
       "      <td>USA</td>\n",
       "    </tr>\n",
       "    <tr>\n",
       "      <th>code3</th>\n",
       "      <td>840</td>\n",
       "      <td>840</td>\n",
       "      <td>840</td>\n",
       "      <td>840</td>\n",
       "      <td>840</td>\n",
       "      <td>840</td>\n",
       "      <td>840</td>\n",
       "      <td>840</td>\n",
       "      <td>840</td>\n",
       "      <td>840</td>\n",
       "      <td>...</td>\n",
       "      <td>840</td>\n",
       "      <td>840</td>\n",
       "      <td>840</td>\n",
       "      <td>840</td>\n",
       "      <td>840</td>\n",
       "      <td>840</td>\n",
       "      <td>840</td>\n",
       "      <td>840</td>\n",
       "      <td>840</td>\n",
       "      <td>840</td>\n",
       "    </tr>\n",
       "    <tr>\n",
       "      <th>Admin2</th>\n",
       "      <td>Abbeville</td>\n",
       "      <td>Aiken</td>\n",
       "      <td>Allendale</td>\n",
       "      <td>Anderson</td>\n",
       "      <td>Bamberg</td>\n",
       "      <td>Barnwell</td>\n",
       "      <td>Beaufort</td>\n",
       "      <td>Berkeley</td>\n",
       "      <td>Calhoun</td>\n",
       "      <td>Charleston</td>\n",
       "      <td>...</td>\n",
       "      <td>Pickens</td>\n",
       "      <td>Richland</td>\n",
       "      <td>Saluda</td>\n",
       "      <td>Spartanburg</td>\n",
       "      <td>Sumter</td>\n",
       "      <td>Union</td>\n",
       "      <td>Williamsburg</td>\n",
       "      <td>York</td>\n",
       "      <td>Out of SC</td>\n",
       "      <td>Unassigned</td>\n",
       "    </tr>\n",
       "    <tr>\n",
       "      <th>...</th>\n",
       "      <td>...</td>\n",
       "      <td>...</td>\n",
       "      <td>...</td>\n",
       "      <td>...</td>\n",
       "      <td>...</td>\n",
       "      <td>...</td>\n",
       "      <td>...</td>\n",
       "      <td>...</td>\n",
       "      <td>...</td>\n",
       "      <td>...</td>\n",
       "      <td>...</td>\n",
       "      <td>...</td>\n",
       "      <td>...</td>\n",
       "      <td>...</td>\n",
       "      <td>...</td>\n",
       "      <td>...</td>\n",
       "      <td>...</td>\n",
       "      <td>...</td>\n",
       "      <td>...</td>\n",
       "      <td>...</td>\n",
       "      <td>...</td>\n",
       "    </tr>\n",
       "    <tr>\n",
       "      <th>6/30/20</th>\n",
       "      <td>113</td>\n",
       "      <td>387</td>\n",
       "      <td>48</td>\n",
       "      <td>608</td>\n",
       "      <td>113</td>\n",
       "      <td>79</td>\n",
       "      <td>1223</td>\n",
       "      <td>1069</td>\n",
       "      <td>87</td>\n",
       "      <td>4027</td>\n",
       "      <td>...</td>\n",
       "      <td>835</td>\n",
       "      <td>3518</td>\n",
       "      <td>208</td>\n",
       "      <td>1609</td>\n",
       "      <td>1059</td>\n",
       "      <td>90</td>\n",
       "      <td>400</td>\n",
       "      <td>1204</td>\n",
       "      <td>0</td>\n",
       "      <td>0</td>\n",
       "    </tr>\n",
       "    <tr>\n",
       "      <th>7/1/20</th>\n",
       "      <td>113</td>\n",
       "      <td>406</td>\n",
       "      <td>50</td>\n",
       "      <td>635</td>\n",
       "      <td>117</td>\n",
       "      <td>82</td>\n",
       "      <td>1282</td>\n",
       "      <td>1170</td>\n",
       "      <td>99</td>\n",
       "      <td>4289</td>\n",
       "      <td>...</td>\n",
       "      <td>855</td>\n",
       "      <td>3632</td>\n",
       "      <td>215</td>\n",
       "      <td>1663</td>\n",
       "      <td>1080</td>\n",
       "      <td>91</td>\n",
       "      <td>412</td>\n",
       "      <td>1257</td>\n",
       "      <td>0</td>\n",
       "      <td>0</td>\n",
       "    </tr>\n",
       "    <tr>\n",
       "      <th>7/2/20</th>\n",
       "      <td>119</td>\n",
       "      <td>434</td>\n",
       "      <td>58</td>\n",
       "      <td>676</td>\n",
       "      <td>130</td>\n",
       "      <td>86</td>\n",
       "      <td>1325</td>\n",
       "      <td>1278</td>\n",
       "      <td>99</td>\n",
       "      <td>4615</td>\n",
       "      <td>...</td>\n",
       "      <td>896</td>\n",
       "      <td>3757</td>\n",
       "      <td>219</td>\n",
       "      <td>1767</td>\n",
       "      <td>1115</td>\n",
       "      <td>95</td>\n",
       "      <td>413</td>\n",
       "      <td>1301</td>\n",
       "      <td>0</td>\n",
       "      <td>0</td>\n",
       "    </tr>\n",
       "    <tr>\n",
       "      <th>7/3/20</th>\n",
       "      <td>118</td>\n",
       "      <td>451</td>\n",
       "      <td>58</td>\n",
       "      <td>742</td>\n",
       "      <td>140</td>\n",
       "      <td>88</td>\n",
       "      <td>1376</td>\n",
       "      <td>1392</td>\n",
       "      <td>103</td>\n",
       "      <td>5033</td>\n",
       "      <td>...</td>\n",
       "      <td>921</td>\n",
       "      <td>3866</td>\n",
       "      <td>224</td>\n",
       "      <td>1798</td>\n",
       "      <td>1158</td>\n",
       "      <td>98</td>\n",
       "      <td>421</td>\n",
       "      <td>1406</td>\n",
       "      <td>0</td>\n",
       "      <td>0</td>\n",
       "    </tr>\n",
       "    <tr>\n",
       "      <th>7/4/20</th>\n",
       "      <td>119</td>\n",
       "      <td>488</td>\n",
       "      <td>58</td>\n",
       "      <td>761</td>\n",
       "      <td>144</td>\n",
       "      <td>91</td>\n",
       "      <td>1413</td>\n",
       "      <td>1467</td>\n",
       "      <td>105</td>\n",
       "      <td>5376</td>\n",
       "      <td>...</td>\n",
       "      <td>942</td>\n",
       "      <td>4013</td>\n",
       "      <td>226</td>\n",
       "      <td>1835</td>\n",
       "      <td>1185</td>\n",
       "      <td>101</td>\n",
       "      <td>430</td>\n",
       "      <td>1456</td>\n",
       "      <td>0</td>\n",
       "      <td>0</td>\n",
       "    </tr>\n",
       "  </tbody>\n",
       "</table>\n",
       "<p>175 rows × 48 columns</p>\n",
       "</div>"
      ],
      "text/plain": [
       "FIPS         45001     45003      45005     45007     45009     45011  \\\n",
       "UID       84045001  84045003   84045005  84045007  84045009  84045011   \n",
       "iso2            US        US         US        US        US        US   \n",
       "iso3           USA       USA        USA       USA       USA       USA   \n",
       "code3          840       840        840       840       840       840   \n",
       "Admin2   Abbeville     Aiken  Allendale  Anderson   Bamberg  Barnwell   \n",
       "...            ...       ...        ...       ...       ...       ...   \n",
       "6/30/20        113       387         48       608       113        79   \n",
       "7/1/20         113       406         50       635       117        82   \n",
       "7/2/20         119       434         58       676       130        86   \n",
       "7/3/20         118       451         58       742       140        88   \n",
       "7/4/20         119       488         58       761       144        91   \n",
       "\n",
       "FIPS        45013     45015     45017       45019  ...     45077     45079  \\\n",
       "UID      84045013  84045015  84045017    84045019  ...  84045077  84045079   \n",
       "iso2           US        US        US          US  ...        US        US   \n",
       "iso3          USA       USA       USA         USA  ...       USA       USA   \n",
       "code3         840       840       840         840  ...       840       840   \n",
       "Admin2   Beaufort  Berkeley   Calhoun  Charleston  ...   Pickens  Richland   \n",
       "...           ...       ...       ...         ...  ...       ...       ...   \n",
       "6/30/20      1223      1069        87        4027  ...       835      3518   \n",
       "7/1/20       1282      1170        99        4289  ...       855      3632   \n",
       "7/2/20       1325      1278        99        4615  ...       896      3757   \n",
       "7/3/20       1376      1392       103        5033  ...       921      3866   \n",
       "7/4/20       1413      1467       105        5376  ...       942      4013   \n",
       "\n",
       "FIPS        45081        45083     45085     45087         45089     45091  \\\n",
       "UID      84045081     84045083  84045085  84045087      84045089  84045091   \n",
       "iso2           US           US        US        US            US        US   \n",
       "iso3          USA          USA       USA       USA           USA       USA   \n",
       "code3         840          840       840       840           840       840   \n",
       "Admin2     Saluda  Spartanburg    Sumter     Union  Williamsburg      York   \n",
       "...           ...          ...       ...       ...           ...       ...   \n",
       "6/30/20       208         1609      1059        90           400      1204   \n",
       "7/1/20        215         1663      1080        91           412      1257   \n",
       "7/2/20        219         1767      1115        95           413      1301   \n",
       "7/3/20        224         1798      1158        98           421      1406   \n",
       "7/4/20        226         1835      1185       101           430      1456   \n",
       "\n",
       "FIPS         80045       90045  \n",
       "UID       84080045    84090045  \n",
       "iso2            US          US  \n",
       "iso3           USA         USA  \n",
       "code3          840         840  \n",
       "Admin2   Out of SC  Unassigned  \n",
       "...            ...         ...  \n",
       "6/30/20          0           0  \n",
       "7/1/20           0           0  \n",
       "7/2/20           0           0  \n",
       "7/3/20           0           0  \n",
       "7/4/20           0           0  \n",
       "\n",
       "[175 rows x 48 columns]"
      ]
     },
     "execution_count": 11,
     "metadata": {},
     "output_type": "execute_result"
    }
   ],
   "source": [
    "south_carolina_case_counts_time_series.T"
   ]
  },
  {
   "cell_type": "code",
   "execution_count": 12,
   "metadata": {},
   "outputs": [
    {
     "data": {
      "text/html": [
       "<div>\n",
       "<style scoped>\n",
       "    .dataframe tbody tr th:only-of-type {\n",
       "        vertical-align: middle;\n",
       "    }\n",
       "\n",
       "    .dataframe tbody tr th {\n",
       "        vertical-align: top;\n",
       "    }\n",
       "\n",
       "    .dataframe thead th {\n",
       "        text-align: right;\n",
       "    }\n",
       "</style>\n",
       "<table border=\"1\" class=\"dataframe\">\n",
       "  <thead>\n",
       "    <tr style=\"text-align: right;\">\n",
       "      <th>FIPS</th>\n",
       "      <th>45001</th>\n",
       "      <th>45003</th>\n",
       "      <th>45005</th>\n",
       "      <th>45007</th>\n",
       "      <th>45009</th>\n",
       "      <th>45011</th>\n",
       "      <th>45013</th>\n",
       "      <th>45015</th>\n",
       "      <th>45017</th>\n",
       "      <th>45019</th>\n",
       "      <th>...</th>\n",
       "      <th>45077</th>\n",
       "      <th>45079</th>\n",
       "      <th>45081</th>\n",
       "      <th>45083</th>\n",
       "      <th>45085</th>\n",
       "      <th>45087</th>\n",
       "      <th>45089</th>\n",
       "      <th>45091</th>\n",
       "      <th>80045</th>\n",
       "      <th>90045</th>\n",
       "    </tr>\n",
       "  </thead>\n",
       "  <tbody>\n",
       "    <tr>\n",
       "      <th>1/22/20</th>\n",
       "      <td>0</td>\n",
       "      <td>0</td>\n",
       "      <td>0</td>\n",
       "      <td>0</td>\n",
       "      <td>0</td>\n",
       "      <td>0</td>\n",
       "      <td>0</td>\n",
       "      <td>0</td>\n",
       "      <td>0</td>\n",
       "      <td>0</td>\n",
       "      <td>...</td>\n",
       "      <td>0</td>\n",
       "      <td>0</td>\n",
       "      <td>0</td>\n",
       "      <td>0</td>\n",
       "      <td>0</td>\n",
       "      <td>0</td>\n",
       "      <td>0</td>\n",
       "      <td>0</td>\n",
       "      <td>0</td>\n",
       "      <td>0</td>\n",
       "    </tr>\n",
       "    <tr>\n",
       "      <th>1/23/20</th>\n",
       "      <td>0</td>\n",
       "      <td>0</td>\n",
       "      <td>0</td>\n",
       "      <td>0</td>\n",
       "      <td>0</td>\n",
       "      <td>0</td>\n",
       "      <td>0</td>\n",
       "      <td>0</td>\n",
       "      <td>0</td>\n",
       "      <td>0</td>\n",
       "      <td>...</td>\n",
       "      <td>0</td>\n",
       "      <td>0</td>\n",
       "      <td>0</td>\n",
       "      <td>0</td>\n",
       "      <td>0</td>\n",
       "      <td>0</td>\n",
       "      <td>0</td>\n",
       "      <td>0</td>\n",
       "      <td>0</td>\n",
       "      <td>0</td>\n",
       "    </tr>\n",
       "    <tr>\n",
       "      <th>1/24/20</th>\n",
       "      <td>0</td>\n",
       "      <td>0</td>\n",
       "      <td>0</td>\n",
       "      <td>0</td>\n",
       "      <td>0</td>\n",
       "      <td>0</td>\n",
       "      <td>0</td>\n",
       "      <td>0</td>\n",
       "      <td>0</td>\n",
       "      <td>0</td>\n",
       "      <td>...</td>\n",
       "      <td>0</td>\n",
       "      <td>0</td>\n",
       "      <td>0</td>\n",
       "      <td>0</td>\n",
       "      <td>0</td>\n",
       "      <td>0</td>\n",
       "      <td>0</td>\n",
       "      <td>0</td>\n",
       "      <td>0</td>\n",
       "      <td>0</td>\n",
       "    </tr>\n",
       "    <tr>\n",
       "      <th>1/25/20</th>\n",
       "      <td>0</td>\n",
       "      <td>0</td>\n",
       "      <td>0</td>\n",
       "      <td>0</td>\n",
       "      <td>0</td>\n",
       "      <td>0</td>\n",
       "      <td>0</td>\n",
       "      <td>0</td>\n",
       "      <td>0</td>\n",
       "      <td>0</td>\n",
       "      <td>...</td>\n",
       "      <td>0</td>\n",
       "      <td>0</td>\n",
       "      <td>0</td>\n",
       "      <td>0</td>\n",
       "      <td>0</td>\n",
       "      <td>0</td>\n",
       "      <td>0</td>\n",
       "      <td>0</td>\n",
       "      <td>0</td>\n",
       "      <td>0</td>\n",
       "    </tr>\n",
       "    <tr>\n",
       "      <th>1/26/20</th>\n",
       "      <td>0</td>\n",
       "      <td>0</td>\n",
       "      <td>0</td>\n",
       "      <td>0</td>\n",
       "      <td>0</td>\n",
       "      <td>0</td>\n",
       "      <td>0</td>\n",
       "      <td>0</td>\n",
       "      <td>0</td>\n",
       "      <td>0</td>\n",
       "      <td>...</td>\n",
       "      <td>0</td>\n",
       "      <td>0</td>\n",
       "      <td>0</td>\n",
       "      <td>0</td>\n",
       "      <td>0</td>\n",
       "      <td>0</td>\n",
       "      <td>0</td>\n",
       "      <td>0</td>\n",
       "      <td>0</td>\n",
       "      <td>0</td>\n",
       "    </tr>\n",
       "    <tr>\n",
       "      <th>...</th>\n",
       "      <td>...</td>\n",
       "      <td>...</td>\n",
       "      <td>...</td>\n",
       "      <td>...</td>\n",
       "      <td>...</td>\n",
       "      <td>...</td>\n",
       "      <td>...</td>\n",
       "      <td>...</td>\n",
       "      <td>...</td>\n",
       "      <td>...</td>\n",
       "      <td>...</td>\n",
       "      <td>...</td>\n",
       "      <td>...</td>\n",
       "      <td>...</td>\n",
       "      <td>...</td>\n",
       "      <td>...</td>\n",
       "      <td>...</td>\n",
       "      <td>...</td>\n",
       "      <td>...</td>\n",
       "      <td>...</td>\n",
       "      <td>...</td>\n",
       "    </tr>\n",
       "    <tr>\n",
       "      <th>6/30/20</th>\n",
       "      <td>113</td>\n",
       "      <td>387</td>\n",
       "      <td>48</td>\n",
       "      <td>608</td>\n",
       "      <td>113</td>\n",
       "      <td>79</td>\n",
       "      <td>1223</td>\n",
       "      <td>1069</td>\n",
       "      <td>87</td>\n",
       "      <td>4027</td>\n",
       "      <td>...</td>\n",
       "      <td>835</td>\n",
       "      <td>3518</td>\n",
       "      <td>208</td>\n",
       "      <td>1609</td>\n",
       "      <td>1059</td>\n",
       "      <td>90</td>\n",
       "      <td>400</td>\n",
       "      <td>1204</td>\n",
       "      <td>0</td>\n",
       "      <td>0</td>\n",
       "    </tr>\n",
       "    <tr>\n",
       "      <th>7/1/20</th>\n",
       "      <td>113</td>\n",
       "      <td>406</td>\n",
       "      <td>50</td>\n",
       "      <td>635</td>\n",
       "      <td>117</td>\n",
       "      <td>82</td>\n",
       "      <td>1282</td>\n",
       "      <td>1170</td>\n",
       "      <td>99</td>\n",
       "      <td>4289</td>\n",
       "      <td>...</td>\n",
       "      <td>855</td>\n",
       "      <td>3632</td>\n",
       "      <td>215</td>\n",
       "      <td>1663</td>\n",
       "      <td>1080</td>\n",
       "      <td>91</td>\n",
       "      <td>412</td>\n",
       "      <td>1257</td>\n",
       "      <td>0</td>\n",
       "      <td>0</td>\n",
       "    </tr>\n",
       "    <tr>\n",
       "      <th>7/2/20</th>\n",
       "      <td>119</td>\n",
       "      <td>434</td>\n",
       "      <td>58</td>\n",
       "      <td>676</td>\n",
       "      <td>130</td>\n",
       "      <td>86</td>\n",
       "      <td>1325</td>\n",
       "      <td>1278</td>\n",
       "      <td>99</td>\n",
       "      <td>4615</td>\n",
       "      <td>...</td>\n",
       "      <td>896</td>\n",
       "      <td>3757</td>\n",
       "      <td>219</td>\n",
       "      <td>1767</td>\n",
       "      <td>1115</td>\n",
       "      <td>95</td>\n",
       "      <td>413</td>\n",
       "      <td>1301</td>\n",
       "      <td>0</td>\n",
       "      <td>0</td>\n",
       "    </tr>\n",
       "    <tr>\n",
       "      <th>7/3/20</th>\n",
       "      <td>118</td>\n",
       "      <td>451</td>\n",
       "      <td>58</td>\n",
       "      <td>742</td>\n",
       "      <td>140</td>\n",
       "      <td>88</td>\n",
       "      <td>1376</td>\n",
       "      <td>1392</td>\n",
       "      <td>103</td>\n",
       "      <td>5033</td>\n",
       "      <td>...</td>\n",
       "      <td>921</td>\n",
       "      <td>3866</td>\n",
       "      <td>224</td>\n",
       "      <td>1798</td>\n",
       "      <td>1158</td>\n",
       "      <td>98</td>\n",
       "      <td>421</td>\n",
       "      <td>1406</td>\n",
       "      <td>0</td>\n",
       "      <td>0</td>\n",
       "    </tr>\n",
       "    <tr>\n",
       "      <th>7/4/20</th>\n",
       "      <td>119</td>\n",
       "      <td>488</td>\n",
       "      <td>58</td>\n",
       "      <td>761</td>\n",
       "      <td>144</td>\n",
       "      <td>91</td>\n",
       "      <td>1413</td>\n",
       "      <td>1467</td>\n",
       "      <td>105</td>\n",
       "      <td>5376</td>\n",
       "      <td>...</td>\n",
       "      <td>942</td>\n",
       "      <td>4013</td>\n",
       "      <td>226</td>\n",
       "      <td>1835</td>\n",
       "      <td>1185</td>\n",
       "      <td>101</td>\n",
       "      <td>430</td>\n",
       "      <td>1456</td>\n",
       "      <td>0</td>\n",
       "      <td>0</td>\n",
       "    </tr>\n",
       "  </tbody>\n",
       "</table>\n",
       "<p>165 rows × 48 columns</p>\n",
       "</div>"
      ],
      "text/plain": [
       "FIPS     45001  45003  45005  45007  45009  45011  45013  45015  45017  45019  \\\n",
       "1/22/20      0      0      0      0      0      0      0      0      0      0   \n",
       "1/23/20      0      0      0      0      0      0      0      0      0      0   \n",
       "1/24/20      0      0      0      0      0      0      0      0      0      0   \n",
       "1/25/20      0      0      0      0      0      0      0      0      0      0   \n",
       "1/26/20      0      0      0      0      0      0      0      0      0      0   \n",
       "...        ...    ...    ...    ...    ...    ...    ...    ...    ...    ...   \n",
       "6/30/20    113    387     48    608    113     79   1223   1069     87   4027   \n",
       "7/1/20     113    406     50    635    117     82   1282   1170     99   4289   \n",
       "7/2/20     119    434     58    676    130     86   1325   1278     99   4615   \n",
       "7/3/20     118    451     58    742    140     88   1376   1392    103   5033   \n",
       "7/4/20     119    488     58    761    144     91   1413   1467    105   5376   \n",
       "\n",
       "FIPS     ...  45077  45079  45081  45083  45085  45087  45089  45091  80045  \\\n",
       "1/22/20  ...      0      0      0      0      0      0      0      0      0   \n",
       "1/23/20  ...      0      0      0      0      0      0      0      0      0   \n",
       "1/24/20  ...      0      0      0      0      0      0      0      0      0   \n",
       "1/25/20  ...      0      0      0      0      0      0      0      0      0   \n",
       "1/26/20  ...      0      0      0      0      0      0      0      0      0   \n",
       "...      ...    ...    ...    ...    ...    ...    ...    ...    ...    ...   \n",
       "6/30/20  ...    835   3518    208   1609   1059     90    400   1204      0   \n",
       "7/1/20   ...    855   3632    215   1663   1080     91    412   1257      0   \n",
       "7/2/20   ...    896   3757    219   1767   1115     95    413   1301      0   \n",
       "7/3/20   ...    921   3866    224   1798   1158     98    421   1406      0   \n",
       "7/4/20   ...    942   4013    226   1835   1185    101    430   1456      0   \n",
       "\n",
       "FIPS     90045  \n",
       "1/22/20      0  \n",
       "1/23/20      0  \n",
       "1/24/20      0  \n",
       "1/25/20      0  \n",
       "1/26/20      0  \n",
       "...        ...  \n",
       "6/30/20      0  \n",
       "7/1/20       0  \n",
       "7/2/20       0  \n",
       "7/3/20       0  \n",
       "7/4/20       0  \n",
       "\n",
       "[165 rows x 48 columns]"
      ]
     },
     "execution_count": 12,
     "metadata": {},
     "output_type": "execute_result"
    }
   ],
   "source": [
    "county_case_counts = south_carolina_case_counts_time_series[date_columns].T\n",
    "county_case_counts"
   ]
  },
  {
   "cell_type": "code",
   "execution_count": 13,
   "metadata": {},
   "outputs": [
    {
     "data": {
      "text/html": [
       "<div>\n",
       "<style scoped>\n",
       "    .dataframe tbody tr th:only-of-type {\n",
       "        vertical-align: middle;\n",
       "    }\n",
       "\n",
       "    .dataframe tbody tr th {\n",
       "        vertical-align: top;\n",
       "    }\n",
       "\n",
       "    .dataframe thead th {\n",
       "        text-align: right;\n",
       "    }\n",
       "</style>\n",
       "<table border=\"1\" class=\"dataframe\">\n",
       "  <thead>\n",
       "    <tr style=\"text-align: right;\">\n",
       "      <th>FIPS</th>\n",
       "      <th>45001</th>\n",
       "      <th>45003</th>\n",
       "    </tr>\n",
       "  </thead>\n",
       "  <tbody>\n",
       "    <tr>\n",
       "      <th>1/22/20</th>\n",
       "      <td>0</td>\n",
       "      <td>0</td>\n",
       "    </tr>\n",
       "    <tr>\n",
       "      <th>1/23/20</th>\n",
       "      <td>0</td>\n",
       "      <td>0</td>\n",
       "    </tr>\n",
       "    <tr>\n",
       "      <th>1/24/20</th>\n",
       "      <td>0</td>\n",
       "      <td>0</td>\n",
       "    </tr>\n",
       "    <tr>\n",
       "      <th>1/25/20</th>\n",
       "      <td>0</td>\n",
       "      <td>0</td>\n",
       "    </tr>\n",
       "    <tr>\n",
       "      <th>1/26/20</th>\n",
       "      <td>0</td>\n",
       "      <td>0</td>\n",
       "    </tr>\n",
       "    <tr>\n",
       "      <th>...</th>\n",
       "      <td>...</td>\n",
       "      <td>...</td>\n",
       "    </tr>\n",
       "    <tr>\n",
       "      <th>6/30/20</th>\n",
       "      <td>113</td>\n",
       "      <td>387</td>\n",
       "    </tr>\n",
       "    <tr>\n",
       "      <th>7/1/20</th>\n",
       "      <td>113</td>\n",
       "      <td>406</td>\n",
       "    </tr>\n",
       "    <tr>\n",
       "      <th>7/2/20</th>\n",
       "      <td>119</td>\n",
       "      <td>434</td>\n",
       "    </tr>\n",
       "    <tr>\n",
       "      <th>7/3/20</th>\n",
       "      <td>118</td>\n",
       "      <td>451</td>\n",
       "    </tr>\n",
       "    <tr>\n",
       "      <th>7/4/20</th>\n",
       "      <td>119</td>\n",
       "      <td>488</td>\n",
       "    </tr>\n",
       "  </tbody>\n",
       "</table>\n",
       "<p>165 rows × 2 columns</p>\n",
       "</div>"
      ],
      "text/plain": [
       "FIPS     45001  45003\n",
       "1/22/20      0      0\n",
       "1/23/20      0      0\n",
       "1/24/20      0      0\n",
       "1/25/20      0      0\n",
       "1/26/20      0      0\n",
       "...        ...    ...\n",
       "6/30/20    113    387\n",
       "7/1/20     113    406\n",
       "7/2/20     119    434\n",
       "7/3/20     118    451\n",
       "7/4/20     119    488\n",
       "\n",
       "[165 rows x 2 columns]"
      ]
     },
     "execution_count": 13,
     "metadata": {},
     "output_type": "execute_result"
    }
   ],
   "source": [
    "county_case_counts[[45001, 45003]]"
   ]
  },
  {
   "cell_type": "code",
   "execution_count": 15,
   "metadata": {},
   "outputs": [],
   "source": [
    "#plt.clf()\n",
    "#cols = 5\n",
    "#rows = int(len(county_case_counts) / cols) + 1\n",
    "\n",
    "#figsize=(4, 2)\n",
    "\n",
    "#print('starting')\n",
    "#fig, axs = plt.subplots(rows, cols, figsize=figsize, sharex='all', sharey='all')\n",
    "#print('done')\n",
    "\n",
    "#fig"
   ]
  },
  {
   "cell_type": "code",
   "execution_count": null,
   "metadata": {},
   "outputs": [
    {
     "name": "stdout",
     "output_type": "stream",
     "text": [
      "45001 - Abbeville\n"
     ]
    },
    {
     "data": {
      "image/png": "[encoded data removed]",
      "text/plain": [
       "<Figure size 1440x144 with 1 Axes>"
      ]
     },
     "metadata": {
      "needs_background": "light"
     },
     "output_type": "display_data"
    },
    {
     "name": "stdout",
     "output_type": "stream",
     "text": [
      "45003 - Aiken\n"
     ]
    },
    {
     "data": {
      "image/png": "[encoded data removed]",
      "text/plain": [
       "<Figure size 1440x144 with 1 Axes>"
      ]
     },
     "metadata": {
      "needs_background": "light"
     },
     "output_type": "display_data"
    },
    {
     "name": "stdout",
     "output_type": "stream",
     "text": [
      "45005 - Allendale\n"
     ]
    },
    {
     "data": {
      "image/png": "[encoded data removed]",
      "text/plain": [
       "<Figure size 1440x144 with 1 Axes>"
      ]
     },
     "metadata": {
      "needs_background": "light"
     },
     "output_type": "display_data"
    },
    {
     "name": "stdout",
     "output_type": "stream",
     "text": [
      "45007 - Anderson\n"
     ]
    },
    {
     "data": {
      "image/png": "[encoded data removed]",
      "text/plain": [
       "<Figure size 1440x144 with 1 Axes>"
      ]
     },
     "metadata": {
      "needs_background": "light"
     },
     "output_type": "display_data"
    },
    {
     "name": "stdout",
     "output_type": "stream",
     "text": [
      "45009 - Bamberg\n"
     ]
    },
    {
     "data": {
      "image/png": "[encoded data removed]",
      "text/plain": [
       "<Figure size 1440x144 with 1 Axes>"
      ]
     },
     "metadata": {
      "needs_background": "light"
     },
     "output_type": "display_data"
    },
    {
     "name": "stdout",
     "output_type": "stream",
     "text": [
      "45011 - Barnwell\n"
     ]
    },
    {
     "data": {
      "image/png": "[encoded data removed]",
      "text/plain": [
       "<Figure size 1440x144 with 1 Axes>"
      ]
     },
     "metadata": {
      "needs_background": "light"
     },
     "output_type": "display_data"
    },
    {
     "name": "stdout",
     "output_type": "stream",
     "text": [
      "45013 - Beaufort\n"
     ]
    },
    {
     "data": {
      "image/png": "[encoded data removed]",
      "text/plain": [
       "<Figure size 1440x144 with 1 Axes>"
      ]
     },
     "metadata": {
      "needs_background": "light"
     },
     "output_type": "display_data"
    },
    {
     "name": "stdout",
     "output_type": "stream",
     "text": [
      "45015 - Berkeley\n"
     ]
    },
    {
     "data": {
      "image/png": "[encoded data removed]",
      "text/plain": [
       "<Figure size 1440x144 with 1 Axes>"
      ]
     },
     "metadata": {
      "needs_background": "light"
     },
     "output_type": "display_data"
    },
    {
     "name": "stdout",
     "output_type": "stream",
     "text": [
      "45017 - Calhoun\n"
     ]
    },
    {
     "data": {
      "image/png": "[encoded data removed]",
      "text/plain": [
       "<Figure size 1440x144 with 1 Axes>"
      ]
     },
     "metadata": {
      "needs_background": "light"
     },
     "output_type": "display_data"
    },
    {
     "name": "stdout",
     "output_type": "stream",
     "text": [
      "45019 - Charleston\n"
     ]
    },
    {
     "data": {
      "image/png": "[encoded data removed]",
      "text/plain": [
       "<Figure size 1440x144 with 1 Axes>"
      ]
     },
     "metadata": {
      "needs_background": "light"
     },
     "output_type": "display_data"
    },
    {
     "name": "stdout",
     "output_type": "stream",
     "text": [
      "45021 - Cherokee\n"
     ]
    },
    {
     "data": {
      "image/png": "[encoded data removed]",
      "text/plain": [
       "<Figure size 1440x144 with 1 Axes>"
      ]
     },
     "metadata": {
      "needs_background": "light"
     },
     "output_type": "display_data"
    },
    {
     "name": "stdout",
     "output_type": "stream",
     "text": [
      "45023 - Chester\n"
     ]
    },
    {
     "data": {
      "image/png": "[encoded data removed]",
      "text/plain": [
       "<Figure size 1440x144 with 1 Axes>"
      ]
     },
     "metadata": {
      "needs_background": "light"
     },
     "output_type": "display_data"
    },
    {
     "name": "stdout",
     "output_type": "stream",
     "text": [
      "45025 - Chesterfield\n"
     ]
    },
    {
     "data": {
      "image/png": "[encoded data removed]",
      "text/plain": [
       "<Figure size 1440x144 with 1 Axes>"
      ]
     },
     "metadata": {
      "needs_background": "light"
     },
     "output_type": "display_data"
    },
    {
     "name": "stdout",
     "output_type": "stream",
     "text": [
      "45027 - Clarendon\n"
     ]
    },
    {
     "data": {
      "image/png": "[encoded data removed]",
      "text/plain": [
       "<Figure size 1440x144 with 1 Axes>"
      ]
     },
     "metadata": {
      "needs_background": "light"
     },
     "output_type": "display_data"
    },
    {
     "name": "stdout",
     "output_type": "stream",
     "text": [
      "45029 - Colleton\n"
     ]
    },
    {
     "data": {
      "image/png": "[encoded data removed]",
      "text/plain": [
       "<Figure size 1440x144 with 1 Axes>"
      ]
     },
     "metadata": {
      "needs_background": "light"
     },
     "output_type": "display_data"
    },
    {
     "name": "stdout",
     "output_type": "stream",
     "text": [
      "45031 - Darlington\n"
     ]
    },
    {
     "data": {
      "image/png": "[encoded data removed]",
      "text/plain": [
       "<Figure size 1440x144 with 1 Axes>"
      ]
     },
     "metadata": {
      "needs_background": "light"
     },
     "output_type": "display_data"
    },
    {
     "name": "stdout",
     "output_type": "stream",
     "text": [
      "45033 - Dillon\n"
     ]
    },
    {
     "data": {
      "image/png": "[encoded data removed]",
      "text/plain": [
       "<Figure size 1440x144 with 1 Axes>"
      ]
     },
     "metadata": {
      "needs_background": "light"
     },
     "output_type": "display_data"
    },
    {
     "name": "stdout",
     "output_type": "stream",
     "text": [
      "45035 - Dorchester\n"
     ]
    },
    {
     "data": {
      "image/png": "[encoded data removed]",
      "text/plain": [
       "<Figure size 1440x144 with 1 Axes>"
      ]
     },
     "metadata": {
      "needs_background": "light"
     },
     "output_type": "display_data"
    },
    {
     "name": "stdout",
     "output_type": "stream",
     "text": [
      "45037 - Edgefield\n"
     ]
    },
    {
     "data": {
      "image/png": "[encoded data removed]",
      "text/plain": [
       "<Figure size 1440x144 with 1 Axes>"
      ]
     },
     "metadata": {
      "needs_background": "light"
     },
     "output_type": "display_data"
    },
    {
     "name": "stdout",
     "output_type": "stream",
     "text": [
      "45039 - Fairfield\n"
     ]
    },
    {
     "data": {
      "image/png": "[encoded data removed]",
      "text/plain": [
       "<Figure size 1440x144 with 1 Axes>"
      ]
     },
     "metadata": {
      "needs_background": "light"
     },
     "output_type": "display_data"
    },
    {
     "name": "stdout",
     "output_type": "stream",
     "text": [
      "45041 - Florence\n"
     ]
    },
    {
     "data": {
      "image/png": "[encoded data removed]",
      "text/plain": [
       "<Figure size 1440x144 with 1 Axes>"
      ]
     },
     "metadata": {
      "needs_background": "light"
     },
     "output_type": "display_data"
    },
    {
     "name": "stdout",
     "output_type": "stream",
     "text": [
      "45043 - Georgetown\n"
     ]
    },
    {
     "data": {
      "image/png": "[encoded data removed]",
      "text/plain": [
       "<Figure size 1440x144 with 1 Axes>"
      ]
     },
     "metadata": {
      "needs_background": "light"
     },
     "output_type": "display_data"
    },
    {
     "name": "stdout",
     "output_type": "stream",
     "text": [
      "45045 - Greenville\n"
     ]
    },
    {
     "data": {
      "image/png": "[encoded data removed]",
      "text/plain": [
       "<Figure size 1440x144 with 1 Axes>"
      ]
     },
     "metadata": {
      "needs_background": "light"
     },
     "output_type": "display_data"
    },
    {
     "name": "stdout",
     "output_type": "stream",
     "text": [
      "45047 - Greenwood\n"
     ]
    },
    {
     "data": {
      "image/png": "[encoded data removed]",
      "text/plain": [
       "<Figure size 1440x144 with 1 Axes>"
      ]
     },
     "metadata": {
      "needs_background": "light"
     },
     "output_type": "display_data"
    },
    {
     "name": "stdout",
     "output_type": "stream",
     "text": [
      "45049 - Hampton\n"
     ]
    },
    {
     "data": {
      "image/png": "[encoded data removed]",
      "text/plain": [
       "<Figure size 1440x144 with 1 Axes>"
      ]
     },
     "metadata": {
      "needs_background": "light"
     },
     "output_type": "display_data"
    },
    {
     "name": "stdout",
     "output_type": "stream",
     "text": [
      "45051 - Horry\n"
     ]
    },
    {
     "data": {
      "image/png": "[encoded data removed]",
      "text/plain": [
       "<Figure size 1440x144 with 1 Axes>"
      ]
     },
     "metadata": {
      "needs_background": "light"
     },
     "output_type": "display_data"
    },
    {
     "name": "stdout",
     "output_type": "stream",
     "text": [
      "45053 - Jasper\n"
     ]
    },
    {
     "data": {
      "image/png": "[encoded data removed]",
      "text/plain": [
       "<Figure size 1440x144 with 1 Axes>"
      ]
     },
     "metadata": {
      "needs_background": "light"
     },
     "output_type": "display_data"
    }
   ],
   "source": [
    "#fig.suptitle('Case Counts by County')\n",
    "figsize=(20, 2)\n",
    "\n",
    "for i, county_fips in enumerate(county_case_counts): # [[45001, 45003]]\n",
    "    #fig, ax = plt.subplots()\n",
    "    #print(i)\n",
    "    print(str(county_fips) + ' - ' + south_carolina_case_counts_time_series.loc[county_fips]['Admin2'])\n",
    "    \n",
    "    case_counts = list(county_case_counts[county_fips])\n",
    "    \n",
    "    plt.figure(figsize=figsize)\n",
    "    plt.ylim(0, 2000)\n",
    "    # plt.yscale('log')\n",
    "    plt.plot_date(matplotlib_dates, case_counts)\n",
    "    plt.show()\n",
    "    plt.close()"
   ]
  },
  {
   "cell_type": "code",
   "execution_count": 111,
   "metadata": {},
   "outputs": [],
   "source": [
    "plt.show()"
   ]
  },
  {
   "cell_type": "code",
   "execution_count": 116,
   "metadata": {},
   "outputs": [
    {
     "data": {
      "text/plain": [
       "[(0, 45001), (1, 45003)]"
      ]
     },
     "execution_count": 116,
     "metadata": {},
     "output_type": "execute_result"
    }
   ],
   "source": [
    "list(enumerate(county_case_counts[[45001, 45003]]))"
   ]
  },
  {
   "cell_type": "code",
   "execution_count": 128,
   "metadata": {},
   "outputs": [
    {
     "data": {
      "text/plain": [
       "165"
      ]
     },
     "execution_count": 128,
     "metadata": {},
     "output_type": "execute_result"
    }
   ],
   "source": [
    "len(county_case_counts)"
   ]
  },
  {
   "cell_type": "code",
   "execution_count": null,
   "metadata": {},
   "outputs": [],
   "source": []
  }
 ],
 "metadata": {
  "kernelspec": {
   "display_name": "Python 3",
   "language": "python",
   "name": "python3"
  },
  "language_info": {
   "codemirror_mode": {
    "name": "ipython",
    "version": 3
   },
   "file_extension": ".py",
   "mimetype": "text/x-python",
   "name": "python",
   "nbconvert_exporter": "python",
   "pygments_lexer": "ipython3",
   "version": "3.8.2"
  }
 },
 "nbformat": 4,
 "nbformat_minor": 4
}
