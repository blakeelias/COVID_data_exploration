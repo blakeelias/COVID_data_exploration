{
 "cells": [
  {
   "cell_type": "markdown",
   "metadata": {},
   "source": [
    "(Written by Amir Akhavan)"
   ]
  },
  {
   "cell_type": "code",
   "execution_count": 11,
   "metadata": {
    "colab": {},
    "colab_type": "code",
    "id": "htt81jqInPxb"
   },
   "outputs": [],
   "source": [
    "import requests\n",
    "import pandas as pd\n",
    "import json\n",
    "from pathlib import Path"
   ]
  },
  {
   "cell_type": "code",
   "execution_count": 162,
   "metadata": {},
   "outputs": [],
   "source": [
    "from bs4 import BeautifulSoup\n",
    "from tqdm import tqdm"
   ]
  },
  {
   "cell_type": "code",
   "execution_count": 2,
   "metadata": {},
   "outputs": [],
   "source": [
    "PREPROCESSED_DATA_PATH = Path('../.../data/preprocessed/property_assessor')"
   ]
  },
  {
   "cell_type": "code",
   "execution_count": 3,
   "metadata": {},
   "outputs": [],
   "source": [
    "county_fips_code = '45039'"
   ]
  },
  {
   "cell_type": "code",
   "execution_count": 4,
   "metadata": {
    "colab": {},
    "colab_type": "code",
    "id": "3AuxAXdV-WKp"
   },
   "outputs": [],
   "source": [
    "initial  = \"https://beacon.schneidercorp.com/Application.aspx?AppID=796&LayerID=16296\"\n",
    "x_initial = requests.get(initial)\n",
    "x_initial = x_initial.content.decode(\"utf-8\")"
   ]
  },
  {
   "cell_type": "code",
   "execution_count": 5,
   "metadata": {
    "colab": {},
    "colab_type": "code",
    "id": "PZg3rnHw_pFx"
   },
   "outputs": [],
   "source": [
    "qps_location = x_initial.find('QPS')\n",
    "qps_closing_str = x_initial[qps_location+6:]\n",
    "end = qps_closing_str.find('\"')\n",
    "QPS = qps_closing_str[:end]"
   ]
  },
  {
   "cell_type": "code",
   "execution_count": 13,
   "metadata": {},
   "outputs": [
    {
     "data": {
      "text/plain": [
       "'F9tZvOIY_XZOdUskmaGw54VoDEVPL0bY8E9muKXf1q0Y3RtiKO-fXkr2WvfxscDkbVAKnYudfhVepVVn-oXYgP-dqgsX8get-bxXhSkh4h4NzFwuFmgkFApZxPKkUjTUOnZS8m05u_47GWkMiLArf-BELR2u4O_IsifbxqlkvNtpyWSI9NEdFPBGUG59ko3ZnbGXYYaGVTaUEWlA9LDwawoz8bXObWcDd2mFX2k6SDnSaEkr5mgwe-AqziPV5IUfvXBMc1qOAcgs1In8v_8iYw2'"
      ]
     },
     "execution_count": 13,
     "metadata": {},
     "output_type": "execute_result"
    }
   ],
   "source": [
    "QPS"
   ]
  },
  {
   "cell_type": "code",
   "execution_count": 137,
   "metadata": {
    "colab": {},
    "colab_type": "code",
    "id": "fw5B3S68nXQL"
   },
   "outputs": [],
   "source": [
    "url = f'https://qpublic.schneidercorp.com/api/beaconCore/BufferAndExport?QPS={QPS}'\n",
    "myobj = {\n",
    "    'layerId': '11834', # '16297', #  original: \"11834\",\n",
    "    'keys': [\"001-00-00-003-000\", \"150-00-00-004-000\"],\n",
    "    'distance': 10000000,\n",
    "    'exportType': \"xlsx\",\n",
    "    # 'keys': [\"001-00-00-003-000\", \"028-00-00-004-000\"],\n",
    "    'showParcelId': 'true',\n",
    "    'skipLabelCount': \"0\",\n",
    "    'usePropertyAddress': 'true',\n",
    "    # my additions:\n",
    "    #'Visible': 'true',\n",
    "    #'LayerName': 'Parcels',\n",
    "    #'Query': 'true',\n",
    "    #\"HasMap\":'true',\n",
    "}\n",
    "x = requests.post(url, data = myobj)\n",
    "url_of_csv=\"https://beacon.schneidercorp.com/\""
   ]
  },
  {
   "cell_type": "code",
   "execution_count": 138,
   "metadata": {},
   "outputs": [],
   "source": [
    "# x.content"
   ]
  },
  {
   "cell_type": "code",
   "execution_count": 139,
   "metadata": {
    "colab": {},
    "colab_type": "code",
    "id": "Nmz1Cmn3nahg"
   },
   "outputs": [],
   "source": [
    "str_vals = json.loads(x.content)\n",
    "download_url = url_of_csv+str_vals['d']['DownloadUrl']\n",
    "df = pd.read_excel(download_url)\n",
    "df = df.drop_duplicates()"
   ]
  },
  {
   "cell_type": "code",
   "execution_count": 140,
   "metadata": {},
   "outputs": [],
   "source": [
    "# str_vals['d']"
   ]
  },
  {
   "cell_type": "code",
   "execution_count": 141,
   "metadata": {},
   "outputs": [],
   "source": [
    "geometry = str_vals['d']['BufferGeometry'].split('MULTIPOLYGON')[1].replace('(', '[').replace(')', ']')"
   ]
  },
  {
   "cell_type": "code",
   "execution_count": 142,
   "metadata": {},
   "outputs": [
    {
     "data": {
      "text/html": [
       "<div>\n",
       "<style scoped>\n",
       "    .dataframe tbody tr th:only-of-type {\n",
       "        vertical-align: middle;\n",
       "    }\n",
       "\n",
       "    .dataframe tbody tr th {\n",
       "        vertical-align: top;\n",
       "    }\n",
       "\n",
       "    .dataframe thead th {\n",
       "        text-align: right;\n",
       "    }\n",
       "</style>\n",
       "<table border=\"1\" class=\"dataframe\">\n",
       "  <thead>\n",
       "    <tr style=\"text-align: right;\">\n",
       "      <th></th>\n",
       "      <th>ParcelId</th>\n",
       "      <th>OwnerName</th>\n",
       "      <th>Address</th>\n",
       "      <th>City</th>\n",
       "      <th>State</th>\n",
       "      <th>Zip</th>\n",
       "    </tr>\n",
       "  </thead>\n",
       "  <tbody>\n",
       "    <tr>\n",
       "      <th>0</th>\n",
       "      <td>216-00-00-005-000</td>\n",
       "      <td>CURRENT RESIDENT</td>\n",
       "      <td>2100FT W OF INT S-20-323 &amp; S-20-324</td>\n",
       "      <td>Fairfield</td>\n",
       "      <td>SC</td>\n",
       "      <td>NaN</td>\n",
       "    </tr>\n",
       "    <tr>\n",
       "      <th>1</th>\n",
       "      <td>215-00-00-074-000</td>\n",
       "      <td>CURRENT RESIDENT</td>\n",
       "      <td>293 EMERALD DR TRACT</td>\n",
       "      <td>Fairfield</td>\n",
       "      <td>SC</td>\n",
       "      <td>NaN</td>\n",
       "    </tr>\n",
       "    <tr>\n",
       "      <th>2</th>\n",
       "      <td>215-00-00-102-000</td>\n",
       "      <td>CURRENT RESIDENT</td>\n",
       "      <td>285 EMERALD DR</td>\n",
       "      <td>Fairfield</td>\n",
       "      <td>SC</td>\n",
       "      <td>NaN</td>\n",
       "    </tr>\n",
       "    <tr>\n",
       "      <th>3</th>\n",
       "      <td>026-04-02-005-000</td>\n",
       "      <td>CURRENT RESIDENT</td>\n",
       "      <td>SW OF GIBSON END RD RD</td>\n",
       "      <td>Fairfield</td>\n",
       "      <td>SC</td>\n",
       "      <td>NaN</td>\n",
       "    </tr>\n",
       "    <tr>\n",
       "      <th>4</th>\n",
       "      <td>026-04-02-007-000</td>\n",
       "      <td>CURRENT RESIDENT</td>\n",
       "      <td>557 GIBSON END ROAD</td>\n",
       "      <td>Fairfield</td>\n",
       "      <td>SC</td>\n",
       "      <td>NaN</td>\n",
       "    </tr>\n",
       "    <tr>\n",
       "      <th>...</th>\n",
       "      <td>...</td>\n",
       "      <td>...</td>\n",
       "      <td>...</td>\n",
       "      <td>...</td>\n",
       "      <td>...</td>\n",
       "      <td>...</td>\n",
       "    </tr>\n",
       "    <tr>\n",
       "      <th>17480</th>\n",
       "      <td>141-00-00-031-000</td>\n",
       "      <td>CURRENT RESIDENT</td>\n",
       "      <td>S 2000FT INT S-20-115 &amp; HWY 34 E H</td>\n",
       "      <td>Fairfield</td>\n",
       "      <td>SC</td>\n",
       "      <td>NaN</td>\n",
       "    </tr>\n",
       "    <tr>\n",
       "      <th>17481</th>\n",
       "      <td>077-01-00-002-000</td>\n",
       "      <td>CURRENT RESIDENT</td>\n",
       "      <td>1704 GREAT NORTH RD RD</td>\n",
       "      <td>Fairfield</td>\n",
       "      <td>SC</td>\n",
       "      <td>NaN</td>\n",
       "    </tr>\n",
       "    <tr>\n",
       "      <th>17482</th>\n",
       "      <td>048-00-00-002-000</td>\n",
       "      <td>CURRENT RESIDENT</td>\n",
       "      <td>HWY 215 N, CLOWNEY &amp; JOHN BRICE RDS</td>\n",
       "      <td>Fairfield</td>\n",
       "      <td>SC</td>\n",
       "      <td>NaN</td>\n",
       "    </tr>\n",
       "    <tr>\n",
       "      <th>17483</th>\n",
       "      <td>047-00-00-047-000</td>\n",
       "      <td>CURRENT RESIDENT</td>\n",
       "      <td>JOHN BRICE RD</td>\n",
       "      <td>Fairfield</td>\n",
       "      <td>SC</td>\n",
       "      <td>NaN</td>\n",
       "    </tr>\n",
       "    <tr>\n",
       "      <th>17490</th>\n",
       "      <td>114-01-01-021-000</td>\n",
       "      <td>CURRENT RESIDENT</td>\n",
       "      <td>1423 DEER RUN ROAD SEC 17 LOT 115</td>\n",
       "      <td>Fairfield</td>\n",
       "      <td>SC</td>\n",
       "      <td>NaN</td>\n",
       "    </tr>\n",
       "  </tbody>\n",
       "</table>\n",
       "<p>17244 rows × 6 columns</p>\n",
       "</div>"
      ],
      "text/plain": [
       "                ParcelId         OwnerName  \\\n",
       "0      216-00-00-005-000  CURRENT RESIDENT   \n",
       "1      215-00-00-074-000  CURRENT RESIDENT   \n",
       "2      215-00-00-102-000  CURRENT RESIDENT   \n",
       "3      026-04-02-005-000  CURRENT RESIDENT   \n",
       "4      026-04-02-007-000  CURRENT RESIDENT   \n",
       "...                  ...               ...   \n",
       "17480  141-00-00-031-000  CURRENT RESIDENT   \n",
       "17481  077-01-00-002-000  CURRENT RESIDENT   \n",
       "17482  048-00-00-002-000  CURRENT RESIDENT   \n",
       "17483  047-00-00-047-000  CURRENT RESIDENT   \n",
       "17490  114-01-01-021-000  CURRENT RESIDENT   \n",
       "\n",
       "                                   Address       City State  Zip  \n",
       "0      2100FT W OF INT S-20-323 & S-20-324  Fairfield    SC  NaN  \n",
       "1                     293 EMERALD DR TRACT  Fairfield    SC  NaN  \n",
       "2                           285 EMERALD DR  Fairfield    SC  NaN  \n",
       "3                   SW OF GIBSON END RD RD  Fairfield    SC  NaN  \n",
       "4                      557 GIBSON END ROAD  Fairfield    SC  NaN  \n",
       "...                                    ...        ...   ...  ...  \n",
       "17480   S 2000FT INT S-20-115 & HWY 34 E H  Fairfield    SC  NaN  \n",
       "17481               1704 GREAT NORTH RD RD  Fairfield    SC  NaN  \n",
       "17482  HWY 215 N, CLOWNEY & JOHN BRICE RDS  Fairfield    SC  NaN  \n",
       "17483                        JOHN BRICE RD  Fairfield    SC  NaN  \n",
       "17490    1423 DEER RUN ROAD SEC 17 LOT 115  Fairfield    SC  NaN  \n",
       "\n",
       "[17244 rows x 6 columns]"
      ]
     },
     "execution_count": 142,
     "metadata": {},
     "output_type": "execute_result"
    }
   ],
   "source": [
    "df"
   ]
  },
  {
   "cell_type": "code",
   "execution_count": 143,
   "metadata": {},
   "outputs": [],
   "source": [
    "#df = df.set_index('ParcelId')\n",
    "#df"
   ]
  },
  {
   "cell_type": "code",
   "execution_count": 144,
   "metadata": {},
   "outputs": [
    {
     "data": {
      "text/plain": [
       "0        216-00-00-005-000\n",
       "1        215-00-00-074-000\n",
       "2        215-00-00-102-000\n",
       "3        026-04-02-005-000\n",
       "4        026-04-02-007-000\n",
       "               ...        \n",
       "17480    141-00-00-031-000\n",
       "17481    077-01-00-002-000\n",
       "17482    048-00-00-002-000\n",
       "17483    047-00-00-047-000\n",
       "17490    114-01-01-021-000\n",
       "Name: ParcelId, Length: 17244, dtype: object"
      ]
     },
     "execution_count": 144,
     "metadata": {},
     "output_type": "execute_result"
    }
   ],
   "source": [
    "parcel_ids = df['ParcelId']\n",
    "parcel_ids"
   ]
  },
  {
   "cell_type": "code",
   "execution_count": 145,
   "metadata": {},
   "outputs": [],
   "source": [
    "def lookup_parcel_id(parcel_id):\n",
    "    property_lookup_url = 'https://beacon.schneidercorp.com/Application.aspx?AppID=796&LayerID=11834&PageTypeID=4&PageID=5738&Q=1649139588&KeyValue='\n",
    "    url = property_lookup_url + parcel_id\n",
    "    html = requests.get(url).content.decode(\"utf-8\")\n",
    "    return html"
   ]
  },
  {
   "cell_type": "code",
   "execution_count": 155,
   "metadata": {},
   "outputs": [],
   "source": [
    "def market_value(parcel_html):\n",
    "    try:\n",
    "        #'Total Market Value' in html\n",
    "        idx = parcel_html.index('Total Market Value')\n",
    "        substring = parcel_html[idx:]\n",
    "        idx = substring.index('$')\n",
    "        substring = substring[idx:]\n",
    "        idx = substring.index('</td>')\n",
    "        value_str = substring[1:idx]\n",
    "        return float(value_str.replace(',', ''))\n",
    "    except:\n",
    "        return float('NaN')"
   ]
  },
  {
   "cell_type": "code",
   "execution_count": null,
   "metadata": {},
   "outputs": [
    {
     "name": "stderr",
     "output_type": "stream",
     "text": [
      "238it [00:30,  9.11it/s]"
     ]
    }
   ],
   "source": [
    "market_values = []\n",
    "for i, parcel_id in tqdm(enumerate(parcel_ids)):\n",
    "    parcel_html = lookup_parcel_id(parcel_id)\n",
    "    value = market_value(parcel_html)\n",
    "    market_values.append(value)\n",
    "    # print(df.iloc[i]) # ['MarketValue'] = value\n",
    "df['MarketValue'] = market_values\n",
    "df"
   ]
  },
  {
   "cell_type": "code",
   "execution_count": 8,
   "metadata": {},
   "outputs": [],
   "source": [
    "path = PREPROCESSED_DATA_PATH / 'fips' / county_fips_code\n",
    "!mkdir -p {path}\n",
    "df.to_csv(path / 'properties.csv')"
   ]
  },
  {
   "cell_type": "code",
   "execution_count": 9,
   "metadata": {
    "colab": {
     "base_uri": "https://localhost:8080/",
     "height": 34
    },
    "colab_type": "code",
    "id": "i5IwW4tTWn-I",
    "outputId": "be7d968c-2325-4323-9c76-dab9db0b83a6"
   },
   "outputs": [
    {
     "name": "stdout",
     "output_type": "stream",
     "text": [
      "17245 ../../data/preprocessed/property_assessor/fips/45039/properties.csv\n"
     ]
    }
   ],
   "source": [
    "!wc -l {path}/properties.csv"
   ]
  },
  {
   "cell_type": "code",
   "execution_count": 10,
   "metadata": {
    "colab": {},
    "colab_type": "code",
    "id": "mxQWZO4sJfWU"
   },
   "outputs": [
    {
     "data": {
      "text/html": [
       "<div>\n",
       "<style scoped>\n",
       "    .dataframe tbody tr th:only-of-type {\n",
       "        vertical-align: middle;\n",
       "    }\n",
       "\n",
       "    .dataframe tbody tr th {\n",
       "        vertical-align: top;\n",
       "    }\n",
       "\n",
       "    .dataframe thead th {\n",
       "        text-align: right;\n",
       "    }\n",
       "</style>\n",
       "<table border=\"1\" class=\"dataframe\">\n",
       "  <thead>\n",
       "    <tr style=\"text-align: right;\">\n",
       "      <th></th>\n",
       "      <th>ParcelId</th>\n",
       "      <th>OwnerName</th>\n",
       "      <th>Address</th>\n",
       "      <th>City</th>\n",
       "      <th>State</th>\n",
       "      <th>Zip</th>\n",
       "    </tr>\n",
       "  </thead>\n",
       "  <tbody>\n",
       "    <tr>\n",
       "      <th>0</th>\n",
       "      <td>216-00-00-005-000</td>\n",
       "      <td>CURRENT RESIDENT</td>\n",
       "      <td>2100FT W OF INT S-20-323 &amp; S-20-324</td>\n",
       "      <td>Fairfield</td>\n",
       "      <td>SC</td>\n",
       "      <td>NaN</td>\n",
       "    </tr>\n",
       "    <tr>\n",
       "      <th>1</th>\n",
       "      <td>215-00-00-074-000</td>\n",
       "      <td>CURRENT RESIDENT</td>\n",
       "      <td>293 EMERALD DR TRACT</td>\n",
       "      <td>Fairfield</td>\n",
       "      <td>SC</td>\n",
       "      <td>NaN</td>\n",
       "    </tr>\n",
       "    <tr>\n",
       "      <th>2</th>\n",
       "      <td>215-00-00-102-000</td>\n",
       "      <td>CURRENT RESIDENT</td>\n",
       "      <td>285 EMERALD DR</td>\n",
       "      <td>Fairfield</td>\n",
       "      <td>SC</td>\n",
       "      <td>NaN</td>\n",
       "    </tr>\n",
       "    <tr>\n",
       "      <th>3</th>\n",
       "      <td>026-04-02-005-000</td>\n",
       "      <td>CURRENT RESIDENT</td>\n",
       "      <td>SW OF GIBSON END RD RD</td>\n",
       "      <td>Fairfield</td>\n",
       "      <td>SC</td>\n",
       "      <td>NaN</td>\n",
       "    </tr>\n",
       "    <tr>\n",
       "      <th>4</th>\n",
       "      <td>026-04-02-007-000</td>\n",
       "      <td>CURRENT RESIDENT</td>\n",
       "      <td>557 GIBSON END ROAD</td>\n",
       "      <td>Fairfield</td>\n",
       "      <td>SC</td>\n",
       "      <td>NaN</td>\n",
       "    </tr>\n",
       "    <tr>\n",
       "      <th>...</th>\n",
       "      <td>...</td>\n",
       "      <td>...</td>\n",
       "      <td>...</td>\n",
       "      <td>...</td>\n",
       "      <td>...</td>\n",
       "      <td>...</td>\n",
       "    </tr>\n",
       "    <tr>\n",
       "      <th>17480</th>\n",
       "      <td>141-00-00-031-000</td>\n",
       "      <td>CURRENT RESIDENT</td>\n",
       "      <td>S 2000FT INT S-20-115 &amp; HWY 34 E H</td>\n",
       "      <td>Fairfield</td>\n",
       "      <td>SC</td>\n",
       "      <td>NaN</td>\n",
       "    </tr>\n",
       "    <tr>\n",
       "      <th>17481</th>\n",
       "      <td>077-01-00-002-000</td>\n",
       "      <td>CURRENT RESIDENT</td>\n",
       "      <td>1704 GREAT NORTH RD RD</td>\n",
       "      <td>Fairfield</td>\n",
       "      <td>SC</td>\n",
       "      <td>NaN</td>\n",
       "    </tr>\n",
       "    <tr>\n",
       "      <th>17482</th>\n",
       "      <td>048-00-00-002-000</td>\n",
       "      <td>CURRENT RESIDENT</td>\n",
       "      <td>HWY 215 N, CLOWNEY &amp; JOHN BRICE RDS</td>\n",
       "      <td>Fairfield</td>\n",
       "      <td>SC</td>\n",
       "      <td>NaN</td>\n",
       "    </tr>\n",
       "    <tr>\n",
       "      <th>17483</th>\n",
       "      <td>047-00-00-047-000</td>\n",
       "      <td>CURRENT RESIDENT</td>\n",
       "      <td>JOHN BRICE RD</td>\n",
       "      <td>Fairfield</td>\n",
       "      <td>SC</td>\n",
       "      <td>NaN</td>\n",
       "    </tr>\n",
       "    <tr>\n",
       "      <th>17490</th>\n",
       "      <td>114-01-01-021-000</td>\n",
       "      <td>CURRENT RESIDENT</td>\n",
       "      <td>1423 DEER RUN ROAD SEC 17 LOT 115</td>\n",
       "      <td>Fairfield</td>\n",
       "      <td>SC</td>\n",
       "      <td>NaN</td>\n",
       "    </tr>\n",
       "  </tbody>\n",
       "</table>\n",
       "<p>17244 rows × 6 columns</p>\n",
       "</div>"
      ],
      "text/plain": [
       "                ParcelId         OwnerName  \\\n",
       "0      216-00-00-005-000  CURRENT RESIDENT   \n",
       "1      215-00-00-074-000  CURRENT RESIDENT   \n",
       "2      215-00-00-102-000  CURRENT RESIDENT   \n",
       "3      026-04-02-005-000  CURRENT RESIDENT   \n",
       "4      026-04-02-007-000  CURRENT RESIDENT   \n",
       "...                  ...               ...   \n",
       "17480  141-00-00-031-000  CURRENT RESIDENT   \n",
       "17481  077-01-00-002-000  CURRENT RESIDENT   \n",
       "17482  048-00-00-002-000  CURRENT RESIDENT   \n",
       "17483  047-00-00-047-000  CURRENT RESIDENT   \n",
       "17490  114-01-01-021-000  CURRENT RESIDENT   \n",
       "\n",
       "                                   Address       City State  Zip  \n",
       "0      2100FT W OF INT S-20-323 & S-20-324  Fairfield    SC  NaN  \n",
       "1                     293 EMERALD DR TRACT  Fairfield    SC  NaN  \n",
       "2                           285 EMERALD DR  Fairfield    SC  NaN  \n",
       "3                   SW OF GIBSON END RD RD  Fairfield    SC  NaN  \n",
       "4                      557 GIBSON END ROAD  Fairfield    SC  NaN  \n",
       "...                                    ...        ...   ...  ...  \n",
       "17480   S 2000FT INT S-20-115 & HWY 34 E H  Fairfield    SC  NaN  \n",
       "17481               1704 GREAT NORTH RD RD  Fairfield    SC  NaN  \n",
       "17482  HWY 215 N, CLOWNEY & JOHN BRICE RDS  Fairfield    SC  NaN  \n",
       "17483                        JOHN BRICE RD  Fairfield    SC  NaN  \n",
       "17490    1423 DEER RUN ROAD SEC 17 LOT 115  Fairfield    SC  NaN  \n",
       "\n",
       "[17244 rows x 6 columns]"
      ]
     },
     "execution_count": 10,
     "metadata": {},
     "output_type": "execute_result"
    }
   ],
   "source": [
    "df"
   ]
  },
  {
   "cell_type": "code",
   "execution_count": null,
   "metadata": {},
   "outputs": [],
   "source": []
  }
 ],
 "metadata": {
  "colab": {
   "collapsed_sections": [],
   "name": "esri_data_download.ipynb",
   "provenance": []
  },
  "kernelspec": {
   "display_name": "Python 3",
   "language": "python",
   "name": "python3"
  },
  "language_info": {
   "codemirror_mode": {
    "name": "ipython",
    "version": 3
   },
   "file_extension": ".py",
   "mimetype": "text/x-python",
   "name": "python",
   "nbconvert_exporter": "python",
   "pygments_lexer": "ipython3",
   "version": "3.8.2"
  }
 },
 "nbformat": 4,
 "nbformat_minor": 4
}
