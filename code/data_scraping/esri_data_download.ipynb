{
 "cells": [
  {
   "cell_type": "markdown",
   "metadata": {},
   "source": [
    "(Written by Amir Akhavan)"
   ]
  },
  {
   "cell_type": "code",
   "execution_count": 195,
   "metadata": {
    "colab": {},
    "colab_type": "code",
    "id": "htt81jqInPxb"
   },
   "outputs": [],
   "source": [
    "import requests\n",
    "import pandas as pd\n",
    "import json\n",
    "from pathlib import Path\n",
    "from itertools import cycle\n",
    "from time import sleep"
   ]
  },
  {
   "cell_type": "code",
   "execution_count": 162,
   "metadata": {},
   "outputs": [],
   "source": [
    "from bs4 import BeautifulSoup\n",
    "from tqdm import tqdm"
   ]
  },
  {
   "cell_type": "code",
   "execution_count": 2,
   "metadata": {},
   "outputs": [],
   "source": [
    "PREPROCESSED_DATA_PATH = Path('../.../data/preprocessed/property_assessor')"
   ]
  },
  {
   "cell_type": "code",
   "execution_count": 3,
   "metadata": {},
   "outputs": [],
   "source": [
    "county_fips_code = '45039'"
   ]
  },
  {
   "cell_type": "code",
   "execution_count": 4,
   "metadata": {
    "colab": {},
    "colab_type": "code",
    "id": "3AuxAXdV-WKp"
   },
   "outputs": [],
   "source": [
    "initial  = \"https://beacon.schneidercorp.com/Application.aspx?AppID=796&LayerID=16296\"\n",
    "x_initial = requests.get(initial)\n",
    "x_initial = x_initial.content.decode(\"utf-8\")"
   ]
  },
  {
   "cell_type": "code",
   "execution_count": 5,
   "metadata": {
    "colab": {},
    "colab_type": "code",
    "id": "PZg3rnHw_pFx"
   },
   "outputs": [],
   "source": [
    "qps_location = x_initial.find('QPS')\n",
    "qps_closing_str = x_initial[qps_location+6:]\n",
    "end = qps_closing_str.find('\"')\n",
    "QPS = qps_closing_str[:end]"
   ]
  },
  {
   "cell_type": "code",
   "execution_count": 13,
   "metadata": {},
   "outputs": [
    {
     "data": {
      "text/plain": [
       "'F9tZvOIY_XZOdUskmaGw54VoDEVPL0bY8E9muKXf1q0Y3RtiKO-fXkr2WvfxscDkbVAKnYudfhVepVVn-oXYgP-dqgsX8get-bxXhSkh4h4NzFwuFmgkFApZxPKkUjTUOnZS8m05u_47GWkMiLArf-BELR2u4O_IsifbxqlkvNtpyWSI9NEdFPBGUG59ko3ZnbGXYYaGVTaUEWlA9LDwawoz8bXObWcDd2mFX2k6SDnSaEkr5mgwe-AqziPV5IUfvXBMc1qOAcgs1In8v_8iYw2'"
      ]
     },
     "execution_count": 13,
     "metadata": {},
     "output_type": "execute_result"
    }
   ],
   "source": [
    "QPS"
   ]
  },
  {
   "cell_type": "code",
   "execution_count": 137,
   "metadata": {
    "colab": {},
    "colab_type": "code",
    "id": "fw5B3S68nXQL"
   },
   "outputs": [],
   "source": [
    "url = f'https://qpublic.schneidercorp.com/api/beaconCore/BufferAndExport?QPS={QPS}'\n",
    "myobj = {\n",
    "    'layerId': '11834', # '16297', #  original: \"11834\",\n",
    "    'keys': [\"001-00-00-003-000\", \"150-00-00-004-000\"],\n",
    "    'distance': 10000000,\n",
    "    'exportType': \"xlsx\",\n",
    "    # 'keys': [\"001-00-00-003-000\", \"028-00-00-004-000\"],\n",
    "    'showParcelId': 'true',\n",
    "    'skipLabelCount': \"0\",\n",
    "    'usePropertyAddress': 'true',\n",
    "    # my additions:\n",
    "    #'Visible': 'true',\n",
    "    #'LayerName': 'Parcels',\n",
    "    #'Query': 'true',\n",
    "    #\"HasMap\":'true',\n",
    "}\n",
    "x = requests.post(url, data = myobj)\n",
    "url_of_csv=\"https://beacon.schneidercorp.com/\""
   ]
  },
  {
   "cell_type": "code",
   "execution_count": 138,
   "metadata": {},
   "outputs": [],
   "source": [
    "# x.content"
   ]
  },
  {
   "cell_type": "code",
   "execution_count": 139,
   "metadata": {
    "colab": {},
    "colab_type": "code",
    "id": "Nmz1Cmn3nahg"
   },
   "outputs": [],
   "source": [
    "str_vals = json.loads(x.content)\n",
    "download_url = url_of_csv+str_vals['d']['DownloadUrl']\n",
    "df = pd.read_excel(download_url)\n",
    "df = df.drop_duplicates()"
   ]
  },
  {
   "cell_type": "code",
   "execution_count": 140,
   "metadata": {},
   "outputs": [],
   "source": [
    "# str_vals['d']"
   ]
  },
  {
   "cell_type": "code",
   "execution_count": 141,
   "metadata": {},
   "outputs": [],
   "source": [
    "geometry = str_vals['d']['BufferGeometry'].split('MULTIPOLYGON')[1].replace('(', '[').replace(')', ']')"
   ]
  },
  {
   "cell_type": "code",
   "execution_count": 142,
   "metadata": {},
   "outputs": [
    {
     "data": {
      "text/html": [
       "<div>\n",
       "<style scoped>\n",
       "    .dataframe tbody tr th:only-of-type {\n",
       "        vertical-align: middle;\n",
       "    }\n",
       "\n",
       "    .dataframe tbody tr th {\n",
       "        vertical-align: top;\n",
       "    }\n",
       "\n",
       "    .dataframe thead th {\n",
       "        text-align: right;\n",
       "    }\n",
       "</style>\n",
       "<table border=\"1\" class=\"dataframe\">\n",
       "  <thead>\n",
       "    <tr style=\"text-align: right;\">\n",
       "      <th></th>\n",
       "      <th>ParcelId</th>\n",
       "      <th>OwnerName</th>\n",
       "      <th>Address</th>\n",
       "      <th>City</th>\n",
       "      <th>State</th>\n",
       "      <th>Zip</th>\n",
       "    </tr>\n",
       "  </thead>\n",
       "  <tbody>\n",
       "    <tr>\n",
       "      <th>0</th>\n",
       "      <td>216-00-00-005-000</td>\n",
       "      <td>CURRENT RESIDENT</td>\n",
       "      <td>2100FT W OF INT S-20-323 &amp; S-20-324</td>\n",
       "      <td>Fairfield</td>\n",
       "      <td>SC</td>\n",
       "      <td>NaN</td>\n",
       "    </tr>\n",
       "    <tr>\n",
       "      <th>1</th>\n",
       "      <td>215-00-00-074-000</td>\n",
       "      <td>CURRENT RESIDENT</td>\n",
       "      <td>293 EMERALD DR TRACT</td>\n",
       "      <td>Fairfield</td>\n",
       "      <td>SC</td>\n",
       "      <td>NaN</td>\n",
       "    </tr>\n",
       "    <tr>\n",
       "      <th>2</th>\n",
       "      <td>215-00-00-102-000</td>\n",
       "      <td>CURRENT RESIDENT</td>\n",
       "      <td>285 EMERALD DR</td>\n",
       "      <td>Fairfield</td>\n",
       "      <td>SC</td>\n",
       "      <td>NaN</td>\n",
       "    </tr>\n",
       "    <tr>\n",
       "      <th>3</th>\n",
       "      <td>026-04-02-005-000</td>\n",
       "      <td>CURRENT RESIDENT</td>\n",
       "      <td>SW OF GIBSON END RD RD</td>\n",
       "      <td>Fairfield</td>\n",
       "      <td>SC</td>\n",
       "      <td>NaN</td>\n",
       "    </tr>\n",
       "    <tr>\n",
       "      <th>4</th>\n",
       "      <td>026-04-02-007-000</td>\n",
       "      <td>CURRENT RESIDENT</td>\n",
       "      <td>557 GIBSON END ROAD</td>\n",
       "      <td>Fairfield</td>\n",
       "      <td>SC</td>\n",
       "      <td>NaN</td>\n",
       "    </tr>\n",
       "    <tr>\n",
       "      <th>...</th>\n",
       "      <td>...</td>\n",
       "      <td>...</td>\n",
       "      <td>...</td>\n",
       "      <td>...</td>\n",
       "      <td>...</td>\n",
       "      <td>...</td>\n",
       "    </tr>\n",
       "    <tr>\n",
       "      <th>17480</th>\n",
       "      <td>141-00-00-031-000</td>\n",
       "      <td>CURRENT RESIDENT</td>\n",
       "      <td>S 2000FT INT S-20-115 &amp; HWY 34 E H</td>\n",
       "      <td>Fairfield</td>\n",
       "      <td>SC</td>\n",
       "      <td>NaN</td>\n",
       "    </tr>\n",
       "    <tr>\n",
       "      <th>17481</th>\n",
       "      <td>077-01-00-002-000</td>\n",
       "      <td>CURRENT RESIDENT</td>\n",
       "      <td>1704 GREAT NORTH RD RD</td>\n",
       "      <td>Fairfield</td>\n",
       "      <td>SC</td>\n",
       "      <td>NaN</td>\n",
       "    </tr>\n",
       "    <tr>\n",
       "      <th>17482</th>\n",
       "      <td>048-00-00-002-000</td>\n",
       "      <td>CURRENT RESIDENT</td>\n",
       "      <td>HWY 215 N, CLOWNEY &amp; JOHN BRICE RDS</td>\n",
       "      <td>Fairfield</td>\n",
       "      <td>SC</td>\n",
       "      <td>NaN</td>\n",
       "    </tr>\n",
       "    <tr>\n",
       "      <th>17483</th>\n",
       "      <td>047-00-00-047-000</td>\n",
       "      <td>CURRENT RESIDENT</td>\n",
       "      <td>JOHN BRICE RD</td>\n",
       "      <td>Fairfield</td>\n",
       "      <td>SC</td>\n",
       "      <td>NaN</td>\n",
       "    </tr>\n",
       "    <tr>\n",
       "      <th>17490</th>\n",
       "      <td>114-01-01-021-000</td>\n",
       "      <td>CURRENT RESIDENT</td>\n",
       "      <td>1423 DEER RUN ROAD SEC 17 LOT 115</td>\n",
       "      <td>Fairfield</td>\n",
       "      <td>SC</td>\n",
       "      <td>NaN</td>\n",
       "    </tr>\n",
       "  </tbody>\n",
       "</table>\n",
       "<p>17244 rows × 6 columns</p>\n",
       "</div>"
      ],
      "text/plain": [
       "                ParcelId         OwnerName  \\\n",
       "0      216-00-00-005-000  CURRENT RESIDENT   \n",
       "1      215-00-00-074-000  CURRENT RESIDENT   \n",
       "2      215-00-00-102-000  CURRENT RESIDENT   \n",
       "3      026-04-02-005-000  CURRENT RESIDENT   \n",
       "4      026-04-02-007-000  CURRENT RESIDENT   \n",
       "...                  ...               ...   \n",
       "17480  141-00-00-031-000  CURRENT RESIDENT   \n",
       "17481  077-01-00-002-000  CURRENT RESIDENT   \n",
       "17482  048-00-00-002-000  CURRENT RESIDENT   \n",
       "17483  047-00-00-047-000  CURRENT RESIDENT   \n",
       "17490  114-01-01-021-000  CURRENT RESIDENT   \n",
       "\n",
       "                                   Address       City State  Zip  \n",
       "0      2100FT W OF INT S-20-323 & S-20-324  Fairfield    SC  NaN  \n",
       "1                     293 EMERALD DR TRACT  Fairfield    SC  NaN  \n",
       "2                           285 EMERALD DR  Fairfield    SC  NaN  \n",
       "3                   SW OF GIBSON END RD RD  Fairfield    SC  NaN  \n",
       "4                      557 GIBSON END ROAD  Fairfield    SC  NaN  \n",
       "...                                    ...        ...   ...  ...  \n",
       "17480   S 2000FT INT S-20-115 & HWY 34 E H  Fairfield    SC  NaN  \n",
       "17481               1704 GREAT NORTH RD RD  Fairfield    SC  NaN  \n",
       "17482  HWY 215 N, CLOWNEY & JOHN BRICE RDS  Fairfield    SC  NaN  \n",
       "17483                        JOHN BRICE RD  Fairfield    SC  NaN  \n",
       "17490    1423 DEER RUN ROAD SEC 17 LOT 115  Fairfield    SC  NaN  \n",
       "\n",
       "[17244 rows x 6 columns]"
      ]
     },
     "execution_count": 142,
     "metadata": {},
     "output_type": "execute_result"
    }
   ],
   "source": [
    "df"
   ]
  },
  {
   "cell_type": "code",
   "execution_count": 143,
   "metadata": {},
   "outputs": [],
   "source": [
    "#df = df.set_index('ParcelId')\n",
    "#df"
   ]
  },
  {
   "cell_type": "code",
   "execution_count": 144,
   "metadata": {},
   "outputs": [
    {
     "data": {
      "text/plain": [
       "0        216-00-00-005-000\n",
       "1        215-00-00-074-000\n",
       "2        215-00-00-102-000\n",
       "3        026-04-02-005-000\n",
       "4        026-04-02-007-000\n",
       "               ...        \n",
       "17480    141-00-00-031-000\n",
       "17481    077-01-00-002-000\n",
       "17482    048-00-00-002-000\n",
       "17483    047-00-00-047-000\n",
       "17490    114-01-01-021-000\n",
       "Name: ParcelId, Length: 17244, dtype: object"
      ]
     },
     "execution_count": 144,
     "metadata": {},
     "output_type": "execute_result"
    }
   ],
   "source": [
    "parcel_ids = df['ParcelId']\n",
    "parcel_ids"
   ]
  },
  {
   "cell_type": "code",
   "execution_count": 193,
   "metadata": {},
   "outputs": [
    {
     "data": {
      "text/plain": [
       "['41.169.151.90:46799',\n",
       " '103.217.173.210:53905',\n",
       " '54.180.116.100:80',\n",
       " '134.209.23.176:80',\n",
       " '13.232.204.214:80',\n",
       " '169.57.1.84:8123',\n",
       " '200.35.49.89:43006',\n",
       " '175.212.226.57:80',\n",
       " '159.224.182.206:51578',\n",
       " '103.235.199.46:31611',\n",
       " '139.194.11.216:8080',\n",
       " '103.103.212.25:53281',\n",
       " '165.16.118.206:8080',\n",
       " '37.220.195.14:53281',\n",
       " '177.93.97.77:37113',\n",
       " '103.225.206.22:31777',\n",
       " '89.34.208.223:50478',\n",
       " '210.56.245.101:8080',\n",
       " '5.133.8.209:5836',\n",
       " '195.230.115.115:8080']"
      ]
     },
     "execution_count": 193,
     "metadata": {},
     "output_type": "execute_result"
    }
   ],
   "source": [
    "proxies = '''41.169.151.90\t46799\tZA\telite proxy\tno\n",
    "103.217.173.210\t53905\tID\telite proxy\tno\n",
    "54.180.116.100\t80\tKR\telite proxy\tno\n",
    "134.209.23.176\t80\tGB\telite proxy\tno\n",
    "13.232.204.214\t80\tIN\telite proxy\tno\n",
    "169.57.1.84\t8123\tMX\telite proxy\tno\n",
    "200.35.49.89\t43006\tCO\telite proxy\tno\n",
    "175.212.226.57\t80\tKR\telite proxy\tno\n",
    "159.224.182.206\t51578\tUA\telite proxy\tno\n",
    "103.235.199.46\t31611\tNP\telite proxy\tno\n",
    "139.194.11.216\t8080\tID\telite proxy\tno\n",
    "103.103.212.25\t53281\tIN\telite proxy\tno\n",
    "165.16.118.206\t8080\tLY\telite proxy\tno\n",
    "37.220.195.14\t53281\tHU\telite proxy\tno\n",
    "177.93.97.77\t37113\tBR\telite proxy\tno\n",
    "103.225.206.22\t31777\tIN\telite proxy\tno\n",
    "89.34.208.223\t50478\tRO\telite proxy\tno\n",
    "210.56.245.101\t8080\tAU\telite proxy\tno\n",
    "5.133.8.209\t5836\tPL\telite proxy\tno\n",
    "195.230.115.115\t8080\tUA\telite proxy\tno'''\n",
    "proxies = [':'.join(proxy.split('\\t')[:2]) for proxy in proxies.split('\\n')]\n",
    "proxies"
   ]
  },
  {
   "cell_type": "code",
   "execution_count": 184,
   "metadata": {},
   "outputs": [],
   "source": [
    "def lookup_parcel_id(parcel_id):\n",
    "    proxies = {\n",
    "        #'http': 'http://85.10.219.97:1080',\n",
    "        #'https': 'http://85.10.219.97:1080',\n",
    "        #'http': 'http://41.169.151.90:46799'\n",
    "        'http': 'http://54.180.116.100:80'\n",
    "    }\n",
    "    \n",
    "    property_lookup_url = 'https://beacon.schneidercorp.com/Application.aspx?AppID=796&LayerID=11834&PageTypeID=4&PageID=5738&Q=1649139588&KeyValue='\n",
    "    url = property_lookup_url + parcel_id\n",
    "    html = requests.get(url, proxies=proxies).content.decode(\"utf-8\")\n",
    "    return html"
   ]
  },
  {
   "cell_type": "code",
   "execution_count": 185,
   "metadata": {},
   "outputs": [],
   "source": [
    "def market_value(parcel_html):\n",
    "    #try:\n",
    "    #'Total Market Value' in html\n",
    "    print('Total Market Value' in parcel_html)\n",
    "    idx = parcel_html.index('Total Market Value')\n",
    "    substring = parcel_html[idx:]\n",
    "    idx = substring.index('$')\n",
    "    substring = substring[idx:]\n",
    "    idx = substring.index('</td>')\n",
    "    value_str = substring[1:idx]\n",
    "    return float(value_str.replace(',', ''))\n",
    "    #except:\n",
    "    #    return float('NaN')"
   ]
  },
  {
   "cell_type": "code",
   "execution_count": 200,
   "metadata": {},
   "outputs": [
    {
     "name": "stderr",
     "output_type": "stream",
     "text": [
      "0it [00:00, ?it/s]"
     ]
    },
    {
     "name": "stdout",
     "output_type": "stream",
     "text": [
      "216-00-00-005-000\n",
      "0 error\n",
      "1 error\n",
      "2 error\n",
      "3 error\n",
      "4 error\n",
      "5 error\n",
      "6 error\n",
      "7 error\n",
      "8 error\n",
      "9 error\n",
      "10 error\n",
      "11 error\n",
      "12 error\n",
      "13 error\n",
      "14 error\n",
      "15 error\n",
      "16 error\n",
      "17 error\n"
     ]
    },
    {
     "name": "stderr",
     "output_type": "stream",
     "text": [
      "1it [00:09,  9.23s/it]"
     ]
    },
    {
     "name": "stdout",
     "output_type": "stream",
     "text": [
      "18 error\n",
      "19 error\n"
     ]
    },
    {
     "name": "stderr",
     "output_type": "stream",
     "text": [
      "\n"
     ]
    },
    {
     "ename": "ValueError",
     "evalue": "Length of values does not match length of index",
     "output_type": "error",
     "traceback": [
      "\u001b[0;31m---------------------------------------------------------------------------\u001b[0m",
      "\u001b[0;31mValueError\u001b[0m                                Traceback (most recent call last)",
      "\u001b[0;32m<ipython-input-200-70e271cab9e2>\u001b[0m in \u001b[0;36m<module>\u001b[0;34m\u001b[0m\n\u001b[1;32m     14\u001b[0m         \u001b[0;31m#market_values.append(value)\u001b[0m\u001b[0;34m\u001b[0m\u001b[0;34m\u001b[0m\u001b[0;34m\u001b[0m\u001b[0m\n\u001b[1;32m     15\u001b[0m         \u001b[0;31m# print(df.iloc[i]) # ['MarketValue'] = value\u001b[0m\u001b[0;34m\u001b[0m\u001b[0;34m\u001b[0m\u001b[0;34m\u001b[0m\u001b[0m\n\u001b[0;32m---> 16\u001b[0;31m \u001b[0mdf\u001b[0m\u001b[0;34m[\u001b[0m\u001b[0;34m'MarketValue'\u001b[0m\u001b[0;34m]\u001b[0m \u001b[0;34m=\u001b[0m \u001b[0mmarket_values\u001b[0m\u001b[0;34m\u001b[0m\u001b[0;34m\u001b[0m\u001b[0m\n\u001b[0m\u001b[1;32m     17\u001b[0m \u001b[0mdf\u001b[0m\u001b[0;34m\u001b[0m\u001b[0;34m\u001b[0m\u001b[0m\n",
      "\u001b[0;32m~/COVID_data_exploration/env/lib/python3.8/site-packages/pandas/core/frame.py\u001b[0m in \u001b[0;36m__setitem__\u001b[0;34m(self, key, value)\u001b[0m\n\u001b[1;32m   2936\u001b[0m         \u001b[0;32melse\u001b[0m\u001b[0;34m:\u001b[0m\u001b[0;34m\u001b[0m\u001b[0;34m\u001b[0m\u001b[0m\n\u001b[1;32m   2937\u001b[0m             \u001b[0;31m# set column\u001b[0m\u001b[0;34m\u001b[0m\u001b[0;34m\u001b[0m\u001b[0;34m\u001b[0m\u001b[0m\n\u001b[0;32m-> 2938\u001b[0;31m             \u001b[0mself\u001b[0m\u001b[0;34m.\u001b[0m\u001b[0m_set_item\u001b[0m\u001b[0;34m(\u001b[0m\u001b[0mkey\u001b[0m\u001b[0;34m,\u001b[0m \u001b[0mvalue\u001b[0m\u001b[0;34m)\u001b[0m\u001b[0;34m\u001b[0m\u001b[0;34m\u001b[0m\u001b[0m\n\u001b[0m\u001b[1;32m   2939\u001b[0m \u001b[0;34m\u001b[0m\u001b[0m\n\u001b[1;32m   2940\u001b[0m     \u001b[0;32mdef\u001b[0m \u001b[0m_setitem_slice\u001b[0m\u001b[0;34m(\u001b[0m\u001b[0mself\u001b[0m\u001b[0;34m,\u001b[0m \u001b[0mkey\u001b[0m\u001b[0;34m,\u001b[0m \u001b[0mvalue\u001b[0m\u001b[0;34m)\u001b[0m\u001b[0;34m:\u001b[0m\u001b[0;34m\u001b[0m\u001b[0;34m\u001b[0m\u001b[0m\n",
      "\u001b[0;32m~/COVID_data_exploration/env/lib/python3.8/site-packages/pandas/core/frame.py\u001b[0m in \u001b[0;36m_set_item\u001b[0;34m(self, key, value)\u001b[0m\n\u001b[1;32m   2998\u001b[0m \u001b[0;34m\u001b[0m\u001b[0m\n\u001b[1;32m   2999\u001b[0m         \u001b[0mself\u001b[0m\u001b[0;34m.\u001b[0m\u001b[0m_ensure_valid_index\u001b[0m\u001b[0;34m(\u001b[0m\u001b[0mvalue\u001b[0m\u001b[0;34m)\u001b[0m\u001b[0;34m\u001b[0m\u001b[0;34m\u001b[0m\u001b[0m\n\u001b[0;32m-> 3000\u001b[0;31m         \u001b[0mvalue\u001b[0m \u001b[0;34m=\u001b[0m \u001b[0mself\u001b[0m\u001b[0;34m.\u001b[0m\u001b[0m_sanitize_column\u001b[0m\u001b[0;34m(\u001b[0m\u001b[0mkey\u001b[0m\u001b[0;34m,\u001b[0m \u001b[0mvalue\u001b[0m\u001b[0;34m)\u001b[0m\u001b[0;34m\u001b[0m\u001b[0;34m\u001b[0m\u001b[0m\n\u001b[0m\u001b[1;32m   3001\u001b[0m         \u001b[0mNDFrame\u001b[0m\u001b[0;34m.\u001b[0m\u001b[0m_set_item\u001b[0m\u001b[0;34m(\u001b[0m\u001b[0mself\u001b[0m\u001b[0;34m,\u001b[0m \u001b[0mkey\u001b[0m\u001b[0;34m,\u001b[0m \u001b[0mvalue\u001b[0m\u001b[0;34m)\u001b[0m\u001b[0;34m\u001b[0m\u001b[0;34m\u001b[0m\u001b[0m\n\u001b[1;32m   3002\u001b[0m \u001b[0;34m\u001b[0m\u001b[0m\n",
      "\u001b[0;32m~/COVID_data_exploration/env/lib/python3.8/site-packages/pandas/core/frame.py\u001b[0m in \u001b[0;36m_sanitize_column\u001b[0;34m(self, key, value, broadcast)\u001b[0m\n\u001b[1;32m   3634\u001b[0m \u001b[0;34m\u001b[0m\u001b[0m\n\u001b[1;32m   3635\u001b[0m             \u001b[0;31m# turn me into an ndarray\u001b[0m\u001b[0;34m\u001b[0m\u001b[0;34m\u001b[0m\u001b[0;34m\u001b[0m\u001b[0m\n\u001b[0;32m-> 3636\u001b[0;31m             \u001b[0mvalue\u001b[0m \u001b[0;34m=\u001b[0m \u001b[0msanitize_index\u001b[0m\u001b[0;34m(\u001b[0m\u001b[0mvalue\u001b[0m\u001b[0;34m,\u001b[0m \u001b[0mself\u001b[0m\u001b[0;34m.\u001b[0m\u001b[0mindex\u001b[0m\u001b[0;34m,\u001b[0m \u001b[0mcopy\u001b[0m\u001b[0;34m=\u001b[0m\u001b[0;32mFalse\u001b[0m\u001b[0;34m)\u001b[0m\u001b[0;34m\u001b[0m\u001b[0;34m\u001b[0m\u001b[0m\n\u001b[0m\u001b[1;32m   3637\u001b[0m             \u001b[0;32mif\u001b[0m \u001b[0;32mnot\u001b[0m \u001b[0misinstance\u001b[0m\u001b[0;34m(\u001b[0m\u001b[0mvalue\u001b[0m\u001b[0;34m,\u001b[0m \u001b[0;34m(\u001b[0m\u001b[0mnp\u001b[0m\u001b[0;34m.\u001b[0m\u001b[0mndarray\u001b[0m\u001b[0;34m,\u001b[0m \u001b[0mIndex\u001b[0m\u001b[0;34m)\u001b[0m\u001b[0;34m)\u001b[0m\u001b[0;34m:\u001b[0m\u001b[0;34m\u001b[0m\u001b[0;34m\u001b[0m\u001b[0m\n\u001b[1;32m   3638\u001b[0m                 \u001b[0;32mif\u001b[0m \u001b[0misinstance\u001b[0m\u001b[0;34m(\u001b[0m\u001b[0mvalue\u001b[0m\u001b[0;34m,\u001b[0m \u001b[0mlist\u001b[0m\u001b[0;34m)\u001b[0m \u001b[0;32mand\u001b[0m \u001b[0mlen\u001b[0m\u001b[0;34m(\u001b[0m\u001b[0mvalue\u001b[0m\u001b[0;34m)\u001b[0m \u001b[0;34m>\u001b[0m \u001b[0;36m0\u001b[0m\u001b[0;34m:\u001b[0m\u001b[0;34m\u001b[0m\u001b[0;34m\u001b[0m\u001b[0m\n",
      "\u001b[0;32m~/COVID_data_exploration/env/lib/python3.8/site-packages/pandas/core/internals/construction.py\u001b[0m in \u001b[0;36msanitize_index\u001b[0;34m(data, index, copy)\u001b[0m\n\u001b[1;32m    609\u001b[0m \u001b[0;34m\u001b[0m\u001b[0m\n\u001b[1;32m    610\u001b[0m     \u001b[0;32mif\u001b[0m \u001b[0mlen\u001b[0m\u001b[0;34m(\u001b[0m\u001b[0mdata\u001b[0m\u001b[0;34m)\u001b[0m \u001b[0;34m!=\u001b[0m \u001b[0mlen\u001b[0m\u001b[0;34m(\u001b[0m\u001b[0mindex\u001b[0m\u001b[0;34m)\u001b[0m\u001b[0;34m:\u001b[0m\u001b[0;34m\u001b[0m\u001b[0;34m\u001b[0m\u001b[0m\n\u001b[0;32m--> 611\u001b[0;31m         \u001b[0;32mraise\u001b[0m \u001b[0mValueError\u001b[0m\u001b[0;34m(\u001b[0m\u001b[0;34m\"Length of values does not match length of index\"\u001b[0m\u001b[0;34m)\u001b[0m\u001b[0;34m\u001b[0m\u001b[0;34m\u001b[0m\u001b[0m\n\u001b[0m\u001b[1;32m    612\u001b[0m \u001b[0;34m\u001b[0m\u001b[0m\n\u001b[1;32m    613\u001b[0m     \u001b[0;32mif\u001b[0m \u001b[0misinstance\u001b[0m\u001b[0;34m(\u001b[0m\u001b[0mdata\u001b[0m\u001b[0;34m,\u001b[0m \u001b[0mABCIndexClass\u001b[0m\u001b[0;34m)\u001b[0m \u001b[0;32mand\u001b[0m \u001b[0;32mnot\u001b[0m \u001b[0mcopy\u001b[0m\u001b[0;34m:\u001b[0m\u001b[0;34m\u001b[0m\u001b[0;34m\u001b[0m\u001b[0m\n",
      "\u001b[0;31mValueError\u001b[0m: Length of values does not match length of index"
     ]
    }
   ],
   "source": [
    "market_values = []\n",
    "for i, parcel_id in tqdm(enumerate(parcel_ids)):\n",
    "    if i > 0:\n",
    "        break\n",
    "    print(parcel_id)\n",
    "    for j, proxy in enumerate(proxies):\n",
    "        sleep(random())\n",
    "        try:\n",
    "            parcel_html = lookup_parcel_id(parcel_id, proxy)\n",
    "            print(j, 'Total Market Value' in parcel_html)\n",
    "        except:\n",
    "            print(j, 'error')\n",
    "        #value = market_value(parcel_html)\n",
    "        #market_values.append(value)\n",
    "        # print(df.iloc[i]) # ['MarketValue'] = value\n",
    "df['MarketValue'] = market_values\n",
    "df"
   ]
  },
  {
   "cell_type": "code",
   "execution_count": 199,
   "metadata": {},
   "outputs": [
    {
     "data": {
      "text/plain": [
       "0.8169319930512311"
      ]
     },
     "execution_count": 199,
     "metadata": {},
     "output_type": "execute_result"
    }
   ],
   "source": [
    "from random import random\n",
    "random()"
   ]
  },
  {
   "cell_type": "code",
   "execution_count": 201,
   "metadata": {},
   "outputs": [
    {
     "data": {
      "text/plain": [
       "20"
      ]
     },
     "execution_count": 201,
     "metadata": {},
     "output_type": "execute_result"
    }
   ],
   "source": [
    "len(proxies)"
   ]
  },
  {
   "cell_type": "code",
   "execution_count": 8,
   "metadata": {},
   "outputs": [],
   "source": [
    "path = PREPROCESSED_DATA_PATH / 'fips' / county_fips_code\n",
    "!mkdir -p {path}\n",
    "df.to_csv(path / 'properties.csv')"
   ]
  },
  {
   "cell_type": "code",
   "execution_count": 9,
   "metadata": {
    "colab": {
     "base_uri": "https://localhost:8080/",
     "height": 34
    },
    "colab_type": "code",
    "id": "i5IwW4tTWn-I",
    "outputId": "be7d968c-2325-4323-9c76-dab9db0b83a6"
   },
   "outputs": [
    {
     "name": "stdout",
     "output_type": "stream",
     "text": [
      "17245 ../../data/preprocessed/property_assessor/fips/45039/properties.csv\n"
     ]
    }
   ],
   "source": [
    "!wc -l {path}/properties.csv"
   ]
  },
  {
   "cell_type": "code",
   "execution_count": 10,
   "metadata": {
    "colab": {},
    "colab_type": "code",
    "id": "mxQWZO4sJfWU"
   },
   "outputs": [
    {
     "data": {
      "text/html": [
       "<div>\n",
       "<style scoped>\n",
       "    .dataframe tbody tr th:only-of-type {\n",
       "        vertical-align: middle;\n",
       "    }\n",
       "\n",
       "    .dataframe tbody tr th {\n",
       "        vertical-align: top;\n",
       "    }\n",
       "\n",
       "    .dataframe thead th {\n",
       "        text-align: right;\n",
       "    }\n",
       "</style>\n",
       "<table border=\"1\" class=\"dataframe\">\n",
       "  <thead>\n",
       "    <tr style=\"text-align: right;\">\n",
       "      <th></th>\n",
       "      <th>ParcelId</th>\n",
       "      <th>OwnerName</th>\n",
       "      <th>Address</th>\n",
       "      <th>City</th>\n",
       "      <th>State</th>\n",
       "      <th>Zip</th>\n",
       "    </tr>\n",
       "  </thead>\n",
       "  <tbody>\n",
       "    <tr>\n",
       "      <th>0</th>\n",
       "      <td>216-00-00-005-000</td>\n",
       "      <td>CURRENT RESIDENT</td>\n",
       "      <td>2100FT W OF INT S-20-323 &amp; S-20-324</td>\n",
       "      <td>Fairfield</td>\n",
       "      <td>SC</td>\n",
       "      <td>NaN</td>\n",
       "    </tr>\n",
       "    <tr>\n",
       "      <th>1</th>\n",
       "      <td>215-00-00-074-000</td>\n",
       "      <td>CURRENT RESIDENT</td>\n",
       "      <td>293 EMERALD DR TRACT</td>\n",
       "      <td>Fairfield</td>\n",
       "      <td>SC</td>\n",
       "      <td>NaN</td>\n",
       "    </tr>\n",
       "    <tr>\n",
       "      <th>2</th>\n",
       "      <td>215-00-00-102-000</td>\n",
       "      <td>CURRENT RESIDENT</td>\n",
       "      <td>285 EMERALD DR</td>\n",
       "      <td>Fairfield</td>\n",
       "      <td>SC</td>\n",
       "      <td>NaN</td>\n",
       "    </tr>\n",
       "    <tr>\n",
       "      <th>3</th>\n",
       "      <td>026-04-02-005-000</td>\n",
       "      <td>CURRENT RESIDENT</td>\n",
       "      <td>SW OF GIBSON END RD RD</td>\n",
       "      <td>Fairfield</td>\n",
       "      <td>SC</td>\n",
       "      <td>NaN</td>\n",
       "    </tr>\n",
       "    <tr>\n",
       "      <th>4</th>\n",
       "      <td>026-04-02-007-000</td>\n",
       "      <td>CURRENT RESIDENT</td>\n",
       "      <td>557 GIBSON END ROAD</td>\n",
       "      <td>Fairfield</td>\n",
       "      <td>SC</td>\n",
       "      <td>NaN</td>\n",
       "    </tr>\n",
       "    <tr>\n",
       "      <th>...</th>\n",
       "      <td>...</td>\n",
       "      <td>...</td>\n",
       "      <td>...</td>\n",
       "      <td>...</td>\n",
       "      <td>...</td>\n",
       "      <td>...</td>\n",
       "    </tr>\n",
       "    <tr>\n",
       "      <th>17480</th>\n",
       "      <td>141-00-00-031-000</td>\n",
       "      <td>CURRENT RESIDENT</td>\n",
       "      <td>S 2000FT INT S-20-115 &amp; HWY 34 E H</td>\n",
       "      <td>Fairfield</td>\n",
       "      <td>SC</td>\n",
       "      <td>NaN</td>\n",
       "    </tr>\n",
       "    <tr>\n",
       "      <th>17481</th>\n",
       "      <td>077-01-00-002-000</td>\n",
       "      <td>CURRENT RESIDENT</td>\n",
       "      <td>1704 GREAT NORTH RD RD</td>\n",
       "      <td>Fairfield</td>\n",
       "      <td>SC</td>\n",
       "      <td>NaN</td>\n",
       "    </tr>\n",
       "    <tr>\n",
       "      <th>17482</th>\n",
       "      <td>048-00-00-002-000</td>\n",
       "      <td>CURRENT RESIDENT</td>\n",
       "      <td>HWY 215 N, CLOWNEY &amp; JOHN BRICE RDS</td>\n",
       "      <td>Fairfield</td>\n",
       "      <td>SC</td>\n",
       "      <td>NaN</td>\n",
       "    </tr>\n",
       "    <tr>\n",
       "      <th>17483</th>\n",
       "      <td>047-00-00-047-000</td>\n",
       "      <td>CURRENT RESIDENT</td>\n",
       "      <td>JOHN BRICE RD</td>\n",
       "      <td>Fairfield</td>\n",
       "      <td>SC</td>\n",
       "      <td>NaN</td>\n",
       "    </tr>\n",
       "    <tr>\n",
       "      <th>17490</th>\n",
       "      <td>114-01-01-021-000</td>\n",
       "      <td>CURRENT RESIDENT</td>\n",
       "      <td>1423 DEER RUN ROAD SEC 17 LOT 115</td>\n",
       "      <td>Fairfield</td>\n",
       "      <td>SC</td>\n",
       "      <td>NaN</td>\n",
       "    </tr>\n",
       "  </tbody>\n",
       "</table>\n",
       "<p>17244 rows × 6 columns</p>\n",
       "</div>"
      ],
      "text/plain": [
       "                ParcelId         OwnerName  \\\n",
       "0      216-00-00-005-000  CURRENT RESIDENT   \n",
       "1      215-00-00-074-000  CURRENT RESIDENT   \n",
       "2      215-00-00-102-000  CURRENT RESIDENT   \n",
       "3      026-04-02-005-000  CURRENT RESIDENT   \n",
       "4      026-04-02-007-000  CURRENT RESIDENT   \n",
       "...                  ...               ...   \n",
       "17480  141-00-00-031-000  CURRENT RESIDENT   \n",
       "17481  077-01-00-002-000  CURRENT RESIDENT   \n",
       "17482  048-00-00-002-000  CURRENT RESIDENT   \n",
       "17483  047-00-00-047-000  CURRENT RESIDENT   \n",
       "17490  114-01-01-021-000  CURRENT RESIDENT   \n",
       "\n",
       "                                   Address       City State  Zip  \n",
       "0      2100FT W OF INT S-20-323 & S-20-324  Fairfield    SC  NaN  \n",
       "1                     293 EMERALD DR TRACT  Fairfield    SC  NaN  \n",
       "2                           285 EMERALD DR  Fairfield    SC  NaN  \n",
       "3                   SW OF GIBSON END RD RD  Fairfield    SC  NaN  \n",
       "4                      557 GIBSON END ROAD  Fairfield    SC  NaN  \n",
       "...                                    ...        ...   ...  ...  \n",
       "17480   S 2000FT INT S-20-115 & HWY 34 E H  Fairfield    SC  NaN  \n",
       "17481               1704 GREAT NORTH RD RD  Fairfield    SC  NaN  \n",
       "17482  HWY 215 N, CLOWNEY & JOHN BRICE RDS  Fairfield    SC  NaN  \n",
       "17483                        JOHN BRICE RD  Fairfield    SC  NaN  \n",
       "17490    1423 DEER RUN ROAD SEC 17 LOT 115  Fairfield    SC  NaN  \n",
       "\n",
       "[17244 rows x 6 columns]"
      ]
     },
     "execution_count": 10,
     "metadata": {},
     "output_type": "execute_result"
    }
   ],
   "source": [
    "df"
   ]
  },
  {
   "cell_type": "code",
   "execution_count": null,
   "metadata": {},
   "outputs": [],
   "source": []
  }
 ],
 "metadata": {
  "colab": {
   "collapsed_sections": [],
   "name": "esri_data_download.ipynb",
   "provenance": []
  },
  "kernelspec": {
   "display_name": "Python 3",
   "language": "python",
   "name": "python3"
  },
  "language_info": {
   "codemirror_mode": {
    "name": "ipython",
    "version": 3
   },
   "file_extension": ".py",
   "mimetype": "text/x-python",
   "name": "python",
   "nbconvert_exporter": "python",
   "pygments_lexer": "ipython3",
   "version": "3.8.2"
  }
 },
 "nbformat": 4,
 "nbformat_minor": 4
}
