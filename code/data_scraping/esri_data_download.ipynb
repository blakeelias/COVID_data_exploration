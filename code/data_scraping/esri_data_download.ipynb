{
 "cells": [
  {
   "cell_type": "markdown",
   "metadata": {},
   "source": [
    "(Written by Amir Akhavan)"
   ]
  },
  {
   "cell_type": "code",
   "execution_count": 11,
   "metadata": {
    "colab": {},
    "colab_type": "code",
    "id": "htt81jqInPxb"
   },
   "outputs": [],
   "source": [
    "import requests\n",
    "import pandas as pd\n",
    "import json\n",
    "from pathlib import Path"
   ]
  },
  {
   "cell_type": "code",
   "execution_count": 2,
   "metadata": {},
   "outputs": [],
   "source": [
    "PREPROCESSED_DATA_PATH = Path('../.../data/preprocessed/property_assessor')"
   ]
  },
  {
   "cell_type": "code",
   "execution_count": 3,
   "metadata": {},
   "outputs": [],
   "source": [
    "county_fips_code = '45039'"
   ]
  },
  {
   "cell_type": "code",
   "execution_count": 4,
   "metadata": {
    "colab": {},
    "colab_type": "code",
    "id": "3AuxAXdV-WKp"
   },
   "outputs": [],
   "source": [
    "initial  = \"https://beacon.schneidercorp.com/Application.aspx?AppID=796&LayerID=16296\"\n",
    "x_initial = requests.get(initial)\n",
    "x_initial = x_initial.content.decode(\"utf-8\")"
   ]
  },
  {
   "cell_type": "code",
   "execution_count": 5,
   "metadata": {
    "colab": {},
    "colab_type": "code",
    "id": "PZg3rnHw_pFx"
   },
   "outputs": [],
   "source": [
    "qps_location = x_initial.find('QPS')\n",
    "qps_closing_str = x_initial[qps_location+6:]\n",
    "end = qps_closing_str.find('\"')\n",
    "QPS = qps_closing_str[:end]"
   ]
  },
  {
   "cell_type": "code",
   "execution_count": 13,
   "metadata": {},
   "outputs": [
    {
     "data": {
      "text/plain": [
       "'F9tZvOIY_XZOdUskmaGw54VoDEVPL0bY8E9muKXf1q0Y3RtiKO-fXkr2WvfxscDkbVAKnYudfhVepVVn-oXYgP-dqgsX8get-bxXhSkh4h4NzFwuFmgkFApZxPKkUjTUOnZS8m05u_47GWkMiLArf-BELR2u4O_IsifbxqlkvNtpyWSI9NEdFPBGUG59ko3ZnbGXYYaGVTaUEWlA9LDwawoz8bXObWcDd2mFX2k6SDnSaEkr5mgwe-AqziPV5IUfvXBMc1qOAcgs1In8v_8iYw2'"
      ]
     },
     "execution_count": 13,
     "metadata": {},
     "output_type": "execute_result"
    }
   ],
   "source": [
    "QPS"
   ]
  },
  {
   "cell_type": "code",
   "execution_count": 80,
   "metadata": {
    "colab": {},
    "colab_type": "code",
    "id": "fw5B3S68nXQL"
   },
   "outputs": [],
   "source": [
    "url = f'https://qpublic.schneidercorp.com/api/beaconCore/BufferAndExport?QPS={QPS}'\n",
    "myobj = {\n",
    "    'layerId': '16297', #  original: \"11834\",\n",
    "    'keys': [\"001-00-00-003-000\", \"150-00-00-004-000\"],\n",
    "    'distance': 100, # 00000,\n",
    "    'exportType': \"xlsx\",\n",
    "    # 'keys': [\"001-00-00-003-000\", \"028-00-00-004-000\"],\n",
    "    'showParcelId': 'true',\n",
    "    'skipLabelCount': \"0\",\n",
    "    'usePropertyAddress': 'true',\n",
    "    # my additions:\n",
    "    #'Visible': 'true',\n",
    "    #'LayerName': 'Parcels',\n",
    "    #'Query': 'true',\n",
    "    #\"HasMap\":'true',\n",
    "}\n",
    "x = requests.post(url, data = myobj)\n",
    "url_of_csv=\"https://beacon.schneidercorp.com/\""
   ]
  },
  {
   "cell_type": "code",
   "execution_count": 81,
   "metadata": {},
   "outputs": [
    {
     "data": {
      "text/plain": [
       "b'{\"d\":{\"DownloadUrl\":\"/Download.aspx?FileName=FairfieldCountySC-20200706-8deb47d932d248d4b93d03f492265d4f.xlsx\",\"InputFeatureCount\":1,\"OutputFeatureCount\":5,\"ElapsedMilliseconds\":192,\"BufferGeometry\":\"MULTIPOLYGON (((1876104.6420288335 974298.38862328581, 1876104.6899218585 974317.14525449579, 1876106.4957458552 974335.80522251432, 1876109.0597053671 974350.59848137025, 1876127.1921853777 974422.58491343074, 1876128.5875989038 974427.57512998162, 1876156.5468949366 974518.4177540649, 1876158.4484383946 974524.00414720492, 1876170.1422624027 974555.29937923269, 1876173.8379094757 974563.93048568617, 1876224.9514276162 974669.33375604276, 1876227.7966293658 974677.06370765879, 1876230.9019127272 974693.7837935529, 1876231.7023008626 974721.00064994011, 1876230.956353178 974729.235613122, 1876216.435102311 974735.72233507584, 1876198.1138220865 974746.36500806431, 1876187.9142700715 974753.83905606787, 1876173.9739968127 974766.20704564592, 1876164.9087808079 974775.90330165764, 1876154.0617234337 974789.77581432986, 1876147.2126994214 974800.33415033459, 1876138.8870623773 974816.08500101359, 1876133.4885521473 974833.06326996547, 1876127.7018001468 974859.104869999, 1876125.4120534782 974876.52398670116, 1876126.206173318 974894.0749963636, 1876128.372189315 974910.24331637868, 1876131.9064334494 974926.36604660633, 1876138.0446034367 974941.68780175387, 1876143.9077714533 974953.41375375341, 1876156.026767167 974972.10362194024, 1876171.9823918287 974987.64708589169, 1876194.9137198422 975005.4701899155, 1876216.5169957511 975018.26837525109, 1876225.1974437614 975022.03029525629, 1876245.3512351422 975028.334547669, 1876259.8186911552 975031.22785966122, 1876284.0751096888 975033.06157488388, 1876296.5173497035 975032.4828868882, 1876323.4941533669 975027.45920031052, 1876339.1191133722 975022.25088030379, 1876355.284748364 975015.22483938257, 1876369.9656308314 975005.4695999854, 1876381.5397748521 974996.21033597831, 1876395.2351446203 974982.9225455987, 1876406.1571417081 974967.27522934729, 1876412.7805017161 974955.54006133717, 1876419.0790498666 974942.154062101, 1876422.8483938687 974932.31227009883, 1876427.4387361808 974916.56609987654, 1876429.393407624 974900.28137148567, 1876431.068287622 974855.47036343464, 1876430.5094617845 974840.540433187, 1876428.8345817865 974825.673361171, 1876424.4211264485 974805.5155860408, 1876421.7862667395 974797.535374743, 1876424.8101531421 974786.89485991769, 1876428.2112683656 974768.58004273823, 1876431.4275243732 974733.07386669877, 1876431.7920678388 974721.11299213837, 1876430.5883558372 974680.181280107, 1876428.9503108968 974664.86086292029, 1876422.8869508915 974632.213310892, 1876418.413051503 974615.93130009447, 1876410.9327314964 974595.60848406528, 1876407.0663159932 974586.51691866864, 1876355.84540529 974480.89218972868, 1876346.8298100897 974456.7644840728, 1876320.5012067177 974371.2201479075, 1876304.8405767092 974309.0470266653, 1876304.6672744623 974307.25625724928, 1876305.4784524788 974298.40284455963, 1876305.3450194132 974278.799870613, 1876301.3897997269 974259.59959381376, 1876293.7647902942 974241.53987003164, 1876282.7630159517 974225.31472432346, 1876268.8072687171 974211.54767993989, 1876252.4338601304 974200.76779667567, 1876234.2720111012 974193.38933939941, 1876215.0196713025 974189.69585808623, 1876195.4166973559 974189.82929115184, 1876176.2164205567 974193.7845108381, 1876158.1566967745 974201.40952027077, 1876141.9315510665 974212.41129461338, 1876128.1645066827 974226.3670418479, 1876117.3846234186 974242.74045043462, 1876110.0061661424 974260.90229946375, 1876106.3126848291 974280.15463926247, 1876104.6420288335 974298.38862328581)))\"}}'"
      ]
     },
     "execution_count": 81,
     "metadata": {},
     "output_type": "execute_result"
    }
   ],
   "source": [
    "x.content"
   ]
  },
  {
   "cell_type": "code",
   "execution_count": 82,
   "metadata": {
    "colab": {},
    "colab_type": "code",
    "id": "Nmz1Cmn3nahg"
   },
   "outputs": [],
   "source": [
    "str_vals = json.loads(x.content)\n",
    "download_url = url_of_csv+str_vals['d']['DownloadUrl']\n",
    "df = pd.read_excel(download_url)\n",
    "df = df.drop_duplicates()"
   ]
  },
  {
   "cell_type": "code",
   "execution_count": 83,
   "metadata": {},
   "outputs": [
    {
     "data": {
      "text/plain": [
       "{'DownloadUrl': '/Download.aspx?FileName=FairfieldCountySC-20200706-8deb47d932d248d4b93d03f492265d4f.xlsx',\n",
       " 'InputFeatureCount': 1,\n",
       " 'OutputFeatureCount': 5,\n",
       " 'ElapsedMilliseconds': 192,\n",
       " 'BufferGeometry': 'MULTIPOLYGON (((1876104.6420288335 974298.38862328581, 1876104.6899218585 974317.14525449579, 1876106.4957458552 974335.80522251432, 1876109.0597053671 974350.59848137025, 1876127.1921853777 974422.58491343074, 1876128.5875989038 974427.57512998162, 1876156.5468949366 974518.4177540649, 1876158.4484383946 974524.00414720492, 1876170.1422624027 974555.29937923269, 1876173.8379094757 974563.93048568617, 1876224.9514276162 974669.33375604276, 1876227.7966293658 974677.06370765879, 1876230.9019127272 974693.7837935529, 1876231.7023008626 974721.00064994011, 1876230.956353178 974729.235613122, 1876216.435102311 974735.72233507584, 1876198.1138220865 974746.36500806431, 1876187.9142700715 974753.83905606787, 1876173.9739968127 974766.20704564592, 1876164.9087808079 974775.90330165764, 1876154.0617234337 974789.77581432986, 1876147.2126994214 974800.33415033459, 1876138.8870623773 974816.08500101359, 1876133.4885521473 974833.06326996547, 1876127.7018001468 974859.104869999, 1876125.4120534782 974876.52398670116, 1876126.206173318 974894.0749963636, 1876128.372189315 974910.24331637868, 1876131.9064334494 974926.36604660633, 1876138.0446034367 974941.68780175387, 1876143.9077714533 974953.41375375341, 1876156.026767167 974972.10362194024, 1876171.9823918287 974987.64708589169, 1876194.9137198422 975005.4701899155, 1876216.5169957511 975018.26837525109, 1876225.1974437614 975022.03029525629, 1876245.3512351422 975028.334547669, 1876259.8186911552 975031.22785966122, 1876284.0751096888 975033.06157488388, 1876296.5173497035 975032.4828868882, 1876323.4941533669 975027.45920031052, 1876339.1191133722 975022.25088030379, 1876355.284748364 975015.22483938257, 1876369.9656308314 975005.4695999854, 1876381.5397748521 974996.21033597831, 1876395.2351446203 974982.9225455987, 1876406.1571417081 974967.27522934729, 1876412.7805017161 974955.54006133717, 1876419.0790498666 974942.154062101, 1876422.8483938687 974932.31227009883, 1876427.4387361808 974916.56609987654, 1876429.393407624 974900.28137148567, 1876431.068287622 974855.47036343464, 1876430.5094617845 974840.540433187, 1876428.8345817865 974825.673361171, 1876424.4211264485 974805.5155860408, 1876421.7862667395 974797.535374743, 1876424.8101531421 974786.89485991769, 1876428.2112683656 974768.58004273823, 1876431.4275243732 974733.07386669877, 1876431.7920678388 974721.11299213837, 1876430.5883558372 974680.181280107, 1876428.9503108968 974664.86086292029, 1876422.8869508915 974632.213310892, 1876418.413051503 974615.93130009447, 1876410.9327314964 974595.60848406528, 1876407.0663159932 974586.51691866864, 1876355.84540529 974480.89218972868, 1876346.8298100897 974456.7644840728, 1876320.5012067177 974371.2201479075, 1876304.8405767092 974309.0470266653, 1876304.6672744623 974307.25625724928, 1876305.4784524788 974298.40284455963, 1876305.3450194132 974278.799870613, 1876301.3897997269 974259.59959381376, 1876293.7647902942 974241.53987003164, 1876282.7630159517 974225.31472432346, 1876268.8072687171 974211.54767993989, 1876252.4338601304 974200.76779667567, 1876234.2720111012 974193.38933939941, 1876215.0196713025 974189.69585808623, 1876195.4166973559 974189.82929115184, 1876176.2164205567 974193.7845108381, 1876158.1566967745 974201.40952027077, 1876141.9315510665 974212.41129461338, 1876128.1645066827 974226.3670418479, 1876117.3846234186 974242.74045043462, 1876110.0061661424 974260.90229946375, 1876106.3126848291 974280.15463926247, 1876104.6420288335 974298.38862328581)))'}"
      ]
     },
     "execution_count": 83,
     "metadata": {},
     "output_type": "execute_result"
    }
   ],
   "source": [
    "str_vals['d']"
   ]
  },
  {
   "cell_type": "code",
   "execution_count": 74,
   "metadata": {},
   "outputs": [],
   "source": [
    "geometry = str_vals['d']['BufferGeometry'].split('MULTIPOLYGON')[1].replace('(', '[').replace(')', ']')"
   ]
  },
  {
   "cell_type": "code",
   "execution_count": 84,
   "metadata": {},
   "outputs": [
    {
     "data": {
      "text/html": [
       "<div>\n",
       "<style scoped>\n",
       "    .dataframe tbody tr th:only-of-type {\n",
       "        vertical-align: middle;\n",
       "    }\n",
       "\n",
       "    .dataframe tbody tr th {\n",
       "        vertical-align: top;\n",
       "    }\n",
       "\n",
       "    .dataframe thead th {\n",
       "        text-align: right;\n",
       "    }\n",
       "</style>\n",
       "<table border=\"1\" class=\"dataframe\">\n",
       "  <thead>\n",
       "    <tr style=\"text-align: right;\">\n",
       "      <th></th>\n",
       "      <th>ParcelId</th>\n",
       "      <th>OwnerName</th>\n",
       "      <th>Address</th>\n",
       "      <th>City</th>\n",
       "      <th>State</th>\n",
       "      <th>Zip</th>\n",
       "    </tr>\n",
       "  </thead>\n",
       "  <tbody>\n",
       "    <tr>\n",
       "      <th>0</th>\n",
       "      <td>028-00-00-008-000</td>\n",
       "      <td>CURRENT RESIDENT</td>\n",
       "      <td>161 BLUEFIELD DRIVE</td>\n",
       "      <td>Fairfield</td>\n",
       "      <td>SC</td>\n",
       "      <td>NaN</td>\n",
       "    </tr>\n",
       "    <tr>\n",
       "      <th>1</th>\n",
       "      <td>028-00-00-014-000</td>\n",
       "      <td>CURRENT RESIDENT</td>\n",
       "      <td>114 BLUEFIELD DRIVE</td>\n",
       "      <td>Fairfield</td>\n",
       "      <td>SC</td>\n",
       "      <td>NaN</td>\n",
       "    </tr>\n",
       "    <tr>\n",
       "      <th>2</th>\n",
       "      <td>028-00-00-036-000</td>\n",
       "      <td>CURRENT RESIDENT</td>\n",
       "      <td>MCCONNELL RD TRL</td>\n",
       "      <td>Fairfield</td>\n",
       "      <td>SC</td>\n",
       "      <td>NaN</td>\n",
       "    </tr>\n",
       "    <tr>\n",
       "      <th>3</th>\n",
       "      <td>028-00-00-011-000</td>\n",
       "      <td>CURRENT RESIDENT</td>\n",
       "      <td>752 MCCONNELL ROAD</td>\n",
       "      <td>Fairfield</td>\n",
       "      <td>SC</td>\n",
       "      <td>NaN</td>\n",
       "    </tr>\n",
       "    <tr>\n",
       "      <th>4</th>\n",
       "      <td>028-00-00-009-000</td>\n",
       "      <td>CURRENT RESIDENT</td>\n",
       "      <td>101 BLUEFIELD DRIVE</td>\n",
       "      <td>Fairfield</td>\n",
       "      <td>SC</td>\n",
       "      <td>NaN</td>\n",
       "    </tr>\n",
       "  </tbody>\n",
       "</table>\n",
       "</div>"
      ],
      "text/plain": [
       "            ParcelId         OwnerName              Address       City State  \\\n",
       "0  028-00-00-008-000  CURRENT RESIDENT  161 BLUEFIELD DRIVE  Fairfield    SC   \n",
       "1  028-00-00-014-000  CURRENT RESIDENT  114 BLUEFIELD DRIVE  Fairfield    SC   \n",
       "2  028-00-00-036-000  CURRENT RESIDENT     MCCONNELL RD TRL  Fairfield    SC   \n",
       "3  028-00-00-011-000  CURRENT RESIDENT   752 MCCONNELL ROAD  Fairfield    SC   \n",
       "4  028-00-00-009-000  CURRENT RESIDENT  101 BLUEFIELD DRIVE  Fairfield    SC   \n",
       "\n",
       "   Zip  \n",
       "0  NaN  \n",
       "1  NaN  \n",
       "2  NaN  \n",
       "3  NaN  \n",
       "4  NaN  "
      ]
     },
     "execution_count": 84,
     "metadata": {},
     "output_type": "execute_result"
    }
   ],
   "source": [
    "df"
   ]
  },
  {
   "cell_type": "code",
   "execution_count": 77,
   "metadata": {},
   "outputs": [
    {
     "data": {
      "text/html": [
       "<div>\n",
       "<style scoped>\n",
       "    .dataframe tbody tr th:only-of-type {\n",
       "        vertical-align: middle;\n",
       "    }\n",
       "\n",
       "    .dataframe tbody tr th {\n",
       "        vertical-align: top;\n",
       "    }\n",
       "\n",
       "    .dataframe thead th {\n",
       "        text-align: right;\n",
       "    }\n",
       "</style>\n",
       "<table border=\"1\" class=\"dataframe\">\n",
       "  <thead>\n",
       "    <tr style=\"text-align: right;\">\n",
       "      <th></th>\n",
       "      <th>OwnerName</th>\n",
       "      <th>Address</th>\n",
       "      <th>City</th>\n",
       "      <th>State</th>\n",
       "      <th>Zip</th>\n",
       "    </tr>\n",
       "    <tr>\n",
       "      <th>ParcelId</th>\n",
       "      <th></th>\n",
       "      <th></th>\n",
       "      <th></th>\n",
       "      <th></th>\n",
       "      <th></th>\n",
       "    </tr>\n",
       "  </thead>\n",
       "  <tbody>\n",
       "    <tr>\n",
       "      <th>028-00-00-008-000</th>\n",
       "      <td>CURRENT RESIDENT</td>\n",
       "      <td>161 BLUEFIELD DRIVE</td>\n",
       "      <td>Fairfield</td>\n",
       "      <td>SC</td>\n",
       "      <td>NaN</td>\n",
       "    </tr>\n",
       "    <tr>\n",
       "      <th>028-00-00-014-000</th>\n",
       "      <td>CURRENT RESIDENT</td>\n",
       "      <td>114 BLUEFIELD DRIVE</td>\n",
       "      <td>Fairfield</td>\n",
       "      <td>SC</td>\n",
       "      <td>NaN</td>\n",
       "    </tr>\n",
       "    <tr>\n",
       "      <th>028-00-00-036-000</th>\n",
       "      <td>CURRENT RESIDENT</td>\n",
       "      <td>MCCONNELL RD TRL</td>\n",
       "      <td>Fairfield</td>\n",
       "      <td>SC</td>\n",
       "      <td>NaN</td>\n",
       "    </tr>\n",
       "    <tr>\n",
       "      <th>028-00-00-011-000</th>\n",
       "      <td>CURRENT RESIDENT</td>\n",
       "      <td>752 MCCONNELL ROAD</td>\n",
       "      <td>Fairfield</td>\n",
       "      <td>SC</td>\n",
       "      <td>NaN</td>\n",
       "    </tr>\n",
       "    <tr>\n",
       "      <th>028-00-00-009-000</th>\n",
       "      <td>CURRENT RESIDENT</td>\n",
       "      <td>101 BLUEFIELD DRIVE</td>\n",
       "      <td>Fairfield</td>\n",
       "      <td>SC</td>\n",
       "      <td>NaN</td>\n",
       "    </tr>\n",
       "  </tbody>\n",
       "</table>\n",
       "</div>"
      ],
      "text/plain": [
       "                          OwnerName              Address       City State  Zip\n",
       "ParcelId                                                                      \n",
       "028-00-00-008-000  CURRENT RESIDENT  161 BLUEFIELD DRIVE  Fairfield    SC  NaN\n",
       "028-00-00-014-000  CURRENT RESIDENT  114 BLUEFIELD DRIVE  Fairfield    SC  NaN\n",
       "028-00-00-036-000  CURRENT RESIDENT     MCCONNELL RD TRL  Fairfield    SC  NaN\n",
       "028-00-00-011-000  CURRENT RESIDENT   752 MCCONNELL ROAD  Fairfield    SC  NaN\n",
       "028-00-00-009-000  CURRENT RESIDENT  101 BLUEFIELD DRIVE  Fairfield    SC  NaN"
      ]
     },
     "execution_count": 77,
     "metadata": {},
     "output_type": "execute_result"
    }
   ],
   "source": [
    "df = df.set_index('ParcelId')\n",
    "df"
   ]
  },
  {
   "cell_type": "code",
   "execution_count": 86,
   "metadata": {},
   "outputs": [
    {
     "data": {
      "text/plain": [
       "0    028-00-00-008-000\n",
       "1    028-00-00-014-000\n",
       "2    028-00-00-036-000\n",
       "3    028-00-00-011-000\n",
       "4    028-00-00-009-000\n",
       "Name: ParcelId, dtype: object"
      ]
     },
     "execution_count": 86,
     "metadata": {},
     "output_type": "execute_result"
    }
   ],
   "source": [
    "parcel_ids = df['ParcelId']\n",
    "parcel_ids"
   ]
  },
  {
   "cell_type": "code",
   "execution_count": null,
   "metadata": {},
   "outputs": [],
   "source": [
    "property_lookup_url = 'https://beacon.schneidercorp.com/Application.aspx?AppID=796&LayerID=11834&PageTypeID=4&PageID=5738&Q=1649139588&KeyValue='\n",
    "for parcel_id in parcel_ids:\n",
    "    url = property_lookup_url + parcel_id\n",
    "    "
   ]
  },
  {
   "cell_type": "code",
   "execution_count": 8,
   "metadata": {},
   "outputs": [],
   "source": [
    "path = PREPROCESSED_DATA_PATH / 'fips' / county_fips_code\n",
    "!mkdir -p {path}\n",
    "df.to_csv(path / 'properties.csv')"
   ]
  },
  {
   "cell_type": "code",
   "execution_count": 9,
   "metadata": {
    "colab": {
     "base_uri": "https://localhost:8080/",
     "height": 34
    },
    "colab_type": "code",
    "id": "i5IwW4tTWn-I",
    "outputId": "be7d968c-2325-4323-9c76-dab9db0b83a6"
   },
   "outputs": [
    {
     "name": "stdout",
     "output_type": "stream",
     "text": [
      "17245 ../../data/preprocessed/property_assessor/fips/45039/properties.csv\n"
     ]
    }
   ],
   "source": [
    "!wc -l {path}/properties.csv"
   ]
  },
  {
   "cell_type": "code",
   "execution_count": 10,
   "metadata": {
    "colab": {},
    "colab_type": "code",
    "id": "mxQWZO4sJfWU"
   },
   "outputs": [
    {
     "data": {
      "text/html": [
       "<div>\n",
       "<style scoped>\n",
       "    .dataframe tbody tr th:only-of-type {\n",
       "        vertical-align: middle;\n",
       "    }\n",
       "\n",
       "    .dataframe tbody tr th {\n",
       "        vertical-align: top;\n",
       "    }\n",
       "\n",
       "    .dataframe thead th {\n",
       "        text-align: right;\n",
       "    }\n",
       "</style>\n",
       "<table border=\"1\" class=\"dataframe\">\n",
       "  <thead>\n",
       "    <tr style=\"text-align: right;\">\n",
       "      <th></th>\n",
       "      <th>ParcelId</th>\n",
       "      <th>OwnerName</th>\n",
       "      <th>Address</th>\n",
       "      <th>City</th>\n",
       "      <th>State</th>\n",
       "      <th>Zip</th>\n",
       "    </tr>\n",
       "  </thead>\n",
       "  <tbody>\n",
       "    <tr>\n",
       "      <th>0</th>\n",
       "      <td>216-00-00-005-000</td>\n",
       "      <td>CURRENT RESIDENT</td>\n",
       "      <td>2100FT W OF INT S-20-323 &amp; S-20-324</td>\n",
       "      <td>Fairfield</td>\n",
       "      <td>SC</td>\n",
       "      <td>NaN</td>\n",
       "    </tr>\n",
       "    <tr>\n",
       "      <th>1</th>\n",
       "      <td>215-00-00-074-000</td>\n",
       "      <td>CURRENT RESIDENT</td>\n",
       "      <td>293 EMERALD DR TRACT</td>\n",
       "      <td>Fairfield</td>\n",
       "      <td>SC</td>\n",
       "      <td>NaN</td>\n",
       "    </tr>\n",
       "    <tr>\n",
       "      <th>2</th>\n",
       "      <td>215-00-00-102-000</td>\n",
       "      <td>CURRENT RESIDENT</td>\n",
       "      <td>285 EMERALD DR</td>\n",
       "      <td>Fairfield</td>\n",
       "      <td>SC</td>\n",
       "      <td>NaN</td>\n",
       "    </tr>\n",
       "    <tr>\n",
       "      <th>3</th>\n",
       "      <td>026-04-02-005-000</td>\n",
       "      <td>CURRENT RESIDENT</td>\n",
       "      <td>SW OF GIBSON END RD RD</td>\n",
       "      <td>Fairfield</td>\n",
       "      <td>SC</td>\n",
       "      <td>NaN</td>\n",
       "    </tr>\n",
       "    <tr>\n",
       "      <th>4</th>\n",
       "      <td>026-04-02-007-000</td>\n",
       "      <td>CURRENT RESIDENT</td>\n",
       "      <td>557 GIBSON END ROAD</td>\n",
       "      <td>Fairfield</td>\n",
       "      <td>SC</td>\n",
       "      <td>NaN</td>\n",
       "    </tr>\n",
       "    <tr>\n",
       "      <th>...</th>\n",
       "      <td>...</td>\n",
       "      <td>...</td>\n",
       "      <td>...</td>\n",
       "      <td>...</td>\n",
       "      <td>...</td>\n",
       "      <td>...</td>\n",
       "    </tr>\n",
       "    <tr>\n",
       "      <th>17480</th>\n",
       "      <td>141-00-00-031-000</td>\n",
       "      <td>CURRENT RESIDENT</td>\n",
       "      <td>S 2000FT INT S-20-115 &amp; HWY 34 E H</td>\n",
       "      <td>Fairfield</td>\n",
       "      <td>SC</td>\n",
       "      <td>NaN</td>\n",
       "    </tr>\n",
       "    <tr>\n",
       "      <th>17481</th>\n",
       "      <td>077-01-00-002-000</td>\n",
       "      <td>CURRENT RESIDENT</td>\n",
       "      <td>1704 GREAT NORTH RD RD</td>\n",
       "      <td>Fairfield</td>\n",
       "      <td>SC</td>\n",
       "      <td>NaN</td>\n",
       "    </tr>\n",
       "    <tr>\n",
       "      <th>17482</th>\n",
       "      <td>048-00-00-002-000</td>\n",
       "      <td>CURRENT RESIDENT</td>\n",
       "      <td>HWY 215 N, CLOWNEY &amp; JOHN BRICE RDS</td>\n",
       "      <td>Fairfield</td>\n",
       "      <td>SC</td>\n",
       "      <td>NaN</td>\n",
       "    </tr>\n",
       "    <tr>\n",
       "      <th>17483</th>\n",
       "      <td>047-00-00-047-000</td>\n",
       "      <td>CURRENT RESIDENT</td>\n",
       "      <td>JOHN BRICE RD</td>\n",
       "      <td>Fairfield</td>\n",
       "      <td>SC</td>\n",
       "      <td>NaN</td>\n",
       "    </tr>\n",
       "    <tr>\n",
       "      <th>17490</th>\n",
       "      <td>114-01-01-021-000</td>\n",
       "      <td>CURRENT RESIDENT</td>\n",
       "      <td>1423 DEER RUN ROAD SEC 17 LOT 115</td>\n",
       "      <td>Fairfield</td>\n",
       "      <td>SC</td>\n",
       "      <td>NaN</td>\n",
       "    </tr>\n",
       "  </tbody>\n",
       "</table>\n",
       "<p>17244 rows × 6 columns</p>\n",
       "</div>"
      ],
      "text/plain": [
       "                ParcelId         OwnerName  \\\n",
       "0      216-00-00-005-000  CURRENT RESIDENT   \n",
       "1      215-00-00-074-000  CURRENT RESIDENT   \n",
       "2      215-00-00-102-000  CURRENT RESIDENT   \n",
       "3      026-04-02-005-000  CURRENT RESIDENT   \n",
       "4      026-04-02-007-000  CURRENT RESIDENT   \n",
       "...                  ...               ...   \n",
       "17480  141-00-00-031-000  CURRENT RESIDENT   \n",
       "17481  077-01-00-002-000  CURRENT RESIDENT   \n",
       "17482  048-00-00-002-000  CURRENT RESIDENT   \n",
       "17483  047-00-00-047-000  CURRENT RESIDENT   \n",
       "17490  114-01-01-021-000  CURRENT RESIDENT   \n",
       "\n",
       "                                   Address       City State  Zip  \n",
       "0      2100FT W OF INT S-20-323 & S-20-324  Fairfield    SC  NaN  \n",
       "1                     293 EMERALD DR TRACT  Fairfield    SC  NaN  \n",
       "2                           285 EMERALD DR  Fairfield    SC  NaN  \n",
       "3                   SW OF GIBSON END RD RD  Fairfield    SC  NaN  \n",
       "4                      557 GIBSON END ROAD  Fairfield    SC  NaN  \n",
       "...                                    ...        ...   ...  ...  \n",
       "17480   S 2000FT INT S-20-115 & HWY 34 E H  Fairfield    SC  NaN  \n",
       "17481               1704 GREAT NORTH RD RD  Fairfield    SC  NaN  \n",
       "17482  HWY 215 N, CLOWNEY & JOHN BRICE RDS  Fairfield    SC  NaN  \n",
       "17483                        JOHN BRICE RD  Fairfield    SC  NaN  \n",
       "17490    1423 DEER RUN ROAD SEC 17 LOT 115  Fairfield    SC  NaN  \n",
       "\n",
       "[17244 rows x 6 columns]"
      ]
     },
     "execution_count": 10,
     "metadata": {},
     "output_type": "execute_result"
    }
   ],
   "source": [
    "df"
   ]
  },
  {
   "cell_type": "code",
   "execution_count": null,
   "metadata": {},
   "outputs": [],
   "source": []
  }
 ],
 "metadata": {
  "colab": {
   "collapsed_sections": [],
   "name": "esri_data_download.ipynb",
   "provenance": []
  },
  "kernelspec": {
   "display_name": "Python 3",
   "language": "python",
   "name": "python3"
  },
  "language_info": {
   "codemirror_mode": {
    "name": "ipython",
    "version": 3
   },
   "file_extension": ".py",
   "mimetype": "text/x-python",
   "name": "python",
   "nbconvert_exporter": "python",
   "pygments_lexer": "ipython3",
   "version": "3.8.2"
  }
 },
 "nbformat": 4,
 "nbformat_minor": 4
}
