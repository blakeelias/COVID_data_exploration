{
 "cells": [
  {
   "cell_type": "markdown",
   "metadata": {},
   "source": [
    "(Written by Amir Akhavan)"
   ]
  },
  {
   "cell_type": "code",
   "execution_count": 207,
   "metadata": {
    "colab": {},
    "colab_type": "code",
    "id": "htt81jqInPxb"
   },
   "outputs": [],
   "source": [
    "import requests\n",
    "import pandas as pd\n",
    "import json\n",
    "from pathlib import Path\n",
    "from itertools import cycle\n",
    "from time import sleep\n",
    "from random import random"
   ]
  },
  {
   "cell_type": "code",
   "execution_count": 162,
   "metadata": {},
   "outputs": [],
   "source": [
    "from bs4 import BeautifulSoup\n",
    "from tqdm import tqdm"
   ]
  },
  {
   "cell_type": "code",
   "execution_count": 2,
   "metadata": {},
   "outputs": [],
   "source": [
    "PREPROCESSED_DATA_PATH = Path('../.../data/preprocessed/property_assessor')"
   ]
  },
  {
   "cell_type": "code",
   "execution_count": 3,
   "metadata": {},
   "outputs": [],
   "source": [
    "county_fips_code = '45039'"
   ]
  },
  {
   "cell_type": "code",
   "execution_count": 4,
   "metadata": {
    "colab": {},
    "colab_type": "code",
    "id": "3AuxAXdV-WKp"
   },
   "outputs": [],
   "source": [
    "initial  = \"https://beacon.schneidercorp.com/Application.aspx?AppID=796&LayerID=16296\"\n",
    "x_initial = requests.get(initial)\n",
    "x_initial = x_initial.content.decode(\"utf-8\")"
   ]
  },
  {
   "cell_type": "code",
   "execution_count": 5,
   "metadata": {
    "colab": {},
    "colab_type": "code",
    "id": "PZg3rnHw_pFx"
   },
   "outputs": [],
   "source": [
    "qps_location = x_initial.find('QPS')\n",
    "qps_closing_str = x_initial[qps_location+6:]\n",
    "end = qps_closing_str.find('\"')\n",
    "QPS = qps_closing_str[:end]"
   ]
  },
  {
   "cell_type": "code",
   "execution_count": 13,
   "metadata": {},
   "outputs": [
    {
     "data": {
      "text/plain": [
       "'F9tZvOIY_XZOdUskmaGw54VoDEVPL0bY8E9muKXf1q0Y3RtiKO-fXkr2WvfxscDkbVAKnYudfhVepVVn-oXYgP-dqgsX8get-bxXhSkh4h4NzFwuFmgkFApZxPKkUjTUOnZS8m05u_47GWkMiLArf-BELR2u4O_IsifbxqlkvNtpyWSI9NEdFPBGUG59ko3ZnbGXYYaGVTaUEWlA9LDwawoz8bXObWcDd2mFX2k6SDnSaEkr5mgwe-AqziPV5IUfvXBMc1qOAcgs1In8v_8iYw2'"
      ]
     },
     "execution_count": 13,
     "metadata": {},
     "output_type": "execute_result"
    }
   ],
   "source": [
    "QPS"
   ]
  },
  {
   "cell_type": "code",
   "execution_count": 137,
   "metadata": {
    "colab": {},
    "colab_type": "code",
    "id": "fw5B3S68nXQL"
   },
   "outputs": [],
   "source": [
    "url = f'https://qpublic.schneidercorp.com/api/beaconCore/BufferAndExport?QPS={QPS}'\n",
    "myobj = {\n",
    "    'layerId': '11834', # '16297', #  original: \"11834\",\n",
    "    'keys': [\"001-00-00-003-000\", \"150-00-00-004-000\"],\n",
    "    'distance': 10000000,\n",
    "    'exportType': \"xlsx\",\n",
    "    # 'keys': [\"001-00-00-003-000\", \"028-00-00-004-000\"],\n",
    "    'showParcelId': 'true',\n",
    "    'skipLabelCount': \"0\",\n",
    "    'usePropertyAddress': 'true',\n",
    "    # my additions:\n",
    "    #'Visible': 'true',\n",
    "    #'LayerName': 'Parcels',\n",
    "    #'Query': 'true',\n",
    "    #\"HasMap\":'true',\n",
    "}\n",
    "x = requests.post(url, data = myobj)\n",
    "url_of_csv=\"https://beacon.schneidercorp.com/\""
   ]
  },
  {
   "cell_type": "code",
   "execution_count": 138,
   "metadata": {},
   "outputs": [],
   "source": [
    "# x.content"
   ]
  },
  {
   "cell_type": "code",
   "execution_count": 139,
   "metadata": {
    "colab": {},
    "colab_type": "code",
    "id": "Nmz1Cmn3nahg"
   },
   "outputs": [],
   "source": [
    "str_vals = json.loads(x.content)\n",
    "download_url = url_of_csv+str_vals['d']['DownloadUrl']\n",
    "df = pd.read_excel(download_url)\n",
    "df = df.drop_duplicates()"
   ]
  },
  {
   "cell_type": "code",
   "execution_count": 140,
   "metadata": {},
   "outputs": [],
   "source": [
    "# str_vals['d']"
   ]
  },
  {
   "cell_type": "code",
   "execution_count": 141,
   "metadata": {},
   "outputs": [],
   "source": [
    "geometry = str_vals['d']['BufferGeometry'].split('MULTIPOLYGON')[1].replace('(', '[').replace(')', ']')"
   ]
  },
  {
   "cell_type": "code",
   "execution_count": 142,
   "metadata": {},
   "outputs": [
    {
     "data": {
      "text/html": [
       "<div>\n",
       "<style scoped>\n",
       "    .dataframe tbody tr th:only-of-type {\n",
       "        vertical-align: middle;\n",
       "    }\n",
       "\n",
       "    .dataframe tbody tr th {\n",
       "        vertical-align: top;\n",
       "    }\n",
       "\n",
       "    .dataframe thead th {\n",
       "        text-align: right;\n",
       "    }\n",
       "</style>\n",
       "<table border=\"1\" class=\"dataframe\">\n",
       "  <thead>\n",
       "    <tr style=\"text-align: right;\">\n",
       "      <th></th>\n",
       "      <th>ParcelId</th>\n",
       "      <th>OwnerName</th>\n",
       "      <th>Address</th>\n",
       "      <th>City</th>\n",
       "      <th>State</th>\n",
       "      <th>Zip</th>\n",
       "    </tr>\n",
       "  </thead>\n",
       "  <tbody>\n",
       "    <tr>\n",
       "      <th>0</th>\n",
       "      <td>216-00-00-005-000</td>\n",
       "      <td>CURRENT RESIDENT</td>\n",
       "      <td>2100FT W OF INT S-20-323 &amp; S-20-324</td>\n",
       "      <td>Fairfield</td>\n",
       "      <td>SC</td>\n",
       "      <td>NaN</td>\n",
       "    </tr>\n",
       "    <tr>\n",
       "      <th>1</th>\n",
       "      <td>215-00-00-074-000</td>\n",
       "      <td>CURRENT RESIDENT</td>\n",
       "      <td>293 EMERALD DR TRACT</td>\n",
       "      <td>Fairfield</td>\n",
       "      <td>SC</td>\n",
       "      <td>NaN</td>\n",
       "    </tr>\n",
       "    <tr>\n",
       "      <th>2</th>\n",
       "      <td>215-00-00-102-000</td>\n",
       "      <td>CURRENT RESIDENT</td>\n",
       "      <td>285 EMERALD DR</td>\n",
       "      <td>Fairfield</td>\n",
       "      <td>SC</td>\n",
       "      <td>NaN</td>\n",
       "    </tr>\n",
       "    <tr>\n",
       "      <th>3</th>\n",
       "      <td>026-04-02-005-000</td>\n",
       "      <td>CURRENT RESIDENT</td>\n",
       "      <td>SW OF GIBSON END RD RD</td>\n",
       "      <td>Fairfield</td>\n",
       "      <td>SC</td>\n",
       "      <td>NaN</td>\n",
       "    </tr>\n",
       "    <tr>\n",
       "      <th>4</th>\n",
       "      <td>026-04-02-007-000</td>\n",
       "      <td>CURRENT RESIDENT</td>\n",
       "      <td>557 GIBSON END ROAD</td>\n",
       "      <td>Fairfield</td>\n",
       "      <td>SC</td>\n",
       "      <td>NaN</td>\n",
       "    </tr>\n",
       "    <tr>\n",
       "      <th>...</th>\n",
       "      <td>...</td>\n",
       "      <td>...</td>\n",
       "      <td>...</td>\n",
       "      <td>...</td>\n",
       "      <td>...</td>\n",
       "      <td>...</td>\n",
       "    </tr>\n",
       "    <tr>\n",
       "      <th>17480</th>\n",
       "      <td>141-00-00-031-000</td>\n",
       "      <td>CURRENT RESIDENT</td>\n",
       "      <td>S 2000FT INT S-20-115 &amp; HWY 34 E H</td>\n",
       "      <td>Fairfield</td>\n",
       "      <td>SC</td>\n",
       "      <td>NaN</td>\n",
       "    </tr>\n",
       "    <tr>\n",
       "      <th>17481</th>\n",
       "      <td>077-01-00-002-000</td>\n",
       "      <td>CURRENT RESIDENT</td>\n",
       "      <td>1704 GREAT NORTH RD RD</td>\n",
       "      <td>Fairfield</td>\n",
       "      <td>SC</td>\n",
       "      <td>NaN</td>\n",
       "    </tr>\n",
       "    <tr>\n",
       "      <th>17482</th>\n",
       "      <td>048-00-00-002-000</td>\n",
       "      <td>CURRENT RESIDENT</td>\n",
       "      <td>HWY 215 N, CLOWNEY &amp; JOHN BRICE RDS</td>\n",
       "      <td>Fairfield</td>\n",
       "      <td>SC</td>\n",
       "      <td>NaN</td>\n",
       "    </tr>\n",
       "    <tr>\n",
       "      <th>17483</th>\n",
       "      <td>047-00-00-047-000</td>\n",
       "      <td>CURRENT RESIDENT</td>\n",
       "      <td>JOHN BRICE RD</td>\n",
       "      <td>Fairfield</td>\n",
       "      <td>SC</td>\n",
       "      <td>NaN</td>\n",
       "    </tr>\n",
       "    <tr>\n",
       "      <th>17490</th>\n",
       "      <td>114-01-01-021-000</td>\n",
       "      <td>CURRENT RESIDENT</td>\n",
       "      <td>1423 DEER RUN ROAD SEC 17 LOT 115</td>\n",
       "      <td>Fairfield</td>\n",
       "      <td>SC</td>\n",
       "      <td>NaN</td>\n",
       "    </tr>\n",
       "  </tbody>\n",
       "</table>\n",
       "<p>17244 rows × 6 columns</p>\n",
       "</div>"
      ],
      "text/plain": [
       "                ParcelId         OwnerName  \\\n",
       "0      216-00-00-005-000  CURRENT RESIDENT   \n",
       "1      215-00-00-074-000  CURRENT RESIDENT   \n",
       "2      215-00-00-102-000  CURRENT RESIDENT   \n",
       "3      026-04-02-005-000  CURRENT RESIDENT   \n",
       "4      026-04-02-007-000  CURRENT RESIDENT   \n",
       "...                  ...               ...   \n",
       "17480  141-00-00-031-000  CURRENT RESIDENT   \n",
       "17481  077-01-00-002-000  CURRENT RESIDENT   \n",
       "17482  048-00-00-002-000  CURRENT RESIDENT   \n",
       "17483  047-00-00-047-000  CURRENT RESIDENT   \n",
       "17490  114-01-01-021-000  CURRENT RESIDENT   \n",
       "\n",
       "                                   Address       City State  Zip  \n",
       "0      2100FT W OF INT S-20-323 & S-20-324  Fairfield    SC  NaN  \n",
       "1                     293 EMERALD DR TRACT  Fairfield    SC  NaN  \n",
       "2                           285 EMERALD DR  Fairfield    SC  NaN  \n",
       "3                   SW OF GIBSON END RD RD  Fairfield    SC  NaN  \n",
       "4                      557 GIBSON END ROAD  Fairfield    SC  NaN  \n",
       "...                                    ...        ...   ...  ...  \n",
       "17480   S 2000FT INT S-20-115 & HWY 34 E H  Fairfield    SC  NaN  \n",
       "17481               1704 GREAT NORTH RD RD  Fairfield    SC  NaN  \n",
       "17482  HWY 215 N, CLOWNEY & JOHN BRICE RDS  Fairfield    SC  NaN  \n",
       "17483                        JOHN BRICE RD  Fairfield    SC  NaN  \n",
       "17490    1423 DEER RUN ROAD SEC 17 LOT 115  Fairfield    SC  NaN  \n",
       "\n",
       "[17244 rows x 6 columns]"
      ]
     },
     "execution_count": 142,
     "metadata": {},
     "output_type": "execute_result"
    }
   ],
   "source": [
    "df"
   ]
  },
  {
   "cell_type": "code",
   "execution_count": 143,
   "metadata": {},
   "outputs": [],
   "source": [
    "#df = df.set_index('ParcelId')\n",
    "#df"
   ]
  },
  {
   "cell_type": "code",
   "execution_count": 144,
   "metadata": {},
   "outputs": [
    {
     "data": {
      "text/plain": [
       "0        216-00-00-005-000\n",
       "1        215-00-00-074-000\n",
       "2        215-00-00-102-000\n",
       "3        026-04-02-005-000\n",
       "4        026-04-02-007-000\n",
       "               ...        \n",
       "17480    141-00-00-031-000\n",
       "17481    077-01-00-002-000\n",
       "17482    048-00-00-002-000\n",
       "17483    047-00-00-047-000\n",
       "17490    114-01-01-021-000\n",
       "Name: ParcelId, Length: 17244, dtype: object"
      ]
     },
     "execution_count": 144,
     "metadata": {},
     "output_type": "execute_result"
    }
   ],
   "source": [
    "parcel_ids = df['ParcelId']\n",
    "parcel_ids"
   ]
  },
  {
   "cell_type": "code",
   "execution_count": 193,
   "metadata": {},
   "outputs": [
    {
     "data": {
      "text/plain": [
       "['41.169.151.90:46799',\n",
       " '103.217.173.210:53905',\n",
       " '54.180.116.100:80',\n",
       " '134.209.23.176:80',\n",
       " '13.232.204.214:80',\n",
       " '169.57.1.84:8123',\n",
       " '200.35.49.89:43006',\n",
       " '175.212.226.57:80',\n",
       " '159.224.182.206:51578',\n",
       " '103.235.199.46:31611',\n",
       " '139.194.11.216:8080',\n",
       " '103.103.212.25:53281',\n",
       " '165.16.118.206:8080',\n",
       " '37.220.195.14:53281',\n",
       " '177.93.97.77:37113',\n",
       " '103.225.206.22:31777',\n",
       " '89.34.208.223:50478',\n",
       " '210.56.245.101:8080',\n",
       " '5.133.8.209:5836',\n",
       " '195.230.115.115:8080']"
      ]
     },
     "execution_count": 193,
     "metadata": {},
     "output_type": "execute_result"
    }
   ],
   "source": [
    "proxies = '''41.169.151.90\t46799\tZA\telite proxy\tno\n",
    "103.217.173.210\t53905\tID\telite proxy\tno\n",
    "54.180.116.100\t80\tKR\telite proxy\tno\n",
    "134.209.23.176\t80\tGB\telite proxy\tno\n",
    "13.232.204.214\t80\tIN\telite proxy\tno\n",
    "169.57.1.84\t8123\tMX\telite proxy\tno\n",
    "200.35.49.89\t43006\tCO\telite proxy\tno\n",
    "175.212.226.57\t80\tKR\telite proxy\tno\n",
    "159.224.182.206\t51578\tUA\telite proxy\tno\n",
    "103.235.199.46\t31611\tNP\telite proxy\tno\n",
    "139.194.11.216\t8080\tID\telite proxy\tno\n",
    "103.103.212.25\t53281\tIN\telite proxy\tno\n",
    "165.16.118.206\t8080\tLY\telite proxy\tno\n",
    "37.220.195.14\t53281\tHU\telite proxy\tno\n",
    "177.93.97.77\t37113\tBR\telite proxy\tno\n",
    "103.225.206.22\t31777\tIN\telite proxy\tno\n",
    "89.34.208.223\t50478\tRO\telite proxy\tno\n",
    "210.56.245.101\t8080\tAU\telite proxy\tno\n",
    "5.133.8.209\t5836\tPL\telite proxy\tno\n",
    "195.230.115.115\t8080\tUA\telite proxy\tno'''\n",
    "proxies = [':'.join(proxy.split('\\t')[:2]) for proxy in proxies.split('\\n')]\n",
    "proxies"
   ]
  },
  {
   "cell_type": "code",
   "execution_count": 203,
   "metadata": {},
   "outputs": [],
   "source": [
    "def lookup_parcel_id(parcel_id, proxy):\n",
    "    proxies = {\n",
    "        #'http': 'http://85.10.219.97:1080',\n",
    "        #'https': 'http://85.10.219.97:1080',\n",
    "        #'http': 'http://41.169.151.90:46799'\n",
    "        #'http': 'http://54.180.116.100:80'\n",
    "        'http': 'http://' + proxy\n",
    "    }\n",
    "    \n",
    "    property_lookup_url = 'https://beacon.schneidercorp.com/Application.aspx?AppID=796&LayerID=11834&PageTypeID=4&PageID=5738&Q=1649139588&KeyValue='\n",
    "    url = property_lookup_url + parcel_id\n",
    "    html = requests.get(url, proxies=proxies).content.decode(\"utf-8\")\n",
    "    return html"
   ]
  },
  {
   "cell_type": "code",
   "execution_count": 204,
   "metadata": {},
   "outputs": [],
   "source": [
    "def market_value(parcel_html):\n",
    "    #try:\n",
    "    #'Total Market Value' in html\n",
    "    print('Total Market Value' in parcel_html)\n",
    "    idx = parcel_html.index('Total Market Value')\n",
    "    substring = parcel_html[idx:]\n",
    "    idx = substring.index('$')\n",
    "    substring = substring[idx:]\n",
    "    idx = substring.index('</td>')\n",
    "    value_str = substring[1:idx]\n",
    "    return float(value_str.replace(',', ''))\n",
    "    #except:\n",
    "    #    return float('NaN')"
   ]
  },
  {
   "cell_type": "code",
   "execution_count": 205,
   "metadata": {},
   "outputs": [
    {
     "name": "stderr",
     "output_type": "stream",
     "text": [
      "0it [00:00, ?it/s]"
     ]
    },
    {
     "name": "stdout",
     "output_type": "stream",
     "text": [
      "216-00-00-005-000\n",
      "0 False\n",
      "1 False\n",
      "2 False\n",
      "3 False\n",
      "4 False\n",
      "5 False\n",
      "6 False\n",
      "7 False\n",
      "8 False\n",
      "9 False\n",
      "10 False\n",
      "11 False\n",
      "12 False\n",
      "13 False\n",
      "14 False\n",
      "15 False\n",
      "16 False\n",
      "17 False\n",
      "18 False\n"
     ]
    },
    {
     "name": "stderr",
     "output_type": "stream",
     "text": [
      "1it [00:11, 11.87s/it]"
     ]
    },
    {
     "name": "stdout",
     "output_type": "stream",
     "text": [
      "19 False\n"
     ]
    },
    {
     "name": "stderr",
     "output_type": "stream",
     "text": [
      "\n"
     ]
    },
    {
     "ename": "ValueError",
     "evalue": "Length of values does not match length of index",
     "output_type": "error",
     "traceback": [
      "\u001b[0;31m---------------------------------------------------------------------------\u001b[0m",
      "\u001b[0;31mValueError\u001b[0m                                Traceback (most recent call last)",
      "\u001b[0;32m<ipython-input-205-2b904598c71b>\u001b[0m in \u001b[0;36m<module>\u001b[0;34m\u001b[0m\n\u001b[1;32m     14\u001b[0m         \u001b[0;31m#market_values.append(value)\u001b[0m\u001b[0;34m\u001b[0m\u001b[0;34m\u001b[0m\u001b[0;34m\u001b[0m\u001b[0m\n\u001b[1;32m     15\u001b[0m         \u001b[0;31m# print(df.iloc[i]) # ['MarketValue'] = value\u001b[0m\u001b[0;34m\u001b[0m\u001b[0;34m\u001b[0m\u001b[0;34m\u001b[0m\u001b[0m\n\u001b[0;32m---> 16\u001b[0;31m \u001b[0mdf\u001b[0m\u001b[0;34m[\u001b[0m\u001b[0;34m'MarketValue'\u001b[0m\u001b[0;34m]\u001b[0m \u001b[0;34m=\u001b[0m \u001b[0mmarket_values\u001b[0m\u001b[0;34m\u001b[0m\u001b[0;34m\u001b[0m\u001b[0m\n\u001b[0m\u001b[1;32m     17\u001b[0m \u001b[0mdf\u001b[0m\u001b[0;34m\u001b[0m\u001b[0;34m\u001b[0m\u001b[0m\n",
      "\u001b[0;32m~/COVID_data_exploration/env/lib/python3.8/site-packages/pandas/core/frame.py\u001b[0m in \u001b[0;36m__setitem__\u001b[0;34m(self, key, value)\u001b[0m\n\u001b[1;32m   2936\u001b[0m         \u001b[0;32melse\u001b[0m\u001b[0;34m:\u001b[0m\u001b[0;34m\u001b[0m\u001b[0;34m\u001b[0m\u001b[0m\n\u001b[1;32m   2937\u001b[0m             \u001b[0;31m# set column\u001b[0m\u001b[0;34m\u001b[0m\u001b[0;34m\u001b[0m\u001b[0;34m\u001b[0m\u001b[0m\n\u001b[0;32m-> 2938\u001b[0;31m             \u001b[0mself\u001b[0m\u001b[0;34m.\u001b[0m\u001b[0m_set_item\u001b[0m\u001b[0;34m(\u001b[0m\u001b[0mkey\u001b[0m\u001b[0;34m,\u001b[0m \u001b[0mvalue\u001b[0m\u001b[0;34m)\u001b[0m\u001b[0;34m\u001b[0m\u001b[0;34m\u001b[0m\u001b[0m\n\u001b[0m\u001b[1;32m   2939\u001b[0m \u001b[0;34m\u001b[0m\u001b[0m\n\u001b[1;32m   2940\u001b[0m     \u001b[0;32mdef\u001b[0m \u001b[0m_setitem_slice\u001b[0m\u001b[0;34m(\u001b[0m\u001b[0mself\u001b[0m\u001b[0;34m,\u001b[0m \u001b[0mkey\u001b[0m\u001b[0;34m,\u001b[0m \u001b[0mvalue\u001b[0m\u001b[0;34m)\u001b[0m\u001b[0;34m:\u001b[0m\u001b[0;34m\u001b[0m\u001b[0;34m\u001b[0m\u001b[0m\n",
      "\u001b[0;32m~/COVID_data_exploration/env/lib/python3.8/site-packages/pandas/core/frame.py\u001b[0m in \u001b[0;36m_set_item\u001b[0;34m(self, key, value)\u001b[0m\n\u001b[1;32m   2998\u001b[0m \u001b[0;34m\u001b[0m\u001b[0m\n\u001b[1;32m   2999\u001b[0m         \u001b[0mself\u001b[0m\u001b[0;34m.\u001b[0m\u001b[0m_ensure_valid_index\u001b[0m\u001b[0;34m(\u001b[0m\u001b[0mvalue\u001b[0m\u001b[0;34m)\u001b[0m\u001b[0;34m\u001b[0m\u001b[0;34m\u001b[0m\u001b[0m\n\u001b[0;32m-> 3000\u001b[0;31m         \u001b[0mvalue\u001b[0m \u001b[0;34m=\u001b[0m \u001b[0mself\u001b[0m\u001b[0;34m.\u001b[0m\u001b[0m_sanitize_column\u001b[0m\u001b[0;34m(\u001b[0m\u001b[0mkey\u001b[0m\u001b[0;34m,\u001b[0m \u001b[0mvalue\u001b[0m\u001b[0;34m)\u001b[0m\u001b[0;34m\u001b[0m\u001b[0;34m\u001b[0m\u001b[0m\n\u001b[0m\u001b[1;32m   3001\u001b[0m         \u001b[0mNDFrame\u001b[0m\u001b[0;34m.\u001b[0m\u001b[0m_set_item\u001b[0m\u001b[0;34m(\u001b[0m\u001b[0mself\u001b[0m\u001b[0;34m,\u001b[0m \u001b[0mkey\u001b[0m\u001b[0;34m,\u001b[0m \u001b[0mvalue\u001b[0m\u001b[0;34m)\u001b[0m\u001b[0;34m\u001b[0m\u001b[0;34m\u001b[0m\u001b[0m\n\u001b[1;32m   3002\u001b[0m \u001b[0;34m\u001b[0m\u001b[0m\n",
      "\u001b[0;32m~/COVID_data_exploration/env/lib/python3.8/site-packages/pandas/core/frame.py\u001b[0m in \u001b[0;36m_sanitize_column\u001b[0;34m(self, key, value, broadcast)\u001b[0m\n\u001b[1;32m   3634\u001b[0m \u001b[0;34m\u001b[0m\u001b[0m\n\u001b[1;32m   3635\u001b[0m             \u001b[0;31m# turn me into an ndarray\u001b[0m\u001b[0;34m\u001b[0m\u001b[0;34m\u001b[0m\u001b[0;34m\u001b[0m\u001b[0m\n\u001b[0;32m-> 3636\u001b[0;31m             \u001b[0mvalue\u001b[0m \u001b[0;34m=\u001b[0m \u001b[0msanitize_index\u001b[0m\u001b[0;34m(\u001b[0m\u001b[0mvalue\u001b[0m\u001b[0;34m,\u001b[0m \u001b[0mself\u001b[0m\u001b[0;34m.\u001b[0m\u001b[0mindex\u001b[0m\u001b[0;34m,\u001b[0m \u001b[0mcopy\u001b[0m\u001b[0;34m=\u001b[0m\u001b[0;32mFalse\u001b[0m\u001b[0;34m)\u001b[0m\u001b[0;34m\u001b[0m\u001b[0;34m\u001b[0m\u001b[0m\n\u001b[0m\u001b[1;32m   3637\u001b[0m             \u001b[0;32mif\u001b[0m \u001b[0;32mnot\u001b[0m \u001b[0misinstance\u001b[0m\u001b[0;34m(\u001b[0m\u001b[0mvalue\u001b[0m\u001b[0;34m,\u001b[0m \u001b[0;34m(\u001b[0m\u001b[0mnp\u001b[0m\u001b[0;34m.\u001b[0m\u001b[0mndarray\u001b[0m\u001b[0;34m,\u001b[0m \u001b[0mIndex\u001b[0m\u001b[0;34m)\u001b[0m\u001b[0;34m)\u001b[0m\u001b[0;34m:\u001b[0m\u001b[0;34m\u001b[0m\u001b[0;34m\u001b[0m\u001b[0m\n\u001b[1;32m   3638\u001b[0m                 \u001b[0;32mif\u001b[0m \u001b[0misinstance\u001b[0m\u001b[0;34m(\u001b[0m\u001b[0mvalue\u001b[0m\u001b[0;34m,\u001b[0m \u001b[0mlist\u001b[0m\u001b[0;34m)\u001b[0m \u001b[0;32mand\u001b[0m \u001b[0mlen\u001b[0m\u001b[0;34m(\u001b[0m\u001b[0mvalue\u001b[0m\u001b[0;34m)\u001b[0m \u001b[0;34m>\u001b[0m \u001b[0;36m0\u001b[0m\u001b[0;34m:\u001b[0m\u001b[0;34m\u001b[0m\u001b[0;34m\u001b[0m\u001b[0m\n",
      "\u001b[0;32m~/COVID_data_exploration/env/lib/python3.8/site-packages/pandas/core/internals/construction.py\u001b[0m in \u001b[0;36msanitize_index\u001b[0;34m(data, index, copy)\u001b[0m\n\u001b[1;32m    609\u001b[0m \u001b[0;34m\u001b[0m\u001b[0m\n\u001b[1;32m    610\u001b[0m     \u001b[0;32mif\u001b[0m \u001b[0mlen\u001b[0m\u001b[0;34m(\u001b[0m\u001b[0mdata\u001b[0m\u001b[0;34m)\u001b[0m \u001b[0;34m!=\u001b[0m \u001b[0mlen\u001b[0m\u001b[0;34m(\u001b[0m\u001b[0mindex\u001b[0m\u001b[0;34m)\u001b[0m\u001b[0;34m:\u001b[0m\u001b[0;34m\u001b[0m\u001b[0;34m\u001b[0m\u001b[0m\n\u001b[0;32m--> 611\u001b[0;31m         \u001b[0;32mraise\u001b[0m \u001b[0mValueError\u001b[0m\u001b[0;34m(\u001b[0m\u001b[0;34m\"Length of values does not match length of index\"\u001b[0m\u001b[0;34m)\u001b[0m\u001b[0;34m\u001b[0m\u001b[0;34m\u001b[0m\u001b[0m\n\u001b[0m\u001b[1;32m    612\u001b[0m \u001b[0;34m\u001b[0m\u001b[0m\n\u001b[1;32m    613\u001b[0m     \u001b[0;32mif\u001b[0m \u001b[0misinstance\u001b[0m\u001b[0;34m(\u001b[0m\u001b[0mdata\u001b[0m\u001b[0;34m,\u001b[0m \u001b[0mABCIndexClass\u001b[0m\u001b[0;34m)\u001b[0m \u001b[0;32mand\u001b[0m \u001b[0;32mnot\u001b[0m \u001b[0mcopy\u001b[0m\u001b[0;34m:\u001b[0m\u001b[0;34m\u001b[0m\u001b[0;34m\u001b[0m\u001b[0m\n",
      "\u001b[0;31mValueError\u001b[0m: Length of values does not match length of index"
     ]
    }
   ],
   "source": [
    "market_values = []\n",
    "for i, parcel_id in tqdm(enumerate(parcel_ids)):\n",
    "    if i > 0:\n",
    "        break\n",
    "    print(parcel_id)\n",
    "    for j, proxy in enumerate(proxies):\n",
    "        sleep(random())\n",
    "        #try:\n",
    "        parcel_html = lookup_parcel_id(parcel_id, proxy)\n",
    "        print(j, 'Total Market Value' in parcel_html)\n",
    "        #except:\n",
    "        #    print(j, 'error')\n",
    "        #value = market_value(parcel_html)\n",
    "        #market_values.append(value)\n",
    "        # print(df.iloc[i]) # ['MarketValue'] = value\n",
    "df['MarketValue'] = market_values\n",
    "df"
   ]
  },
  {
   "cell_type": "code",
   "execution_count": 206,
   "metadata": {},
   "outputs": [
    {
     "data": {
      "text/plain": [
       "'<html>\\r\\n<head>\\r\\n    <title>You are not authorized</title>\\r\\n    <style>\\r\\n        * {\\r\\n            font-family: Tahoma, Arial, sans-serif;\\r\\n            font-size: 10pt;\\r\\n        }\\r\\n\\r\\n        h1 {\\r\\n            font-family: Tahoma, Arial, sans-serif;\\r\\n            font-size: 14pt;\\r\\n            font-weight: bold;\\r\\n            color: gray;\\r\\n        }\\r\\n        h2 {\\r\\n            font-family: Tahoma, Arial, sans-serif;\\r\\n            font-size: 12pt;\\r\\n            font-weight: bold;\\r\\n            color: gray;\\r\\n        }\\r\\n        small {\\r\\n            font-size: 10pt;\\r\\n        }\\r\\n    </style>\\r\\n    <!-- <script src=\"http://vanilla-js.com/vanilla.js\"></script> -->\\r\\n</head>\\r\\n<body>\\r\\n\\r\\n    <img style=\"width:300px; margin-right:50px; margin-top:24px;\" src=\"data:image/png;base64,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\">\\r\\n    <img style=\"width:300px; margin-top:24px;\" src=\"data:image/png;base64,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\">\\r\\n\\r\\n    <h1>You are not authorized to view this website.</h1>\\r\\n    <p>\\r\\n        The Beacon and qPublic.net web administrators have detected patterns of\\r\\n        activity that do not represent regular end user use on one or more of the\\r\\n        Beacon and qPublic.net websites.  If you are viewing this message, the IP address of\\r\\n        the computer you are currently using to browse this website has been blocked\\r\\n        because it is associated with the prohibited activity that was detected, per our\\r\\n        <a href=\"http://schneidercorp.com/softwareterms/\">Global Terms of Service</a>.\\r\\n        To restore your computer\\'s access to the Beacon and qPublic.net websites, please contact The\\r\\n        Schneider Corporation by email at this address:\\r\\n        <a id=\"lnk\" href=\"mailto:supportgis@schneidercorp.com\">supportgis@schneidercorp.com</a>\\r\\n    </p>\\r\\n    <p> </p>\\r\\n    <h1>Do you need to download large data sets?</h1>\\r\\n    <p>\\r\\n            Activities such as automated data mining and automated\\r\\n            data collection will be detected as prohibited patterns of\\r\\n            activity on Beacon and qPublic.net websites.  If you need to acquire large data sets\\r\\n            of the information available on one or more Beacon and qPublic.net websites, please\\r\\n            contact Schneider Geospatial, LLC by email at this address:\\r\\n            <a href=\"mailto:supportgis@schneidercorp.com\">supportgis@schneidercorp.com</a>.\\r\\n            Schneider\\'s personnel can put you in contact with the\\r\\n            entities that own and maintain the information available on Beacon and qPublic.net\\r\\n            websites, and offer services to provide direct downloads of the data\\r\\n            sets.\\r\\n    </p>\\r\\n\\r\\n    <p>\\r\\n        <h2>My IP Address <small>(support will ask for this)</small></h2>\\r\\n        <span id=\"ip\"></span>\\r\\n    </p>\\r\\n\\r\\n    <script>\\r\\n        var r = new XMLHttpRequest();\\r\\n        r.open(\"POST\", \"/myip.aspx\", true);\\r\\n        r.onreadystatechange = function () {\\r\\n            if (r.readyState != 4 || r.status != 200) return;\\r\\n            document.getElementById(\"ip\").innerText = r.responseText;\\r\\n            document.getElementById(\"lnk\").attributes[\"href\"].value += \"?body=Blocked%20IP%20address:%20\" + r.responseText;\\r\\n        };\\r\\n        r.send(\"hey\");\\r\\n    </script>\\r\\n</body>\\r\\n</html>\\r\\n'"
      ]
     },
     "execution_count": 206,
     "metadata": {},
     "output_type": "execute_result"
    }
   ],
   "source": [
    "parcel_html"
   ]
  },
  {
   "cell_type": "code",
   "execution_count": 201,
   "metadata": {},
   "outputs": [
    {
     "data": {
      "text/plain": [
       "20"
      ]
     },
     "execution_count": 201,
     "metadata": {},
     "output_type": "execute_result"
    }
   ],
   "source": [
    "len(proxies)"
   ]
  },
  {
   "cell_type": "code",
   "execution_count": 8,
   "metadata": {},
   "outputs": [],
   "source": [
    "path = PREPROCESSED_DATA_PATH / 'fips' / county_fips_code\n",
    "!mkdir -p {path}\n",
    "df.to_csv(path / 'properties.csv')"
   ]
  },
  {
   "cell_type": "code",
   "execution_count": 9,
   "metadata": {
    "colab": {
     "base_uri": "https://localhost:8080/",
     "height": 34
    },
    "colab_type": "code",
    "id": "i5IwW4tTWn-I",
    "outputId": "be7d968c-2325-4323-9c76-dab9db0b83a6"
   },
   "outputs": [
    {
     "name": "stdout",
     "output_type": "stream",
     "text": [
      "17245 ../../data/preprocessed/property_assessor/fips/45039/properties.csv\n"
     ]
    }
   ],
   "source": [
    "!wc -l {path}/properties.csv"
   ]
  },
  {
   "cell_type": "code",
   "execution_count": 10,
   "metadata": {
    "colab": {},
    "colab_type": "code",
    "id": "mxQWZO4sJfWU"
   },
   "outputs": [
    {
     "data": {
      "text/html": [
       "<div>\n",
       "<style scoped>\n",
       "    .dataframe tbody tr th:only-of-type {\n",
       "        vertical-align: middle;\n",
       "    }\n",
       "\n",
       "    .dataframe tbody tr th {\n",
       "        vertical-align: top;\n",
       "    }\n",
       "\n",
       "    .dataframe thead th {\n",
       "        text-align: right;\n",
       "    }\n",
       "</style>\n",
       "<table border=\"1\" class=\"dataframe\">\n",
       "  <thead>\n",
       "    <tr style=\"text-align: right;\">\n",
       "      <th></th>\n",
       "      <th>ParcelId</th>\n",
       "      <th>OwnerName</th>\n",
       "      <th>Address</th>\n",
       "      <th>City</th>\n",
       "      <th>State</th>\n",
       "      <th>Zip</th>\n",
       "    </tr>\n",
       "  </thead>\n",
       "  <tbody>\n",
       "    <tr>\n",
       "      <th>0</th>\n",
       "      <td>216-00-00-005-000</td>\n",
       "      <td>CURRENT RESIDENT</td>\n",
       "      <td>2100FT W OF INT S-20-323 &amp; S-20-324</td>\n",
       "      <td>Fairfield</td>\n",
       "      <td>SC</td>\n",
       "      <td>NaN</td>\n",
       "    </tr>\n",
       "    <tr>\n",
       "      <th>1</th>\n",
       "      <td>215-00-00-074-000</td>\n",
       "      <td>CURRENT RESIDENT</td>\n",
       "      <td>293 EMERALD DR TRACT</td>\n",
       "      <td>Fairfield</td>\n",
       "      <td>SC</td>\n",
       "      <td>NaN</td>\n",
       "    </tr>\n",
       "    <tr>\n",
       "      <th>2</th>\n",
       "      <td>215-00-00-102-000</td>\n",
       "      <td>CURRENT RESIDENT</td>\n",
       "      <td>285 EMERALD DR</td>\n",
       "      <td>Fairfield</td>\n",
       "      <td>SC</td>\n",
       "      <td>NaN</td>\n",
       "    </tr>\n",
       "    <tr>\n",
       "      <th>3</th>\n",
       "      <td>026-04-02-005-000</td>\n",
       "      <td>CURRENT RESIDENT</td>\n",
       "      <td>SW OF GIBSON END RD RD</td>\n",
       "      <td>Fairfield</td>\n",
       "      <td>SC</td>\n",
       "      <td>NaN</td>\n",
       "    </tr>\n",
       "    <tr>\n",
       "      <th>4</th>\n",
       "      <td>026-04-02-007-000</td>\n",
       "      <td>CURRENT RESIDENT</td>\n",
       "      <td>557 GIBSON END ROAD</td>\n",
       "      <td>Fairfield</td>\n",
       "      <td>SC</td>\n",
       "      <td>NaN</td>\n",
       "    </tr>\n",
       "    <tr>\n",
       "      <th>...</th>\n",
       "      <td>...</td>\n",
       "      <td>...</td>\n",
       "      <td>...</td>\n",
       "      <td>...</td>\n",
       "      <td>...</td>\n",
       "      <td>...</td>\n",
       "    </tr>\n",
       "    <tr>\n",
       "      <th>17480</th>\n",
       "      <td>141-00-00-031-000</td>\n",
       "      <td>CURRENT RESIDENT</td>\n",
       "      <td>S 2000FT INT S-20-115 &amp; HWY 34 E H</td>\n",
       "      <td>Fairfield</td>\n",
       "      <td>SC</td>\n",
       "      <td>NaN</td>\n",
       "    </tr>\n",
       "    <tr>\n",
       "      <th>17481</th>\n",
       "      <td>077-01-00-002-000</td>\n",
       "      <td>CURRENT RESIDENT</td>\n",
       "      <td>1704 GREAT NORTH RD RD</td>\n",
       "      <td>Fairfield</td>\n",
       "      <td>SC</td>\n",
       "      <td>NaN</td>\n",
       "    </tr>\n",
       "    <tr>\n",
       "      <th>17482</th>\n",
       "      <td>048-00-00-002-000</td>\n",
       "      <td>CURRENT RESIDENT</td>\n",
       "      <td>HWY 215 N, CLOWNEY &amp; JOHN BRICE RDS</td>\n",
       "      <td>Fairfield</td>\n",
       "      <td>SC</td>\n",
       "      <td>NaN</td>\n",
       "    </tr>\n",
       "    <tr>\n",
       "      <th>17483</th>\n",
       "      <td>047-00-00-047-000</td>\n",
       "      <td>CURRENT RESIDENT</td>\n",
       "      <td>JOHN BRICE RD</td>\n",
       "      <td>Fairfield</td>\n",
       "      <td>SC</td>\n",
       "      <td>NaN</td>\n",
       "    </tr>\n",
       "    <tr>\n",
       "      <th>17490</th>\n",
       "      <td>114-01-01-021-000</td>\n",
       "      <td>CURRENT RESIDENT</td>\n",
       "      <td>1423 DEER RUN ROAD SEC 17 LOT 115</td>\n",
       "      <td>Fairfield</td>\n",
       "      <td>SC</td>\n",
       "      <td>NaN</td>\n",
       "    </tr>\n",
       "  </tbody>\n",
       "</table>\n",
       "<p>17244 rows × 6 columns</p>\n",
       "</div>"
      ],
      "text/plain": [
       "                ParcelId         OwnerName  \\\n",
       "0      216-00-00-005-000  CURRENT RESIDENT   \n",
       "1      215-00-00-074-000  CURRENT RESIDENT   \n",
       "2      215-00-00-102-000  CURRENT RESIDENT   \n",
       "3      026-04-02-005-000  CURRENT RESIDENT   \n",
       "4      026-04-02-007-000  CURRENT RESIDENT   \n",
       "...                  ...               ...   \n",
       "17480  141-00-00-031-000  CURRENT RESIDENT   \n",
       "17481  077-01-00-002-000  CURRENT RESIDENT   \n",
       "17482  048-00-00-002-000  CURRENT RESIDENT   \n",
       "17483  047-00-00-047-000  CURRENT RESIDENT   \n",
       "17490  114-01-01-021-000  CURRENT RESIDENT   \n",
       "\n",
       "                                   Address       City State  Zip  \n",
       "0      2100FT W OF INT S-20-323 & S-20-324  Fairfield    SC  NaN  \n",
       "1                     293 EMERALD DR TRACT  Fairfield    SC  NaN  \n",
       "2                           285 EMERALD DR  Fairfield    SC  NaN  \n",
       "3                   SW OF GIBSON END RD RD  Fairfield    SC  NaN  \n",
       "4                      557 GIBSON END ROAD  Fairfield    SC  NaN  \n",
       "...                                    ...        ...   ...  ...  \n",
       "17480   S 2000FT INT S-20-115 & HWY 34 E H  Fairfield    SC  NaN  \n",
       "17481               1704 GREAT NORTH RD RD  Fairfield    SC  NaN  \n",
       "17482  HWY 215 N, CLOWNEY & JOHN BRICE RDS  Fairfield    SC  NaN  \n",
       "17483                        JOHN BRICE RD  Fairfield    SC  NaN  \n",
       "17490    1423 DEER RUN ROAD SEC 17 LOT 115  Fairfield    SC  NaN  \n",
       "\n",
       "[17244 rows x 6 columns]"
      ]
     },
     "execution_count": 10,
     "metadata": {},
     "output_type": "execute_result"
    }
   ],
   "source": [
    "df"
   ]
  },
  {
   "cell_type": "code",
   "execution_count": null,
   "metadata": {},
   "outputs": [],
   "source": []
  }
 ],
 "metadata": {
  "colab": {
   "collapsed_sections": [],
   "name": "esri_data_download.ipynb",
   "provenance": []
  },
  "kernelspec": {
   "display_name": "Python 3",
   "language": "python",
   "name": "python3"
  },
  "language_info": {
   "codemirror_mode": {
    "name": "ipython",
    "version": 3
   },
   "file_extension": ".py",
   "mimetype": "text/x-python",
   "name": "python",
   "nbconvert_exporter": "python",
   "pygments_lexer": "ipython3",
   "version": "3.8.2"
  }
 },
 "nbformat": 4,
 "nbformat_minor": 4
}
